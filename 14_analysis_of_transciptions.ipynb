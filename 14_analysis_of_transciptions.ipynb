{
 "cells": [
  {
   "cell_type": "code",
   "execution_count": 49,
   "metadata": {},
   "outputs": [
    {
     "name": "stdout",
     "output_type": "stream",
     "text": [
      "No transcripts found for : 4608    /home/peterr/macocu/task6_speech/dat...\n",
      "6110    /home/peterr/macocu/task6_speech/dat...\n",
      "Name: path, dtype: object\n"
     ]
    },
    {
     "data": {
      "text/html": [
       "<div>\n",
       "<style scoped>\n",
       "    .dataframe tbody tr th:only-of-type {\n",
       "        vertical-align: middle;\n",
       "    }\n",
       "\n",
       "    .dataframe tbody tr th {\n",
       "        vertical-align: top;\n",
       "    }\n",
       "\n",
       "    .dataframe thead th {\n",
       "        text-align: right;\n",
       "    }\n",
       "</style>\n",
       "<table border=\"1\" class=\"dataframe\">\n",
       "  <thead>\n",
       "    <tr style=\"text-align: right;\">\n",
       "      <th></th>\n",
       "      <th>path</th>\n",
       "      <th>sentence_uncut</th>\n",
       "      <th>original_file</th>\n",
       "      <th>words</th>\n",
       "      <th>words_start_times</th>\n",
       "      <th>words_end_times</th>\n",
       "      <th>duration</th>\n",
       "      <th>sentence</th>\n",
       "    </tr>\n",
       "  </thead>\n",
       "  <tbody>\n",
       "    <tr>\n",
       "      <th>0</th>\n",
       "      <td>/home/peterr/macocu/task6_speech/dat...</td>\n",
       "      <td>dakle uvaženi kolega ja sam pozorno ...</td>\n",
       "      <td>/home/peterr/macocu/task6_speech/dat...</td>\n",
       "      <td>[dakle, uvaženi, kolega, ja, sam, po...</td>\n",
       "      <td>[0.561111111111111, 1.60317460317460...</td>\n",
       "      <td>[0.8416666666666666, 2.0440476190476...</td>\n",
       "      <td>5.0500</td>\n",
       "      <td>dakle uvaženi kolega ja sam pozorno ...</td>\n",
       "    </tr>\n",
       "    <tr>\n",
       "      <th>1</th>\n",
       "      <td>/home/peterr/macocu/task6_speech/dat...</td>\n",
       "      <td>dakle uvaženi kolega ja sam pozorno ...</td>\n",
       "      <td>/home/peterr/macocu/task6_speech/dat...</td>\n",
       "      <td>[laganje, ispomenuli, ste, riječ, ou...</td>\n",
       "      <td>[0.2805555555555555, 0.8216269841269...</td>\n",
       "      <td>[0.5410714285714285, 1.4628968253968...</td>\n",
       "      <td>5.0500</td>\n",
       "      <td>izlaganje i spomenuli ste riječ outs...</td>\n",
       "    </tr>\n",
       "    <tr>\n",
       "      <th>2</th>\n",
       "      <td>/home/peterr/macocu/task6_speech/dat...</td>\n",
       "      <td>i što uopće danas znači živjeti na j...</td>\n",
       "      <td>/home/peterr/macocu/task6_speech/dat...</td>\n",
       "      <td>[i, stoopće, danas, znači, živjeti, ...</td>\n",
       "      <td>[0.06018, 0.14042, 0.441319999999999...</td>\n",
       "      <td>[0.06018, 0.38114, 0.58174, 0.862579...</td>\n",
       "      <td>5.0150</td>\n",
       "      <td>i što uopće danas znači živjeti na j...</td>\n",
       "    </tr>\n",
       "    <tr>\n",
       "      <th>3</th>\n",
       "      <td>/home/peterr/macocu/task6_speech/dat...</td>\n",
       "      <td>i što uopće danas znači živjeti na j...</td>\n",
       "      <td>/home/peterr/macocu/task6_speech/dat...</td>\n",
       "      <td>[uim, dok, postla, setiče, neonego, ...</td>\n",
       "      <td>[0.10009842519685039, 0.480472440944...</td>\n",
       "      <td>[0.1801771653543307, 0.5805708661417...</td>\n",
       "      <td>5.0850</td>\n",
       "      <td>do posla stići nego sredstvima prije...</td>\n",
       "    </tr>\n",
       "    <tr>\n",
       "      <th>4</th>\n",
       "      <td>/home/peterr/macocu/task6_speech/dat...</td>\n",
       "      <td>građani će to znat cijeniti i volio ...</td>\n",
       "      <td>/home/peterr/macocu/task6_speech/dat...</td>\n",
       "      <td>[gradani, će, to, znat, sijeniti, i,...</td>\n",
       "      <td>[0.12022709163346612, 0.520984063745...</td>\n",
       "      <td>[0.4207948207171314, 0.5610597609561...</td>\n",
       "      <td>5.0295</td>\n",
       "      <td>građani će to znat cijeniti i volio ...</td>\n",
       "    </tr>\n",
       "  </tbody>\n",
       "</table>\n",
       "</div>"
      ],
      "text/plain": [
       "                                      path  \\\n",
       "0  /home/peterr/macocu/task6_speech/dat...   \n",
       "1  /home/peterr/macocu/task6_speech/dat...   \n",
       "2  /home/peterr/macocu/task6_speech/dat...   \n",
       "3  /home/peterr/macocu/task6_speech/dat...   \n",
       "4  /home/peterr/macocu/task6_speech/dat...   \n",
       "\n",
       "                            sentence_uncut  \\\n",
       "0  dakle uvaženi kolega ja sam pozorno ...   \n",
       "1  dakle uvaženi kolega ja sam pozorno ...   \n",
       "2  i što uopće danas znači živjeti na j...   \n",
       "3  i što uopće danas znači živjeti na j...   \n",
       "4  građani će to znat cijeniti i volio ...   \n",
       "\n",
       "                             original_file  \\\n",
       "0  /home/peterr/macocu/task6_speech/dat...   \n",
       "1  /home/peterr/macocu/task6_speech/dat...   \n",
       "2  /home/peterr/macocu/task6_speech/dat...   \n",
       "3  /home/peterr/macocu/task6_speech/dat...   \n",
       "4  /home/peterr/macocu/task6_speech/dat...   \n",
       "\n",
       "                                     words  \\\n",
       "0  [dakle, uvaženi, kolega, ja, sam, po...   \n",
       "1  [laganje, ispomenuli, ste, riječ, ou...   \n",
       "2  [i, stoopće, danas, znači, živjeti, ...   \n",
       "3  [uim, dok, postla, setiče, neonego, ...   \n",
       "4  [gradani, će, to, znat, sijeniti, i,...   \n",
       "\n",
       "                         words_start_times  \\\n",
       "0  [0.561111111111111, 1.60317460317460...   \n",
       "1  [0.2805555555555555, 0.8216269841269...   \n",
       "2  [0.06018, 0.14042, 0.441319999999999...   \n",
       "3  [0.10009842519685039, 0.480472440944...   \n",
       "4  [0.12022709163346612, 0.520984063745...   \n",
       "\n",
       "                           words_end_times  duration  \\\n",
       "0  [0.8416666666666666, 2.0440476190476...    5.0500   \n",
       "1  [0.5410714285714285, 1.4628968253968...    5.0500   \n",
       "2  [0.06018, 0.38114, 0.58174, 0.862579...    5.0150   \n",
       "3  [0.1801771653543307, 0.5805708661417...    5.0850   \n",
       "4  [0.4207948207171314, 0.5610597609561...    5.0295   \n",
       "\n",
       "                                  sentence  \n",
       "0  dakle uvaženi kolega ja sam pozorno ...  \n",
       "1  izlaganje i spomenuli ste riječ outs...  \n",
       "2  i što uopće danas znači živjeti na j...  \n",
       "3  do posla stići nego sredstvima prije...  \n",
       "4  građani će to znat cijeniti i volio ...  "
      ]
     },
     "execution_count": 49,
     "metadata": {},
     "output_type": "execute_result"
    }
   ],
   "source": [
    "import pandas as pd\n",
    "import matplotlib.pyplot as plt\n",
    "from ast import literal_eval\n",
    "from pydub import AudioSegment\n",
    "import numpy as np\n",
    "\n",
    "pd.set_option(\"max_colwidth\", 40)\n",
    "\n",
    "from fuzzywuzzy import fuzz\n",
    "def get_subset(gold, model_output):\n",
    "    results = list()\n",
    "    gold = gold.split(\" \")\n",
    "    model_output = model_output.split(\" \")\n",
    "    M = len(gold)\n",
    "    for start in range(M):\n",
    "        for end in range(M):\n",
    "            try:\n",
    "                subset = gold[start:end]\n",
    "            except IndexError:\n",
    "                continue\n",
    "            ratio = fuzz.ratio(\" \".join(model_output), \" \".join(subset))\n",
    "            results.append((ratio, start, end, \" \".join(subset)))\n",
    "    maximum_ratio = max(results, key=lambda tup: tup[0])\n",
    "    for result in results:\n",
    "        if result[0] == maximum_ratio[0]:\n",
    "            return result[-1]\n",
    "    # return results[-1]\n",
    "    raise ValueError(f\"No solutions found for {gold=}, {model_output=}\")\n",
    "\n",
    "df = pd.read_csv(\"13_results.csv\")\n",
    "df[\"words\"] = df.words.apply(literal_eval)\n",
    "df[\"words_start_times\"] = df.words_start_times.apply(literal_eval)\n",
    "df[\"words_end_times\"] = df.words_end_times.apply(literal_eval)\n",
    "to_delete = np.array([len(i) == 0 for i in df.words])\n",
    "print(\"No transcripts found for :\", df.loc[to_delete, \"path\"])\n",
    "\n",
    "df = df.loc[~to_delete, :]\n",
    "df.reset_index(drop=True, inplace=True)\n",
    "\n",
    "\n",
    "\n",
    "df[\"duration\"] = -0.5\n",
    "for i, row in df.iterrows():\n",
    "    audio = AudioSegment.from_file(row[\"path\"])\n",
    "    df.iloc[i, -1] = audio.duration_seconds\n",
    "\n",
    "df[\"sentence\"] = \"\"\n",
    "for i, row in df.iterrows():\n",
    "    gold = row[\"sentence_uncut\"]\n",
    "    model_output = \" \".join(row[\"words\"])\n",
    "    df.iloc[i, -1] = get_subset(gold, model_output)\n",
    "\n",
    "df.head()"
   ]
  },
  {
   "cell_type": "code",
   "execution_count": 47,
   "metadata": {},
   "outputs": [],
   "source": [
    "final_columns = [\n",
    "              'sentence',\n",
    "              'sentence_uncut',\n",
    "              'duration',\n",
    "              'path',\n",
    "              'original_file',\n",
    "              'words',\n",
    "              'words_start_times',\n",
    "              'words_end_times',\n",
    "              ]\n",
    "\n",
    "df = df[final_columns]"
   ]
  },
  {
   "cell_type": "code",
   "execution_count": 48,
   "metadata": {},
   "outputs": [],
   "source": [
    "df.to_csv(\"14_transcripts_ready.csv\", index=False)"
   ]
  },
  {
   "cell_type": "code",
   "execution_count": 44,
   "metadata": {},
   "outputs": [
    {
     "data": {
      "image/png": "[encoded data removed]",
      "text/plain": [
       "<Figure size 432x288 with 1 Axes>"
      ]
     },
     "metadata": {
      "needs_background": "light"
     },
     "output_type": "display_data"
    }
   ],
   "source": [
    "beginning_times = [i[0] for j, i in enumerate(df.words_start_times) if j not in [4608,6110]]\n",
    "\n",
    "plt.hist(beginning_times, bins=20)\n",
    "plt.semilogy()\n",
    "plt.semilogx()\n",
    "plt.title(\"First word starts\")\n",
    "plt.xlabel(\"(s)\")\n",
    "plt.xlim((0.01, None))\n",
    "plt.savefig(\"images/first_word_start_position.png\")\n",
    "plt.show()"
   ]
  },
  {
   "cell_type": "code",
   "execution_count": null,
   "metadata": {},
   "outputs": [
    {
     "data": {
      "text/plain": [
       "4608    []\n",
       "6110    []\n",
       "Name: words_start_times, dtype: object"
      ]
     },
     "execution_count": 20,
     "metadata": {},
     "output_type": "execute_result"
    }
   ],
   "source": [
    "ind = [len(i)==0 for i in df.words_start_times]\n",
    "df.words_start_times[ind]"
   ]
  },
  {
   "cell_type": "code",
   "execution_count": 21,
   "metadata": {},
   "outputs": [
    {
     "data": {
      "text/html": [
       "<div>\n",
       "<style scoped>\n",
       "    .dataframe tbody tr th:only-of-type {\n",
       "        vertical-align: middle;\n",
       "    }\n",
       "\n",
       "    .dataframe tbody tr th {\n",
       "        vertical-align: top;\n",
       "    }\n",
       "\n",
       "    .dataframe thead th {\n",
       "        text-align: right;\n",
       "    }\n",
       "</style>\n",
       "<table border=\"1\" class=\"dataframe\">\n",
       "  <thead>\n",
       "    <tr style=\"text-align: right;\">\n",
       "      <th></th>\n",
       "      <th>path</th>\n",
       "      <th>sentence_uncut</th>\n",
       "      <th>original_file</th>\n",
       "      <th>words</th>\n",
       "      <th>words_start_times</th>\n",
       "      <th>words_end_times</th>\n",
       "      <th>duration</th>\n",
       "    </tr>\n",
       "  </thead>\n",
       "  <tbody>\n",
       "    <tr>\n",
       "      <th>4608</th>\n",
       "      <td>/home/peterr/macocu/task6_speech/data/00009994...</td>\n",
       "      <td>čestitam pravobraniteljici za osobe s invalidi...</td>\n",
       "      <td>/home/peterr/macocu/task6_speech/data/00009994...</td>\n",
       "      <td>[]</td>\n",
       "      <td>[]</td>\n",
       "      <td>[]</td>\n",
       "      <td>7.608</td>\n",
       "    </tr>\n",
       "    <tr>\n",
       "      <th>6110</th>\n",
       "      <td>/home/peterr/macocu/task6_speech/data/00015098...</td>\n",
       "      <td>onda definirati zapravo jasno onda pojam samog...</td>\n",
       "      <td>/home/peterr/macocu/task6_speech/data/00015098...</td>\n",
       "      <td>[]</td>\n",
       "      <td>[]</td>\n",
       "      <td>[]</td>\n",
       "      <td>7.000</td>\n",
       "    </tr>\n",
       "  </tbody>\n",
       "</table>\n",
       "</div>"
      ],
      "text/plain": [
       "                                                   path  \\\n",
       "4608  /home/peterr/macocu/task6_speech/data/00009994...   \n",
       "6110  /home/peterr/macocu/task6_speech/data/00015098...   \n",
       "\n",
       "                                         sentence_uncut  \\\n",
       "4608  čestitam pravobraniteljici za osobe s invalidi...   \n",
       "6110  onda definirati zapravo jasno onda pojam samog...   \n",
       "\n",
       "                                          original_file words  \\\n",
       "4608  /home/peterr/macocu/task6_speech/data/00009994...    []   \n",
       "6110  /home/peterr/macocu/task6_speech/data/00015098...    []   \n",
       "\n",
       "     words_start_times words_end_times  duration  \n",
       "4608                []              []     7.608  \n",
       "6110                []              []     7.000  "
      ]
     },
     "execution_count": 21,
     "metadata": {},
     "output_type": "execute_result"
    }
   ],
   "source": [
    "df.iloc[[4608,6110], :]"
   ]
  },
  {
   "cell_type": "code",
   "execution_count": 24,
   "metadata": {},
   "outputs": [
    {
     "data": {
      "image/png": "[encoded data removed]",
      "text/plain": [
       "<Figure size 432x288 with 1 Axes>"
      ]
     },
     "metadata": {
      "needs_background": "light"
     },
     "output_type": "display_data"
    }
   ],
   "source": [
    "plt.hist(df.duration)\n",
    "plt.xlabel(\"Duration (s)\")\n",
    "plt.title(\"Durations of the split files\")\n",
    "plt.savefig(\"images/durations_after_splitting.png\")\n",
    "plt.show()"
   ]
  },
  {
   "cell_type": "code",
   "execution_count": 41,
   "metadata": {},
   "outputs": [
    {
     "data": {
      "text/plain": [
       "(59, 1, 2, 'dragi')"
      ]
     },
     "execution_count": 41,
     "metadata": {},
     "output_type": "execute_result"
    }
   ],
   "source": [
    "get_subset(\"Hello, dragi kolegi\", \"dragi kolegi\")"
   ]
  },
  {
   "cell_type": "code",
   "execution_count": null,
   "metadata": {},
   "outputs": [],
   "source": []
  }
 ],
 "metadata": {
  "interpreter": {
   "hash": "7f6f5766036ee03d059e365a942add07f79c17033585e9357ee8157d52fe6bb9"
  },
  "kernelspec": {
   "display_name": "Python 3.8.3 64-bit ('base': conda)",
   "language": "python",
   "name": "python3"
  },
  "language_info": {
   "codemirror_mode": {
    "name": "ipython",
    "version": 3
   },
   "file_extension": ".py",
   "mimetype": "text/x-python",
   "name": "python",
   "nbconvert_exporter": "python",
   "pygments_lexer": "ipython3",
   "version": "3.8.3"
  },
  "orig_nbformat": 4
 },
 "nbformat": 4,
 "nbformat_minor": 2
}
