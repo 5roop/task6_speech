{
 "cells": [
  {
   "cell_type": "code",
   "execution_count": 11,
   "metadata": {},
   "outputs": [
    {
     "data": {
      "text/html": [
       "<div>\n",
       "<style scoped>\n",
       "    .dataframe tbody tr th:only-of-type {\n",
       "        vertical-align: middle;\n",
       "    }\n",
       "\n",
       "    .dataframe tbody tr th {\n",
       "        vertical-align: top;\n",
       "    }\n",
       "\n",
       "    .dataframe thead th {\n",
       "        text-align: right;\n",
       "    }\n",
       "</style>\n",
       "<table border=\"1\" class=\"dataframe\">\n",
       "  <thead>\n",
       "    <tr style=\"text-align: right;\">\n",
       "      <th></th>\n",
       "      <th>path</th>\n",
       "      <th>sentence</th>\n",
       "      <th>filesize</th>\n",
       "    </tr>\n",
       "  </thead>\n",
       "  <tbody>\n",
       "    <tr>\n",
       "      <th>0</th>\n",
       "      <td>/home/peterr/macocu/task6_speech/data/00009875...</td>\n",
       "      <td>znači žalili su se zbog dugotrajnosti rješavan...</td>\n",
       "      <td>3660878</td>\n",
       "    </tr>\n",
       "    <tr>\n",
       "      <th>1</th>\n",
       "      <td>/home/peterr/macocu/task6_speech/data/00018811...</td>\n",
       "      <td>formiranje nacionalne politike i kada mi danas...</td>\n",
       "      <td>2720078</td>\n",
       "    </tr>\n",
       "    <tr>\n",
       "      <th>2</th>\n",
       "      <td>/home/peterr/macocu/task6_speech/data/00006520...</td>\n",
       "      <td>ovakvo je to kretanje u dvanaest mjesecu dvije...</td>\n",
       "      <td>2579278</td>\n",
       "    </tr>\n",
       "    <tr>\n",
       "      <th>3</th>\n",
       "      <td>/home/peterr/macocu/task6_speech/data/00014693...</td>\n",
       "      <td>pa evo kolega paneniću vi ste spomenuli jedini...</td>\n",
       "      <td>2547278</td>\n",
       "    </tr>\n",
       "    <tr>\n",
       "      <th>4</th>\n",
       "      <td>/home/peterr/macocu/task6_speech/data/00007188...</td>\n",
       "      <td>dakle stav kluba hadezea je dakle da je ovo vr...</td>\n",
       "      <td>2387278</td>\n",
       "    </tr>\n",
       "  </tbody>\n",
       "</table>\n",
       "</div>"
      ],
      "text/plain": [
       "                                                path  \\\n",
       "0  /home/peterr/macocu/task6_speech/data/00009875...   \n",
       "1  /home/peterr/macocu/task6_speech/data/00018811...   \n",
       "2  /home/peterr/macocu/task6_speech/data/00006520...   \n",
       "3  /home/peterr/macocu/task6_speech/data/00014693...   \n",
       "4  /home/peterr/macocu/task6_speech/data/00007188...   \n",
       "\n",
       "                                            sentence  filesize  \n",
       "0  znači žalili su se zbog dugotrajnosti rješavan...   3660878  \n",
       "1  formiranje nacionalne politike i kada mi danas...   2720078  \n",
       "2  ovakvo je to kretanje u dvanaest mjesecu dvije...   2579278  \n",
       "3  pa evo kolega paneniću vi ste spomenuli jedini...   2547278  \n",
       "4  dakle stav kluba hadezea je dakle da je ovo vr...   2387278  "
      ]
     },
     "execution_count": 11,
     "metadata": {},
     "output_type": "execute_result"
    }
   ],
   "source": [
    "import pandas as pd\n",
    "import numpy as np\n",
    "\n",
    "f = \"/home/nikolal/projects/parlaspeech/transcripts_normalized.txt\"\n",
    "df = pd.read_table(f, names=[\"unknown1\", \"path\", \"sentence\"],\n",
    "        #nrows=2000\n",
    "        )\n",
    "\n",
    "df[\"path\"] = \"/home/peterr/macocu/task6_speech/data/\" + df.path.str.replace(\"flac/\", \"\") + \".wav\"\n",
    "\n",
    "df = df.drop(columns=\"unknown1\")\n",
    "import os\n",
    "df[\"filesize\"] = df[\"path\"].apply(os.path.getsize)\n",
    "for char in ['*', ':', ';']:\n",
    "    df[\"sentence\"] = df.sentence.str.replace(char, \"\")\n",
    "df.sort_values(by=\"filesize\", ascending=False, inplace=True)\n",
    "df.reset_index(drop=True, inplace=True)\n",
    "df.head()"
   ]
  },
  {
   "cell_type": "markdown",
   "metadata": {},
   "source": [
    "## How many files are over 1MB?"
   ]
  },
  {
   "cell_type": "code",
   "execution_count": 12,
   "metadata": {},
   "outputs": [
    {
     "data": {
      "text/plain": [
       "617"
      ]
     },
     "execution_count": 12,
     "metadata": {},
     "output_type": "execute_result"
    }
   ],
   "source": [
    "sum(df.filesize > 2**20)"
   ]
  },
  {
   "cell_type": "markdown",
   "metadata": {},
   "source": [
    "How does the distribution of word counts look like?"
   ]
  },
  {
   "cell_type": "code",
   "execution_count": 29,
   "metadata": {},
   "outputs": [
    {
     "data": {
      "text/html": [
       "<div>\n",
       "<style scoped>\n",
       "    .dataframe tbody tr th:only-of-type {\n",
       "        vertical-align: middle;\n",
       "    }\n",
       "\n",
       "    .dataframe tbody tr th {\n",
       "        vertical-align: top;\n",
       "    }\n",
       "\n",
       "    .dataframe thead th {\n",
       "        text-align: right;\n",
       "    }\n",
       "</style>\n",
       "<table border=\"1\" class=\"dataframe\">\n",
       "  <thead>\n",
       "    <tr style=\"text-align: right;\">\n",
       "      <th></th>\n",
       "      <th>path</th>\n",
       "      <th>sentence</th>\n",
       "      <th>filesize</th>\n",
       "      <th>wordcount</th>\n",
       "    </tr>\n",
       "  </thead>\n",
       "  <tbody>\n",
       "    <tr>\n",
       "      <th>0</th>\n",
       "      <td>/home/peterr/macocu/task6_speech/data/00009875...</td>\n",
       "      <td>znači žalili su se zbog dugotrajnosti rješavan...</td>\n",
       "      <td>3660878</td>\n",
       "      <td>198</td>\n",
       "    </tr>\n",
       "    <tr>\n",
       "      <th>1</th>\n",
       "      <td>/home/peterr/macocu/task6_speech/data/00018811...</td>\n",
       "      <td>formiranje nacionalne politike i kada mi danas...</td>\n",
       "      <td>2720078</td>\n",
       "      <td>146</td>\n",
       "    </tr>\n",
       "    <tr>\n",
       "      <th>2</th>\n",
       "      <td>/home/peterr/macocu/task6_speech/data/00006520...</td>\n",
       "      <td>ovakvo je to kretanje u dvanaest mjesecu dvije...</td>\n",
       "      <td>2579278</td>\n",
       "      <td>125</td>\n",
       "    </tr>\n",
       "    <tr>\n",
       "      <th>3</th>\n",
       "      <td>/home/peterr/macocu/task6_speech/data/00014693...</td>\n",
       "      <td>pa evo kolega paneniću vi ste spomenuli jedini...</td>\n",
       "      <td>2547278</td>\n",
       "      <td>161</td>\n",
       "    </tr>\n",
       "    <tr>\n",
       "      <th>4</th>\n",
       "      <td>/home/peterr/macocu/task6_speech/data/00007188...</td>\n",
       "      <td>dakle stav kluba hadezea je dakle da je ovo vr...</td>\n",
       "      <td>2387278</td>\n",
       "      <td>112</td>\n",
       "    </tr>\n",
       "  </tbody>\n",
       "</table>\n",
       "</div>"
      ],
      "text/plain": [
       "                                                path  \\\n",
       "0  /home/peterr/macocu/task6_speech/data/00009875...   \n",
       "1  /home/peterr/macocu/task6_speech/data/00018811...   \n",
       "2  /home/peterr/macocu/task6_speech/data/00006520...   \n",
       "3  /home/peterr/macocu/task6_speech/data/00014693...   \n",
       "4  /home/peterr/macocu/task6_speech/data/00007188...   \n",
       "\n",
       "                                            sentence  filesize  wordcount  \n",
       "0  znači žalili su se zbog dugotrajnosti rješavan...   3660878        198  \n",
       "1  formiranje nacionalne politike i kada mi danas...   2720078        146  \n",
       "2  ovakvo je to kretanje u dvanaest mjesecu dvije...   2579278        125  \n",
       "3  pa evo kolega paneniću vi ste spomenuli jedini...   2547278        161  \n",
       "4  dakle stav kluba hadezea je dakle da je ovo vr...   2387278        112  "
      ]
     },
     "execution_count": 29,
     "metadata": {},
     "output_type": "execute_result"
    }
   ],
   "source": [
    "df[\"wordcount\"] = [len(s.split()) for s in df.sentence.values]\n",
    "df.head()"
   ]
  },
  {
   "cell_type": "code",
   "execution_count": 48,
   "metadata": {},
   "outputs": [
    {
     "data": {
      "image/png": "[encoded data removed]",
      "text/plain": [
       "<Figure size 432x288 with 2 Axes>"
      ]
     },
     "metadata": {
      "needs_background": "light"
     },
     "output_type": "display_data"
    }
   ],
   "source": [
    "import matplotlib.pyplot as plt\n",
    "# import plotext as plt\n",
    "\n",
    "fig, ax = plt.subplots()\n",
    "ax.hist(df.wordcount, bins=20, histtype=\"step\", label=\"Word count\", )\n",
    "ax.set_xlabel(\"Word count\")\n",
    "\n",
    "ax2 = plt.twiny()\n",
    "ax2.hist(df.filesize/2**20, bins=20, color=\"red\", histtype=\"step\", label=\"Filesize\", )\n",
    "ax2.set_xlabel(\"Filesize (MB)\")\n",
    "\n",
    "fig.legend(loc=(0.6, 0.7))\n",
    "plt.savefig(\"images/histogram.png\")\n",
    "plt.show()"
   ]
  },
  {
   "cell_type": "code",
   "execution_count": null,
   "metadata": {},
   "outputs": [],
   "source": []
  }
 ],
 "metadata": {
  "interpreter": {
   "hash": "7f6f5766036ee03d059e365a942add07f79c17033585e9357ee8157d52fe6bb9"
  },
  "kernelspec": {
   "display_name": "Python 3.8.3 64-bit ('base': conda)",
   "language": "python",
   "name": "python3"
  },
  "language_info": {
   "codemirror_mode": {
    "name": "ipython",
    "version": 3
   },
   "file_extension": ".py",
   "mimetype": "text/x-python",
   "name": "python",
   "nbconvert_exporter": "python",
   "pygments_lexer": "ipython3",
   "version": "3.8.3"
  },
  "orig_nbformat": 4
 },
 "nbformat": 4,
 "nbformat_minor": 2
}
