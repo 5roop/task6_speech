{
 "cells": [
  {
   "cell_type": "code",
   "execution_count": 20,
   "metadata": {},
   "outputs": [
    {
     "data": {
      "text/plain": [
       "4.4"
      ]
     },
     "execution_count": 20,
     "metadata": {},
     "output_type": "execute_result"
    }
   ],
   "source": [
    "from scipy.io import wavfile\n",
    "file = \"/home/peterr/macocu/task6_speech/data/00009874.flac.wav\"\n",
    "\n",
    "def get_duration(file:str) -> float:\n",
    "    rate, data = wavfile.read(file)\n",
    "    return len(data)/rate\n",
    "\n",
    "get_duration(file)"
   ]
  },
  {
   "cell_type": "code",
   "execution_count": 23,
   "metadata": {},
   "outputs": [
    {
     "data": {
      "image/png": "[encoded data removed]",
      "text/plain": [
       "<Figure size 720x360 with 1 Axes>"
      ]
     },
     "metadata": {
      "needs_background": "light"
     },
     "output_type": "display_data"
    }
   ],
   "source": [
    "import audioop\n",
    "rate, data = wavfile.read(file)\n",
    "plt.figure(figsize=(10,5))\n",
    "plt.plot(data)\n",
    "plt.ylim((-2500, 2500))\n",
    "plt.show()"
   ]
  },
  {
   "cell_type": "code",
   "execution_count": 4,
   "metadata": {},
   "outputs": [
    {
     "name": "stderr",
     "output_type": "stream",
     "text": [
      "<frozen importlib._bootstrap>:219: RuntimeWarning: numpy.ufunc size changed, may indicate binary incompatibility. Expected 192 from C header, got 216 from PyObject\n"
     ]
    },
    {
     "data": {
      "text/html": [
       "<div>\n",
       "<style scoped>\n",
       "    .dataframe tbody tr th:only-of-type {\n",
       "        vertical-align: middle;\n",
       "    }\n",
       "\n",
       "    .dataframe tbody tr th {\n",
       "        vertical-align: top;\n",
       "    }\n",
       "\n",
       "    .dataframe thead th {\n",
       "        text-align: right;\n",
       "    }\n",
       "</style>\n",
       "<table border=\"1\" class=\"dataframe\">\n",
       "  <thead>\n",
       "    <tr style=\"text-align: right;\">\n",
       "      <th></th>\n",
       "      <th>path</th>\n",
       "      <th>sentence</th>\n",
       "      <th>duration</th>\n",
       "      <th>filesize</th>\n",
       "    </tr>\n",
       "  </thead>\n",
       "  <tbody>\n",
       "    <tr>\n",
       "      <th>0</th>\n",
       "      <td>/home/peterr/macocu/task6_speech/data/00009875.flac.wav</td>\n",
       "      <td>znači žalili su se zbog dugotrajnosti rješavanja postupka na sudovima na rad i ponašanje pojedin...</td>\n",
       "      <td>114.4</td>\n",
       "      <td>3660878</td>\n",
       "    </tr>\n",
       "    <tr>\n",
       "      <th>1</th>\n",
       "      <td>/home/peterr/macocu/task6_speech/data/00018811.flac.wav</td>\n",
       "      <td>formiranje nacionalne politike i kada mi danas raspravljamo o tome što je glavni uzrok nepostoja...</td>\n",
       "      <td>85.0</td>\n",
       "      <td>2720078</td>\n",
       "    </tr>\n",
       "    <tr>\n",
       "      <th>2</th>\n",
       "      <td>/home/peterr/macocu/task6_speech/data/00006520.flac.wav</td>\n",
       "      <td>ovakvo je to kretanje u dvanaest mjesecu dvije tisuće deset godine imali smo dvadeset pet tisuća...</td>\n",
       "      <td>80.6</td>\n",
       "      <td>2579278</td>\n",
       "    </tr>\n",
       "    <tr>\n",
       "      <th>3</th>\n",
       "      <td>/home/peterr/macocu/task6_speech/data/00014693.flac.wav</td>\n",
       "      <td>pa evo kolega paneniću vi ste spomenuli jedinice lokalne i regionalne samouprave da oni imaju ve...</td>\n",
       "      <td>79.6</td>\n",
       "      <td>2547278</td>\n",
       "    </tr>\n",
       "    <tr>\n",
       "      <th>4</th>\n",
       "      <td>/home/peterr/macocu/task6_speech/data/00007188.flac.wav</td>\n",
       "      <td>dakle stav kluba hadezea je dakle da je ovo vrlo kvalitetan pomak u smislu mijenjanja načina rad...</td>\n",
       "      <td>74.6</td>\n",
       "      <td>2387278</td>\n",
       "    </tr>\n",
       "  </tbody>\n",
       "</table>\n",
       "</div>"
      ],
      "text/plain": [
       "                                                      path  \\\n",
       "0  /home/peterr/macocu/task6_speech/data/00009875.flac.wav   \n",
       "1  /home/peterr/macocu/task6_speech/data/00018811.flac.wav   \n",
       "2  /home/peterr/macocu/task6_speech/data/00006520.flac.wav   \n",
       "3  /home/peterr/macocu/task6_speech/data/00014693.flac.wav   \n",
       "4  /home/peterr/macocu/task6_speech/data/00007188.flac.wav   \n",
       "\n",
       "                                                                                              sentence  \\\n",
       "0  znači žalili su se zbog dugotrajnosti rješavanja postupka na sudovima na rad i ponašanje pojedin...   \n",
       "1  formiranje nacionalne politike i kada mi danas raspravljamo o tome što je glavni uzrok nepostoja...   \n",
       "2  ovakvo je to kretanje u dvanaest mjesecu dvije tisuće deset godine imali smo dvadeset pet tisuća...   \n",
       "3  pa evo kolega paneniću vi ste spomenuli jedinice lokalne i regionalne samouprave da oni imaju ve...   \n",
       "4  dakle stav kluba hadezea je dakle da je ovo vrlo kvalitetan pomak u smislu mijenjanja načina rad...   \n",
       "\n",
       "   duration  filesize  \n",
       "0     114.4   3660878  \n",
       "1      85.0   2720078  \n",
       "2      80.6   2579278  \n",
       "3      79.6   2547278  \n",
       "4      74.6   2387278  "
      ]
     },
     "execution_count": 4,
     "metadata": {},
     "output_type": "execute_result"
    }
   ],
   "source": [
    "import pandas as pd\n",
    "import numpy as np\n",
    "pd.set_option(\"display.max_colwidth\", 100)\n",
    "f = \"/home/nikolal/projects/parlaspeech/transcripts_normalized.txt\"\n",
    "df = pd.read_table(f, names=[\"unknown1\", \"path\", \"sentence\"],\n",
    "        #nrows=2000\n",
    "        )\n",
    "\n",
    "df[\"path\"] = \"/home/peterr/macocu/task6_speech/data/\" + df.path.str.replace(\"flac/\", \"\") + \".wav\"\n",
    "df[\"duration\"] = df.path.apply(get_duration)\n",
    "df = df.drop(columns=\"unknown1\")\n",
    "import os\n",
    "df[\"filesize\"] = df[\"path\"].apply(os.path.getsize)\n",
    "for char in ['*', ':', ';']:\n",
    "    df[\"sentence\"] = df.sentence.str.replace(char, \"\")\n",
    "df.sort_values(by=\"filesize\", ascending=False, inplace=True)\n",
    "df.reset_index(drop=True, inplace=True)\n",
    "df.head(5)"
   ]
  },
  {
   "cell_type": "code",
   "execution_count": 5,
   "metadata": {},
   "outputs": [
    {
     "data": {
      "text/plain": [
       "(17931    a o tome govori i tematika zbog kojeg su se sve žalili \n",
       " Name: sentence, dtype: object,)"
      ]
     },
     "execution_count": 5,
     "metadata": {},
     "output_type": "execute_result"
    }
   ],
   "source": [
    "df.loc[df.path.str.contains(\"09874\"),\"sentence\"], "
   ]
  },
  {
   "cell_type": "code",
   "execution_count": 6,
   "metadata": {},
   "outputs": [
    {
     "data": {
      "text/plain": [
       "(12901    poštovane kolegice i kolege zastupnici molio bi da nastavimo sa radom sjednice \n",
       " Name: sentence, dtype: object,)"
      ]
     },
     "execution_count": 6,
     "metadata": {},
     "output_type": "execute_result"
    }
   ],
   "source": [
    "df.loc[df.path.str.contains(\"00000001\"),\"sentence\"],"
   ]
  },
  {
   "cell_type": "markdown",
   "metadata": {},
   "source": [
    "## How many files are over 1MB?"
   ]
  },
  {
   "cell_type": "code",
   "execution_count": 7,
   "metadata": {},
   "outputs": [
    {
     "data": {
      "text/plain": [
       "4939"
      ]
     },
     "execution_count": 7,
     "metadata": {},
     "output_type": "execute_result"
    }
   ],
   "source": [
    "sum(df.filesize > 2**20/2)"
   ]
  },
  {
   "cell_type": "markdown",
   "metadata": {},
   "source": [
    "# How many files are over 20s?"
   ]
  },
  {
   "cell_type": "code",
   "execution_count": 8,
   "metadata": {},
   "outputs": [
    {
     "data": {
      "text/plain": [
       "3094"
      ]
     },
     "execution_count": 8,
     "metadata": {},
     "output_type": "execute_result"
    }
   ],
   "source": [
    "sum(df.duration > 20)"
   ]
  },
  {
   "cell_type": "markdown",
   "metadata": {},
   "source": [
    "How does the distribution of word counts look like?"
   ]
  },
  {
   "cell_type": "code",
   "execution_count": 9,
   "metadata": {},
   "outputs": [
    {
     "data": {
      "text/html": [
       "<div>\n",
       "<style scoped>\n",
       "    .dataframe tbody tr th:only-of-type {\n",
       "        vertical-align: middle;\n",
       "    }\n",
       "\n",
       "    .dataframe tbody tr th {\n",
       "        vertical-align: top;\n",
       "    }\n",
       "\n",
       "    .dataframe thead th {\n",
       "        text-align: right;\n",
       "    }\n",
       "</style>\n",
       "<table border=\"1\" class=\"dataframe\">\n",
       "  <thead>\n",
       "    <tr style=\"text-align: right;\">\n",
       "      <th></th>\n",
       "      <th>path</th>\n",
       "      <th>sentence</th>\n",
       "      <th>duration</th>\n",
       "      <th>filesize</th>\n",
       "      <th>wordcount</th>\n",
       "    </tr>\n",
       "  </thead>\n",
       "  <tbody>\n",
       "    <tr>\n",
       "      <th>0</th>\n",
       "      <td>/home/peterr/macocu/task6_speech/data/00009875.flac.wav</td>\n",
       "      <td>znači žalili su se zbog dugotrajnosti rješavanja postupka na sudovima na rad i ponašanje pojedin...</td>\n",
       "      <td>114.4</td>\n",
       "      <td>3660878</td>\n",
       "      <td>198</td>\n",
       "    </tr>\n",
       "    <tr>\n",
       "      <th>1</th>\n",
       "      <td>/home/peterr/macocu/task6_speech/data/00018811.flac.wav</td>\n",
       "      <td>formiranje nacionalne politike i kada mi danas raspravljamo o tome što je glavni uzrok nepostoja...</td>\n",
       "      <td>85.0</td>\n",
       "      <td>2720078</td>\n",
       "      <td>146</td>\n",
       "    </tr>\n",
       "    <tr>\n",
       "      <th>2</th>\n",
       "      <td>/home/peterr/macocu/task6_speech/data/00006520.flac.wav</td>\n",
       "      <td>ovakvo je to kretanje u dvanaest mjesecu dvije tisuće deset godine imali smo dvadeset pet tisuća...</td>\n",
       "      <td>80.6</td>\n",
       "      <td>2579278</td>\n",
       "      <td>125</td>\n",
       "    </tr>\n",
       "    <tr>\n",
       "      <th>3</th>\n",
       "      <td>/home/peterr/macocu/task6_speech/data/00014693.flac.wav</td>\n",
       "      <td>pa evo kolega paneniću vi ste spomenuli jedinice lokalne i regionalne samouprave da oni imaju ve...</td>\n",
       "      <td>79.6</td>\n",
       "      <td>2547278</td>\n",
       "      <td>161</td>\n",
       "    </tr>\n",
       "    <tr>\n",
       "      <th>4</th>\n",
       "      <td>/home/peterr/macocu/task6_speech/data/00007188.flac.wav</td>\n",
       "      <td>dakle stav kluba hadezea je dakle da je ovo vrlo kvalitetan pomak u smislu mijenjanja načina rad...</td>\n",
       "      <td>74.6</td>\n",
       "      <td>2387278</td>\n",
       "      <td>112</td>\n",
       "    </tr>\n",
       "  </tbody>\n",
       "</table>\n",
       "</div>"
      ],
      "text/plain": [
       "                                                      path  \\\n",
       "0  /home/peterr/macocu/task6_speech/data/00009875.flac.wav   \n",
       "1  /home/peterr/macocu/task6_speech/data/00018811.flac.wav   \n",
       "2  /home/peterr/macocu/task6_speech/data/00006520.flac.wav   \n",
       "3  /home/peterr/macocu/task6_speech/data/00014693.flac.wav   \n",
       "4  /home/peterr/macocu/task6_speech/data/00007188.flac.wav   \n",
       "\n",
       "                                                                                              sentence  \\\n",
       "0  znači žalili su se zbog dugotrajnosti rješavanja postupka na sudovima na rad i ponašanje pojedin...   \n",
       "1  formiranje nacionalne politike i kada mi danas raspravljamo o tome što je glavni uzrok nepostoja...   \n",
       "2  ovakvo je to kretanje u dvanaest mjesecu dvije tisuće deset godine imali smo dvadeset pet tisuća...   \n",
       "3  pa evo kolega paneniću vi ste spomenuli jedinice lokalne i regionalne samouprave da oni imaju ve...   \n",
       "4  dakle stav kluba hadezea je dakle da je ovo vrlo kvalitetan pomak u smislu mijenjanja načina rad...   \n",
       "\n",
       "   duration  filesize  wordcount  \n",
       "0     114.4   3660878        198  \n",
       "1      85.0   2720078        146  \n",
       "2      80.6   2579278        125  \n",
       "3      79.6   2547278        161  \n",
       "4      74.6   2387278        112  "
      ]
     },
     "execution_count": 9,
     "metadata": {},
     "output_type": "execute_result"
    }
   ],
   "source": [
    "df[\"wordcount\"] = [len(s.split()) for s in df.sentence.values]\n",
    "df.head()"
   ]
  },
  {
   "cell_type": "code",
   "execution_count": 13,
   "metadata": {},
   "outputs": [
    {
     "data": {
      "image/png": "[encoded data removed]",
      "text/plain": [
       "<Figure size 432x288 with 2 Axes>"
      ]
     },
     "metadata": {
      "needs_background": "light"
     },
     "output_type": "display_data"
    }
   ],
   "source": [
    "import matplotlib.pyplot as plt\n",
    "# import plotext as plt\n",
    "\n",
    "fig, ax = plt.subplots()\n",
    "ax.hist(df.wordcount, bins=20, histtype=\"step\", label=\"Word count\", )\n",
    "ax.set_xlabel(\"Word count\")\n",
    "\n",
    "ax2 = plt.twiny()\n",
    "ax2.hist(df.duration, bins=20, color=\"red\", histtype=\"step\", label=\"Duration\", )\n",
    "ax2.set_xlabel(\"Duration (s)\")\n",
    "\n",
    "fig.legend(loc=(0.6, 0.7))\n",
    "plt.savefig(\"images/histogram2.png\")\n",
    "plt.show()"
   ]
  },
  {
   "cell_type": "code",
   "execution_count": 30,
   "metadata": {},
   "outputs": [],
   "source": [
    "df[\"textpath\"] = df.path.str.replace(\".flac.wav\", \".txt\")"
   ]
  },
  {
   "cell_type": "code",
   "execution_count": 32,
   "metadata": {},
   "outputs": [],
   "source": [
    "for row in df.iterrows():\n",
    "    sentence = row[1][\"sentence\"]\n",
    "    textpath = row[1][\"textpath\"]\n",
    "    new_sentence = \"\"\n",
    "    i = 1\n",
    "    ITER_COUNT = 10\n",
    "    for char in sentence:\n",
    "        if char == \" \":\n",
    "            if i % ITER_COUNT == 0:\n",
    "                char = \"\\n\"\n",
    "            i += 1\n",
    "        new_sentence += char\n",
    "    with open(textpath, \"w\") as f:\n",
    "        f.write(new_sentence)"
   ]
  },
  {
   "cell_type": "code",
   "execution_count": 22,
   "metadata": {},
   "outputs": [],
   "source": []
  },
  {
   "cell_type": "code",
   "execution_count": null,
   "metadata": {},
   "outputs": [],
   "source": []
  }
 ],
 "metadata": {
  "interpreter": {
   "hash": "7f6f5766036ee03d059e365a942add07f79c17033585e9357ee8157d52fe6bb9"
  },
  "kernelspec": {
   "display_name": "Python 3.8.3 64-bit ('base': conda)",
   "language": "python",
   "name": "python3"
  },
  "language_info": {
   "codemirror_mode": {
    "name": "ipython",
    "version": 3
   },
   "file_extension": ".py",
   "mimetype": "text/x-python",
   "name": "python",
   "nbconvert_exporter": "python",
   "pygments_lexer": "ipython3",
   "version": "3.8.3"
  },
  "orig_nbformat": 4
 },
 "nbformat": 4,
 "nbformat_minor": 2
}
