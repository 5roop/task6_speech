{
 "cells": [
  {
   "cell_type": "code",
   "execution_count": 1,
   "metadata": {},
   "outputs": [
    {
     "data": {
      "text/html": [
       "<div>\n",
       "<style scoped>\n",
       "    .dataframe tbody tr th:only-of-type {\n",
       "        vertical-align: middle;\n",
       "    }\n",
       "\n",
       "    .dataframe tbody tr th {\n",
       "        vertical-align: top;\n",
       "    }\n",
       "\n",
       "    .dataframe thead th {\n",
       "        text-align: right;\n",
       "    }\n",
       "</style>\n",
       "<table border=\"1\" class=\"dataframe\">\n",
       "  <thead>\n",
       "    <tr style=\"text-align: right;\">\n",
       "      <th></th>\n",
       "      <th>path</th>\n",
       "      <th>sentence</th>\n",
       "    </tr>\n",
       "  </thead>\n",
       "  <tbody>\n",
       "    <tr>\n",
       "      <th>0</th>\n",
       "      <td>/home/peterr/macocu/task6_speech/data/00000001.flac.wav</td>\n",
       "      <td>poštovane kolegice i kolege zastupnici molio bi da nastavimo sa radom sjednice</td>\n",
       "    </tr>\n",
       "    <tr>\n",
       "      <th>1</th>\n",
       "      <td>/home/peterr/macocu/task6_speech/data/00000002.flac.wav</td>\n",
       "      <td>prvi klub koji se javio za stanku je klub esdepea</td>\n",
       "    </tr>\n",
       "    <tr>\n",
       "      <th>2</th>\n",
       "      <td>/home/peterr/macocu/task6_speech/data/00000003.flac.wav</td>\n",
       "      <td>u njihovo ime predstavnik bojan glavašević</td>\n",
       "    </tr>\n",
       "    <tr>\n",
       "      <th>3</th>\n",
       "      <td>/home/peterr/macocu/task6_speech/data/00000004.flac.wav</td>\n",
       "      <td>hvala gospodine predsjedniče</td>\n",
       "    </tr>\n",
       "    <tr>\n",
       "      <th>4</th>\n",
       "      <td>/home/peterr/macocu/task6_speech/data/00000005a.flac.wav</td>\n",
       "      <td>poštovani gospodine predsjedniče hrvatskog sabora uvažene kolegice i kolege klub zastupnika esdepea</td>\n",
       "    </tr>\n",
       "  </tbody>\n",
       "</table>\n",
       "</div>"
      ],
      "text/plain": [
       "                                                       path  \\\n",
       "0   /home/peterr/macocu/task6_speech/data/00000001.flac.wav   \n",
       "1   /home/peterr/macocu/task6_speech/data/00000002.flac.wav   \n",
       "2   /home/peterr/macocu/task6_speech/data/00000003.flac.wav   \n",
       "3   /home/peterr/macocu/task6_speech/data/00000004.flac.wav   \n",
       "4  /home/peterr/macocu/task6_speech/data/00000005a.flac.wav   \n",
       "\n",
       "                                                                                              sentence  \n",
       "0                      poštovane kolegice i kolege zastupnici molio bi da nastavimo sa radom sjednice   \n",
       "1                                                   prvi klub koji se javio za stanku je klub esdepea   \n",
       "2                                                          u njihovo ime predstavnik bojan glavašević   \n",
       "3                                                                        hvala gospodine predsjedniče   \n",
       "4  poštovani gospodine predsjedniče hrvatskog sabora uvažene kolegice i kolege klub zastupnika esdepea  "
      ]
     },
     "execution_count": 1,
     "metadata": {},
     "output_type": "execute_result"
    }
   ],
   "source": [
    "from numba import cuda\n",
    "import torch\n",
    "import numpy as np\n",
    "import pandas as pd\n",
    "pd.set_option('display.max_colwidth', None)\n",
    "\n",
    "\n",
    "cuda.select_device(0)\n",
    "cuda.close()\n",
    "cuda.select_device(0)\n",
    "\n",
    "torch.cuda.empty_cache()\n",
    "\n",
    "\n",
    "df = pd.read_csv(\"15_new_DS.csv\")\n",
    "df.head()\n"
   ]
  },
  {
   "cell_type": "code",
   "execution_count": 2,
   "metadata": {},
   "outputs": [],
   "source": [
    "LIM = int(df.shape[0] * 0.8)\n",
    "common_voice_test_df = df.loc[LIM:, :].copy().reset_index(drop=True)"
   ]
  },
  {
   "cell_type": "code",
   "execution_count": 3,
   "metadata": {},
   "outputs": [
    {
     "name": "stderr",
     "output_type": "stream",
     "text": [
      "file ./config.json not found\n",
      "Special tokens have been added in the vocabulary, make sure the associated word embeddings are fine-tuned or trained.\n"
     ]
    },
    {
     "data": {
      "application/vnd.jupyter.widget-view+json": {
       "model_id": "c4430782467e4a50a8b25cbddce967c1",
       "version_major": 2,
       "version_minor": 0
      },
      "text/plain": [
       "  0%|          | 0/7464 [00:00<?, ?ex/s]"
      ]
     },
     "metadata": {},
     "output_type": "display_data"
    }
   ],
   "source": [
    "\n",
    "import datasets\n",
    "from datasets import load_dataset, load_metric, Audio\n",
    "def load_audio(path):\n",
    "    return datasets.Audio(sampling_rate=16000).decode_example(path)\n",
    "\n",
    "#common_voice_train_df.loc[:, \"audio\"] = common_voice_train_df.path.apply(load_audio)\n",
    "common_voice_test_df.loc[:, \"audio\"] = common_voice_test_df.path.apply(load_audio)\n",
    "\n",
    "#common_voice_train_dataset = datasets.Dataset.from_pandas(common_voice_train_df)\n",
    "common_voice_test_dataset = datasets.Dataset.from_pandas(common_voice_test_df)\n",
    "\n",
    "\n",
    "from transformers import Wav2Vec2CTCTokenizer\n",
    "from transformers import Wav2Vec2FeatureExtractor\n",
    "from transformers import Wav2Vec2Processor\n",
    "\n",
    "tokenizer = Wav2Vec2CTCTokenizer.from_pretrained(\n",
    "    \"./\", unk_token=\"[UNK]\", pad_token=\"[PAD]\", word_delimiter_token=\"|\")\n",
    "\n",
    "feature_extractor = Wav2Vec2FeatureExtractor(\n",
    "    feature_size=1, sampling_rate=16000, padding_value=0.0, do_normalize=True, return_attention_mask=True)\n",
    "\n",
    "processor = Wav2Vec2Processor(\n",
    "    feature_extractor=feature_extractor, tokenizer=tokenizer)\n",
    "\n",
    "\n",
    "\n",
    "\n",
    "\n",
    "from transformers import Trainer\n",
    "from transformers import TrainingArguments\n",
    "from transformers import Wav2Vec2ForCTC\n",
    "from typing import Any, Dict, List, Optional, Union\n",
    "from dataclasses import dataclass, field\n",
    "import torch\n",
    "\n",
    "\n",
    "def prepare_dataset(batch):\n",
    "    audio = batch[\"audio\"]\n",
    "\n",
    "    # batched output is \"un-batched\"\n",
    "    batch[\"input_values\"] = processor(\n",
    "        audio[\"array\"], sampling_rate=audio[\"sampling_rate\"]).input_values[0]\n",
    "    batch[\"input_length\"] = len(batch[\"input_values\"])\n",
    "\n",
    "    with processor.as_target_processor():\n",
    "        batch[\"labels\"] = processor(batch[\"sentence\"]).input_ids\n",
    "    return batch\n",
    "\n",
    "\n",
    "#common_voice_train_mapped = common_voice_train_dataset.map(\n",
    "    #prepare_dataset, remove_columns=common_voice_train_dataset.column_names)\n",
    "common_voice_test_mapped = common_voice_test_dataset.map(\n",
    "    prepare_dataset, remove_columns=common_voice_test_dataset.column_names)"
   ]
  },
  {
   "cell_type": "code",
   "execution_count": 4,
   "metadata": {},
   "outputs": [],
   "source": [
    "repo_name = \"15_/checkpoint-13600\"\n",
    "import logging\n",
    "logging.basicConfig(format='%(asctime)s - %(levelname)s - %(message)s', level=logging.INFO)\n",
    "model = Wav2Vec2ForCTC.from_pretrained(repo_name)#.to(\"cuda\")\n",
    "\n",
    "rezs = list()\n",
    "for i in common_voice_test_df.index:\n",
    "    try:\n",
    "        input_dict = processor(common_voice_test_mapped[i][\"input_values\"], return_tensors=\"pt\", padding=True,\n",
    "        sampling_rate=16000)\n",
    "        #logits = model(input_dict.input_values.to(\"cuda\")).logits\n",
    "        logits = model(input_dict.input_values).logits\n",
    "        pred_ids = torch.argmax(logits, dim=-1)[0]\n",
    "\n",
    "        gold = common_voice_test_df.sentence[i]   \n",
    "        prediction = processor.decode(pred_ids)\n",
    "        fullpath = common_voice_test_df.path[i]\n",
    "        filename = fullpath.split(\"/\")[-1]\n",
    "        rezs.append(prediction)\n",
    "    except Exception as e:\n",
    "        logging.error(f\"Got exception: {e} for {common_voice_test_df.loc[i, 'path']}\")\n",
    "        break\n",
    "df[repo_name] = rezs"
   ]
  },
  {
   "cell_type": "code",
   "execution_count": null,
   "metadata": {},
   "outputs": [],
   "source": [
    "repo_name = \"classla/wav2vec2-xls-r-sabor-hr\"\n",
    "import logging\n",
    "logging.basicConfig(format='%(asctime)s - %(levelname)s - %(message)s', level=logging.INFO)\n",
    "model = Wav2Vec2ForCTC.from_pretrained(repo_name)#.to(\"cuda\")\n",
    "\n",
    "rezs = list()\n",
    "for i in common_voice_test_df.index:\n",
    "    try:\n",
    "        input_dict = processor(common_voice_test_mapped[i][\"input_values\"], return_tensors=\"pt\", padding=True,\n",
    "        sampling_rate=16000)\n",
    "        #logits = model(input_dict.input_values.to(\"cuda\")).logits\n",
    "        logits = model(input_dict.input_values).logits\n",
    "        pred_ids = torch.argmax(logits, dim=-1)[0]\n",
    "\n",
    "        gold = common_voice_test_df.sentence[i]   \n",
    "        prediction = processor.decode(pred_ids)\n",
    "        fullpath = common_voice_test_df.path[i]\n",
    "        filename = fullpath.split(\"/\")[-1]\n",
    "        rezs.append(prediction)\n",
    "    except Exception as e:\n",
    "        logging.error(f\"Got exception: {e} for {common_voice_test_df.loc[i, 'path']}\")\n",
    "        break\n",
    "df[repo_name] = rezs"
   ]
  },
  {
   "cell_type": "code",
   "execution_count": null,
   "metadata": {},
   "outputs": [],
   "source": [
    "df.to_csv(\"15_comparison_of_models.csv\", index=False)"
   ]
  },
  {
   "cell_type": "code",
   "execution_count": null,
   "metadata": {},
   "outputs": [],
   "source": []
  }
 ],
 "metadata": {
  "interpreter": {
   "hash": "7f6f5766036ee03d059e365a942add07f79c17033585e9357ee8157d52fe6bb9"
  },
  "kernelspec": {
   "display_name": "Python 3.8.3 64-bit ('base': conda)",
   "language": "python",
   "name": "python3"
  },
  "language_info": {
   "codemirror_mode": {
    "name": "ipython",
    "version": 3
   },
   "file_extension": ".py",
   "mimetype": "text/x-python",
   "name": "python",
   "nbconvert_exporter": "python",
   "pygments_lexer": "ipython3",
   "version": "3.8.3"
  },
  "orig_nbformat": 4
 },
 "nbformat": 4,
 "nbformat_minor": 2
}
