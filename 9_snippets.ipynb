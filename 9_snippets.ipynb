{
 "cells": [
  {
   "cell_type": "code",
   "execution_count": 17,
   "metadata": {},
   "outputs": [],
   "source": [
    "import numba"
   ]
  },
  {
   "cell_type": "code",
   "execution_count": 61,
   "metadata": {},
   "outputs": [
    {
     "name": "stderr",
     "output_type": "stream",
     "text": [
      "2021-12-10 13:42:28,620 - INFO - Testing 1024 combinations....\n"
     ]
    },
    {
     "data": {
      "text/plain": [
       "[10, 22]"
      ]
     },
     "execution_count": 61,
     "metadata": {},
     "output_type": "execute_result"
    }
   ],
   "source": [
    "import logging\n",
    "logging.basicConfig(format='%(asctime)s - %(levelname)s - %(message)s', level=logging.INFO)\n",
    "MIN = 10\n",
    "MAX = 20\n",
    "\n",
    "def is_ok(pauses, duration, MIN=10, MAX=20):\n",
    "\n",
    "    pauses = [0, *pauses, duration]\n",
    "\n",
    "    for start, end in zip(pauses[:-1], pauses[1:]):\n",
    "        if not MIN <= end - start <= MAX:\n",
    "            return False\n",
    "    return True\n",
    "\n",
    "\n",
    "def splitter(pauses, duration, MIN=10, MAX=20):\n",
    "    from itertools import combinations, chain\n",
    "\n",
    "    def powerset(iterable):\n",
    "        \"powerset([1,2,3]) --> () (1,) (2,) (3,) (1,2) (1,3) (2,3) (1,2,3)\"\n",
    "        s = list(iterable)\n",
    "        return chain.from_iterable(combinations(s, r) for r in range(len(s)+1))\n",
    "    all_combinations = list(powerset(pauses))\n",
    "    logging.info(f\"Testing {len(all_combinations)} combinations....\")\n",
    "    for combination in all_combinations:\n",
    "        if is_ok(combination, duration, MIN=MIN, MAX=MAX):\n",
    "            return list(combination)\n",
    "    logging.warning(f\"No solution found so that {MIN=}s <= duration <= {MAX=}s.\")\n",
    "    return None\n",
    "\n",
    "\n",
    "pauses = [i for i in range(2,40,4)]\n",
    "splitter(pauses, 40)\n"
   ]
  },
  {
   "cell_type": "code",
   "execution_count": 62,
   "metadata": {},
   "outputs": [
    {
     "name": "stderr",
     "output_type": "stream",
     "text": [
      "2021-12-10 13:42:30,052 - INFO - Testing 4 combinations....\n",
      "2021-12-10 13:42:30,053 - WARNING - No solution found so that MIN=10s <= duration <= MAX=20s.\n"
     ]
    }
   ],
   "source": [
    "splitter([8, 18], 25)"
   ]
  },
  {
   "cell_type": "code",
   "execution_count": null,
   "metadata": {},
   "outputs": [],
   "source": [
    "from pydub import AudioSegment\n",
    "from pydub.silence import split_on_silence, detect_silence\n",
    "file = \"/home/peterr/macocu/task6_speech/data/00009875.flac.wav\"\n",
    "sound_file = AudioSegment.from_wav(file)\n",
    "audio_chunks = split_on_silence(sound_file, min_silence_len=1000, silence_thresh=-40 )\n",
    "print([i.duration_seconds for i in audio_chunks])"
   ]
  },
  {
   "cell_type": "code",
   "execution_count": 14,
   "metadata": {},
   "outputs": [
    {
     "data": {
      "text/plain": [
       "(75, 6, 8, 'To drugi.')"
      ]
     },
     "execution_count": 14,
     "metadata": {},
     "output_type": "execute_result"
    }
   ],
   "source": [
    "gold = \"Recimo da je to prvi chunk. To drugi. In končno tretji.\"\n",
    "model_output = \"To je ta drugi.\"\n",
    "\n",
    "from fuzzywuzzy import fuzz\n",
    "def get_subset(gold, model_output):\n",
    "    results = list()\n",
    "    gold = gold.split(\" \")\n",
    "    model_output = model_output.split(\" \")\n",
    "    M = len(gold)\n",
    "    for start in range(M):\n",
    "        for end in range(M):\n",
    "            try:\n",
    "                subset = gold[start:end]\n",
    "            except IndexError:\n",
    "                continue\n",
    "            ratio = fuzz.ratio(\" \".join(model_output), \" \".join(subset))\n",
    "            results.append((ratio, start, end, \" \".join(subset)))\n",
    "    maximum_ratio = max(results, key=lambda tup: tup[0])\n",
    "    for result in results:\n",
    "        if result[0] == maximum_ratio[0]:\n",
    "            return result\n",
    "    return results\n",
    "\n",
    "\n",
    "get_subset(gold, model_output)\n"
   ]
  },
  {
   "cell_type": "code",
   "execution_count": 66,
   "metadata": {},
   "outputs": [
    {
     "data": {
      "text/plain": [
       "(87, 0, 6, 'a o tome govori i tematika')"
      ]
     },
     "execution_count": 66,
     "metadata": {},
     "output_type": "execute_result"
    }
   ],
   "source": [
    "get_subset(\n",
    "    \"a o tome govori i tematika zbog kojeg su se sve žalili\",\n",
    "    \"aotomegovoritematika\"\n",
    ")"
   ]
  },
  {
   "cell_type": "code",
   "execution_count": 57,
   "metadata": {},
   "outputs": [
    {
     "data": {
      "text/plain": [
       "(99, 0, 5, 'poštovane kolegice i kolege zastupnici')"
      ]
     },
     "execution_count": 57,
     "metadata": {},
     "output_type": "execute_result"
    }
   ],
   "source": [
    "get_subset(\n",
    "    \"poštovane kolegice i kolege zastupnici molio bi da nastavimo sa radom sjednice\",\n",
    "    \"poštovane kolegice ikolege zastupnici\"\n",
    ")"
   ]
  },
  {
   "cell_type": "code",
   "execution_count": 67,
   "metadata": {},
   "outputs": [
    {
     "name": "stdout",
     "output_type": "stream",
     "text": [
      "============ Longest Matching Sequence ==================\n",
      "\n",
      "Match Object : Match(a=0, b=0, size=20)\n",
      "Matching Sequence from l1 : poštovane kolegice i\n",
      "Matching Sequence from l2 : poštovane kolegice i\n",
      "\n",
      "============ All Matching Sequences ==================\n",
      "\n",
      "Match Object : Match(a=0, b=0, size=20)\n",
      "Matching Sequence from l1 : poštovane kolegice i\n",
      "Matching Sequence from l2 : poštovane kolegice i\n",
      "\n",
      "Match Object : Match(a=21, b=20, size=17)\n",
      "Matching Sequence from l1 : kolege zastupnici\n",
      "Matching Sequence from l2 : kolege zastupnici\n",
      "\n",
      "Match Object : Match(a=78, b=37, size=0)\n",
      "Matching Sequence from l1 : \n",
      "Matching Sequence from l2 : \n"
     ]
    }
   ],
   "source": [
    "import difflib\n",
    "\n",
    "l1 = \"poštovane kolegice i kolege zastupnici molio bi da nastavimo sa radom sjednice\"\n",
    "l2 = \"poštovane kolegice ikolege zastupnici\"\n",
    "\n",
    "seq_mat = difflib.SequenceMatcher(a=l1, b=l2)\n",
    "\n",
    "match = seq_mat.find_longest_match(alo=0, ahi=len(l1), blo=0, bhi=len(l2))\n",
    "\n",
    "print(\"============ Longest Matching Sequence ==================\")\n",
    "print(\"\\nMatch Object : {}\".format(match))\n",
    "print(\"Matching Sequence from l1 : {}\".format(l1[match.a:match.a+match.size]))\n",
    "print(\"Matching Sequence from l2 : {}\\n\".format(l2[match.b:match.b+match.size]))\n",
    "\n",
    "print(\"============ All Matching Sequences ==================\")\n",
    "for match in seq_mat.get_matching_blocks():\n",
    "    print(\"\\nMatch Object : {}\".format(match))\n",
    "    print(\"Matching Sequence from l1 : {}\".format(l1[match.a:match.a+match.size]))\n",
    "    print(\"Matching Sequence from l2 : {}\".format(l2[match.b:match.b+match.size]))"
   ]
  },
  {
   "cell_type": "code",
   "execution_count": 70,
   "metadata": {},
   "outputs": [
    {
     "name": "stdout",
     "output_type": "stream",
     "text": [
      "Collecting nwalign3\n",
      "  Downloading nwalign3-0.1.2.tar.gz (101 kB)\n",
      "\u001b[K     |████████████████████████████████| 101 kB 3.6 MB/s ta 0:00:011\n",
      "\u001b[?25hRequirement already satisfied: numpy in /home/peterr/anaconda3/lib/python3.8/site-packages (from nwalign3) (1.18.5)\n",
      "Requirement already satisfied: cython in /home/peterr/anaconda3/lib/python3.8/site-packages (from nwalign3) (0.29.21)\n",
      "Building wheels for collected packages: nwalign3\n",
      "  Building wheel for nwalign3 (setup.py) ... \u001b[?25ldone\n",
      "\u001b[?25h  Created wheel for nwalign3: filename=nwalign3-0.1.2-cp38-cp38-linux_x86_64.whl size=202828 sha256=c832642efe00eeb061d196410abce5b7c11bc2c97cd62b2e7507727e9bb6cba0\n",
      "  Stored in directory: /home/peterr/.cache/pip/wheels/3a/9d/62/f90fb1d9ac5c9be659660df5d982343338347d1d70e4252042\n",
      "Successfully built nwalign3\n",
      "Installing collected packages: nwalign3\n",
      "Successfully installed nwalign3-0.1.2\n"
     ]
    }
   ],
   "source": [
    "!pip install nwalign3"
   ]
  },
  {
   "cell_type": "code",
   "execution_count": 72,
   "metadata": {},
   "outputs": [],
   "source": [
    "import nwalign3 as nw"
   ]
  },
  {
   "cell_type": "code",
   "execution_count": 78,
   "metadata": {},
   "outputs": [
    {
     "ename": "TypeError",
     "evalue": "global_align_no_matrix() takes exactly 5 positional arguments (2 given)",
     "output_type": "error",
     "traceback": [
      "\u001b[0;31m---------------------------------------------------------------------------\u001b[0m",
      "\u001b[0;31mTypeError\u001b[0m                                 Traceback (most recent call last)",
      "\u001b[0;32m<ipython-input-78-f1746fb00998>\u001b[0m in \u001b[0;36m<module>\u001b[0;34m\u001b[0m\n\u001b[0;32m----> 1\u001b[0;31m \u001b[0mnw\u001b[0m\u001b[0;34m.\u001b[0m\u001b[0mglobal_align_no_matrix\u001b[0m\u001b[0;34m(\u001b[0m\u001b[0;34m\"EEAEE-\"\u001b[0m\u001b[0;34m,\u001b[0m \u001b[0;34m\"EF-EEG\"\u001b[0m\u001b[0;34m)\u001b[0m\u001b[0;34m\u001b[0m\u001b[0;34m\u001b[0m\u001b[0m\n\u001b[0m",
      "\u001b[0;32m~/anaconda3/lib/python3.8/site-packages/nwalign3/wrappers.py\u001b[0m in \u001b[0;36mglobal_align_no_matrix_wrapper\u001b[0;34m(s1, s2, **kwargs)\u001b[0m\n\u001b[1;32m     29\u001b[0m         \u001b[0ms1\u001b[0m \u001b[0;34m=\u001b[0m \u001b[0ms1\u001b[0m\u001b[0;34m.\u001b[0m\u001b[0mencode\u001b[0m\u001b[0;34m(\u001b[0m\u001b[0;34m)\u001b[0m\u001b[0;34m\u001b[0m\u001b[0;34m\u001b[0m\u001b[0m\n\u001b[1;32m     30\u001b[0m         \u001b[0ms2\u001b[0m \u001b[0;34m=\u001b[0m \u001b[0ms2\u001b[0m\u001b[0;34m.\u001b[0m\u001b[0mencode\u001b[0m\u001b[0;34m(\u001b[0m\u001b[0;34m)\u001b[0m\u001b[0;34m\u001b[0m\u001b[0;34m\u001b[0m\u001b[0m\n\u001b[0;32m---> 31\u001b[0;31m     \u001b[0ma1\u001b[0m\u001b[0;34m,\u001b[0m \u001b[0ma2\u001b[0m \u001b[0;34m=\u001b[0m \u001b[0mglobal_align_no_matrix\u001b[0m\u001b[0;34m(\u001b[0m\u001b[0ms1\u001b[0m\u001b[0;34m,\u001b[0m \u001b[0ms2\u001b[0m\u001b[0;34m,\u001b[0m \u001b[0;34m**\u001b[0m\u001b[0mkwargs\u001b[0m\u001b[0;34m)\u001b[0m\u001b[0;34m\u001b[0m\u001b[0;34m\u001b[0m\u001b[0m\n\u001b[0m\u001b[1;32m     32\u001b[0m     \u001b[0;32mreturn\u001b[0m \u001b[0;34m(\u001b[0m\u001b[0ma1\u001b[0m\u001b[0;34m.\u001b[0m\u001b[0mdecode\u001b[0m\u001b[0;34m(\u001b[0m\u001b[0;34m)\u001b[0m\u001b[0;34m,\u001b[0m \u001b[0ma2\u001b[0m\u001b[0;34m.\u001b[0m\u001b[0mdecode\u001b[0m\u001b[0;34m(\u001b[0m\u001b[0;34m)\u001b[0m\u001b[0;34m)\u001b[0m\u001b[0;34m\u001b[0m\u001b[0;34m\u001b[0m\u001b[0m\n\u001b[1;32m     33\u001b[0m \u001b[0;34m\u001b[0m\u001b[0m\n",
      "\u001b[0;32mcnwalign.pyx\u001b[0m in \u001b[0;36mnwalign.cnwalign.global_align_no_matrix (nwalign3/cnwalign.c:4844)\u001b[0;34m()\u001b[0m\n",
      "\u001b[0;31mTypeError\u001b[0m: global_align_no_matrix() takes exactly 5 positional arguments (2 given)"
     ]
    }
   ],
   "source": [
    "nw.global_align_no_matrix(\"EEAEE-\", \"EF-EEG\")"
   ]
  },
  {
   "cell_type": "code",
   "execution_count": 1,
   "metadata": {},
   "outputs": [
    {
     "data": {
      "text/plain": [
       "[Alignment(seqA='ACCGGT', seqB='A-C-GT', score=4.0, start=0, end=6),\n",
       " Alignment(seqA='ACCGGT', seqB='AC--GT', score=4.0, start=0, end=6),\n",
       " Alignment(seqA='ACCGGT', seqB='A-CG-T', score=4.0, start=0, end=6),\n",
       " Alignment(seqA='ACCGGT', seqB='AC-G-T', score=4.0, start=0, end=6)]"
      ]
     },
     "execution_count": 1,
     "metadata": {},
     "output_type": "execute_result"
    }
   ],
   "source": [
    "from Bio import pairwise2\n",
    "from Bio.Seq import Seq\n",
    "seq1 = Seq(\"ACCGGT\") \n",
    "seq2 = Seq(\"ACGT\")\n",
    "\n",
    "pairwise2.align.globalxx(seq1, seq2)"
   ]
  },
  {
   "cell_type": "code",
   "execution_count": 10,
   "metadata": {},
   "outputs": [
    {
     "data": {
      "text/plain": [
       "[Alignment(seqA='a o tome govori i tematika zbog kojeg su se sve zalili', seqB='a o tome govori i-temati--------k----------------a----', score=25.0, start=0, end=54),\n",
       " Alignment(seqA='a o tome govori i tematika zbog kojeg su se sve zalili', seqB='a o tome govori i-tematik------------------------a----', score=25.0, start=0, end=54)]"
      ]
     },
     "execution_count": 10,
     "metadata": {},
     "output_type": "execute_result"
    }
   ],
   "source": [
    "alignments = pairwise2.align.globalxx(\n",
    "        Seq(\"a o tome govori i tematika zbog kojeg su se sve zalili\".encode(\"ascii\")),\n",
    "        Seq(\"a o tome govori itematika\")\n",
    ")\n",
    "alignments"
   ]
  },
  {
   "cell_type": "code",
   "execution_count": 11,
   "metadata": {},
   "outputs": [
    {
     "data": {
      "text/plain": [
       "'a o tome govori i-tematik------------------------a----'"
      ]
     },
     "execution_count": 11,
     "metadata": {},
     "output_type": "execute_result"
    }
   ],
   "source": [
    "alignments[1].seqB"
   ]
  },
  {
   "cell_type": "code",
   "execution_count": 12,
   "metadata": {},
   "outputs": [
    {
     "data": {
      "text/plain": [
       "[Alignment(seqA='postovane kolegice i-kolege zastupnici ja----- bi ----------moli-------o----------', seqB='postovane kolegice i kolege zastupnici --molio bi da nastavimo-- sa radom sjednice', score=45.0, start=0, end=82),\n",
       " Alignment(seqA='postovane kolegice i-kolege zastupnici ja---- bi ----------moli-------o----------', seqB='postovane kolegice i kolege zastupnici -molio bi da nastavimo-- sa radom sjednice', score=45.0, start=0, end=81),\n",
       " Alignment(seqA='postovane kolegice i-kolege zastupnici ja---- bi ----------moli-------o----------', seqB='postovane kolegice i kolege zastupnici m-olio bi da nastavimo-- sa radom sjednice', score=45.0, start=0, end=81),\n",
       " Alignment(seqA='postovane kolegice i-kolege zastupnici j-a--- bi ----------moli-------o----------', seqB='postovane kolegice i kolege zastupnici -molio bi da nastavimo-- sa radom sjednice', score=45.0, start=0, end=81),\n",
       " Alignment(seqA='postovane kolegice i-kolege zastupnici ja--- bi ----------moli-------o----------', seqB='postovane kolegice i kolege zastupnici molio bi da nastavimo-- sa radom sjednice', score=45.0, start=0, end=80),\n",
       " Alignment(seqA='postovane kolegice i-kolege zastupnici -ja--- bi ----------moli-------o----------', seqB='postovane kolegice i kolege zastupnici mo-lio bi da nastavimo-- sa radom sjednice', score=45.0, start=0, end=81),\n",
       " Alignment(seqA='postovane kolegice i-kolege zastupnici j--a-- bi ----------moli-------o----------', seqB='postovane kolegice i kolege zastupnici -molio bi da nastavimo-- sa radom sjednice', score=45.0, start=0, end=81),\n",
       " Alignment(seqA='postovane kolegice i-kolege zastupnici j-a-- bi ----------moli-------o----------', seqB='postovane kolegice i kolege zastupnici molio bi da nastavimo-- sa radom sjednice', score=45.0, start=0, end=80),\n",
       " Alignment(seqA='postovane kolegice i-kolege zastupnici -ja-- bi ----------moli-------o----------', seqB='postovane kolegice i kolege zastupnici molio bi da nastavimo-- sa radom sjednice', score=45.0, start=0, end=80),\n",
       " Alignment(seqA='postovane kolegice i-kolege zastupnici --ja-- bi ----------moli-------o----------', seqB='postovane kolegice i kolege zastupnici mol-io bi da nastavimo-- sa radom sjednice', score=45.0, start=0, end=81),\n",
       " Alignment(seqA='postovane kolegice i-kolege zastupnici j---a- bi ----------moli-------o----------', seqB='postovane kolegice i kolege zastupnici -molio bi da nastavimo-- sa radom sjednice', score=45.0, start=0, end=81),\n",
       " Alignment(seqA='postovane kolegice i-kolege zastupnici j--a- bi ----------moli-------o----------', seqB='postovane kolegice i kolege zastupnici molio bi da nastavimo-- sa radom sjednice', score=45.0, start=0, end=80),\n",
       " Alignment(seqA='postovane kolegice i-kolege zastupnici -j-a- bi ----------moli-------o----------', seqB='postovane kolegice i kolege zastupnici molio bi da nastavimo-- sa radom sjednice', score=45.0, start=0, end=80),\n",
       " Alignment(seqA='postovane kolegice i-kolege zastupnici --ja- bi ----------moli-------o----------', seqB='postovane kolegice i kolege zastupnici molio bi da nastavimo-- sa radom sjednice', score=45.0, start=0, end=80),\n",
       " Alignment(seqA='postovane kolegice i-kolege zastupnici ---ja- bi ----------moli-------o----------', seqB='postovane kolegice i kolege zastupnici moli-o bi da nastavimo-- sa radom sjednice', score=45.0, start=0, end=81),\n",
       " Alignment(seqA='postovane kolegice i-kolege zastupnici j----a bi ----------moli-------o----------', seqB='postovane kolegice i kolege zastupnici -molio bi da nastavimo-- sa radom sjednice', score=45.0, start=0, end=81),\n",
       " Alignment(seqA='postovane kolegice i-kolege zastupnici j---a bi ----------moli-------o----------', seqB='postovane kolegice i kolege zastupnici molio bi da nastavimo-- sa radom sjednice', score=45.0, start=0, end=80),\n",
       " Alignment(seqA='postovane kolegice i-kolege zastupnici -j--a bi ----------moli-------o----------', seqB='postovane kolegice i kolege zastupnici molio bi da nastavimo-- sa radom sjednice', score=45.0, start=0, end=80),\n",
       " Alignment(seqA='postovane kolegice i-kolege zastupnici --j-a bi ----------moli-------o----------', seqB='postovane kolegice i kolege zastupnici molio bi da nastavimo-- sa radom sjednice', score=45.0, start=0, end=80),\n",
       " Alignment(seqA='postovane kolegice i-kolege zastupnici ---ja bi ----------moli-------o----------', seqB='postovane kolegice i kolege zastupnici molio bi da nastavimo-- sa radom sjednice', score=45.0, start=0, end=80),\n",
       " Alignment(seqA='postovane kolegice i-kolege zastupnici ----ja bi ----------moli-------o----------', seqB='postovane kolegice i kolege zastupnici molio- bi da nastavimo-- sa radom sjednice', score=45.0, start=0, end=81),\n",
       " Alignment(seqA='postovane kolegice i-kolege zastupnici ja----- bi--- -------moli-------o----------', seqB='postovane kolegice i kolege zastupnici --molio bi da nastavimo-- sa radom sjednice', score=45.0, start=0, end=82),\n",
       " Alignment(seqA='postovane kolegice i-kolege zastupnici ja---- bi--- -------moli-------o----------', seqB='postovane kolegice i kolege zastupnici -molio bi da nastavimo-- sa radom sjednice', score=45.0, start=0, end=81),\n",
       " Alignment(seqA='postovane kolegice i-kolege zastupnici ja---- bi--- -------moli-------o----------', seqB='postovane kolegice i kolege zastupnici m-olio bi da nastavimo-- sa radom sjednice', score=45.0, start=0, end=81),\n",
       " Alignment(seqA='postovane kolegice i-kolege zastupnici j-a--- bi--- -------moli-------o----------', seqB='postovane kolegice i kolege zastupnici -molio bi da nastavimo-- sa radom sjednice', score=45.0, start=0, end=81),\n",
       " Alignment(seqA='postovane kolegice i-kolege zastupnici ja--- bi--- -------moli-------o----------', seqB='postovane kolegice i kolege zastupnici molio bi da nastavimo-- sa radom sjednice', score=45.0, start=0, end=80),\n",
       " Alignment(seqA='postovane kolegice i-kolege zastupnici -ja--- bi--- -------moli-------o----------', seqB='postovane kolegice i kolege zastupnici mo-lio bi da nastavimo-- sa radom sjednice', score=45.0, start=0, end=81),\n",
       " Alignment(seqA='postovane kolegice i-kolege zastupnici j--a-- bi--- -------moli-------o----------', seqB='postovane kolegice i kolege zastupnici -molio bi da nastavimo-- sa radom sjednice', score=45.0, start=0, end=81),\n",
       " Alignment(seqA='postovane kolegice i-kolege zastupnici j-a-- bi--- -------moli-------o----------', seqB='postovane kolegice i kolege zastupnici molio bi da nastavimo-- sa radom sjednice', score=45.0, start=0, end=80),\n",
       " Alignment(seqA='postovane kolegice i-kolege zastupnici -ja-- bi--- -------moli-------o----------', seqB='postovane kolegice i kolege zastupnici molio bi da nastavimo-- sa radom sjednice', score=45.0, start=0, end=80),\n",
       " Alignment(seqA='postovane kolegice i-kolege zastupnici --ja-- bi--- -------moli-------o----------', seqB='postovane kolegice i kolege zastupnici mol-io bi da nastavimo-- sa radom sjednice', score=45.0, start=0, end=81),\n",
       " Alignment(seqA='postovane kolegice i-kolege zastupnici j---a- bi--- -------moli-------o----------', seqB='postovane kolegice i kolege zastupnici -molio bi da nastavimo-- sa radom sjednice', score=45.0, start=0, end=81),\n",
       " Alignment(seqA='postovane kolegice i-kolege zastupnici j--a- bi--- -------moli-------o----------', seqB='postovane kolegice i kolege zastupnici molio bi da nastavimo-- sa radom sjednice', score=45.0, start=0, end=80),\n",
       " Alignment(seqA='postovane kolegice i-kolege zastupnici -j-a- bi--- -------moli-------o----------', seqB='postovane kolegice i kolege zastupnici molio bi da nastavimo-- sa radom sjednice', score=45.0, start=0, end=80),\n",
       " Alignment(seqA='postovane kolegice i-kolege zastupnici --ja- bi--- -------moli-------o----------', seqB='postovane kolegice i kolege zastupnici molio bi da nastavimo-- sa radom sjednice', score=45.0, start=0, end=80),\n",
       " Alignment(seqA='postovane kolegice i-kolege zastupnici ---ja- bi--- -------moli-------o----------', seqB='postovane kolegice i kolege zastupnici moli-o bi da nastavimo-- sa radom sjednice', score=45.0, start=0, end=81),\n",
       " Alignment(seqA='postovane kolegice i-kolege zastupnici j----a bi--- -------moli-------o----------', seqB='postovane kolegice i kolege zastupnici -molio bi da nastavimo-- sa radom sjednice', score=45.0, start=0, end=81),\n",
       " Alignment(seqA='postovane kolegice i-kolege zastupnici j---a bi--- -------moli-------o----------', seqB='postovane kolegice i kolege zastupnici molio bi da nastavimo-- sa radom sjednice', score=45.0, start=0, end=80),\n",
       " Alignment(seqA='postovane kolegice i-kolege zastupnici -j--a bi--- -------moli-------o----------', seqB='postovane kolegice i kolege zastupnici molio bi da nastavimo-- sa radom sjednice', score=45.0, start=0, end=80),\n",
       " Alignment(seqA='postovane kolegice i-kolege zastupnici --j-a bi--- -------moli-------o----------', seqB='postovane kolegice i kolege zastupnici molio bi da nastavimo-- sa radom sjednice', score=45.0, start=0, end=80),\n",
       " Alignment(seqA='postovane kolegice i-kolege zastupnici ---ja bi--- -------moli-------o----------', seqB='postovane kolegice i kolege zastupnici molio bi da nastavimo-- sa radom sjednice', score=45.0, start=0, end=80),\n",
       " Alignment(seqA='postovane kolegice i-kolege zastupnici ----ja bi--- -------moli-------o----------', seqB='postovane kolegice i kolege zastupnici molio- bi da nastavimo-- sa radom sjednice', score=45.0, start=0, end=81)]"
      ]
     },
     "execution_count": 12,
     "metadata": {},
     "output_type": "execute_result"
    }
   ],
   "source": [
    "l1 = \"postovane kolegice i kolege zastupnici molio bi da nastavimo sa radom sjednice\"\n",
    "l2 = \"postovane kolegice ikolege zastupnici ja bi molio\"\n",
    "\n",
    "alignments = pairwise2.align.globalxx(\n",
    "        Seq(l2),\n",
    "        Seq(l1))\n",
    "alignments"
   ]
  },
  {
   "cell_type": "code",
   "execution_count": 13,
   "metadata": {},
   "outputs": [
    {
     "data": {
      "text/plain": [
       "'postovane kolegice i kolege zastupnici -molio bi da nastavimo-- sa radom sjednice'"
      ]
     },
     "execution_count": 13,
     "metadata": {},
     "output_type": "execute_result"
    }
   ],
   "source": [
    "alignments[1].seqB"
   ]
  },
  {
   "cell_type": "code",
   "execution_count": 15,
   "metadata": {},
   "outputs": [
    {
     "data": {
      "text/plain": [
       "(92, 0, 6, 'postovane kolegice i kolege zastupnici molio')"
      ]
     },
     "execution_count": 15,
     "metadata": {},
     "output_type": "execute_result"
    }
   ],
   "source": [
    "get_subset(l1, l2)"
   ]
  },
  {
   "cell_type": "code",
   "execution_count": 16,
   "metadata": {},
   "outputs": [
    {
     "data": {
      "text/plain": [
       "(100, 0, 0, '')"
      ]
     },
     "execution_count": 16,
     "metadata": {},
     "output_type": "execute_result"
    }
   ],
   "source": [
    "get_subset(l1, \"\")"
   ]
  },
  {
   "cell_type": "code",
   "execution_count": null,
   "metadata": {},
   "outputs": [],
   "source": []
  }
 ],
 "metadata": {
  "interpreter": {
   "hash": "7f6f5766036ee03d059e365a942add07f79c17033585e9357ee8157d52fe6bb9"
  },
  "kernelspec": {
   "display_name": "Python 3.8.3 64-bit ('base': conda)",
   "language": "python",
   "name": "python3"
  },
  "language_info": {
   "codemirror_mode": {
    "name": "ipython",
    "version": 3
   },
   "file_extension": ".py",
   "mimetype": "text/x-python",
   "name": "python",
   "nbconvert_exporter": "python",
   "pygments_lexer": "ipython3",
   "version": "3.8.3"
  },
  "orig_nbformat": 4
 },
 "nbformat": 4,
 "nbformat_minor": 2
}
