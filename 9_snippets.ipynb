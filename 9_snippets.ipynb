{
 "cells": [
  {
   "cell_type": "code",
   "execution_count": 1,
   "metadata": {},
   "outputs": [
    {
     "name": "stderr",
     "output_type": "stream",
     "text": [
      "2021-12-14 09:51:20,926 - INFO - Testing 16 combinations....\n"
     ]
    },
    {
     "data": {
      "text/plain": [
       "[7, 15, 20]"
      ]
     },
     "execution_count": 1,
     "metadata": {},
     "output_type": "execute_result"
    }
   ],
   "source": [
    "import logging\n",
    "logging.basicConfig(format='%(asctime)s - %(levelname)s - %(message)s', level=logging.INFO)\n",
    "MIN = 10\n",
    "MAX = 20\n",
    "\n",
    "def is_ok(pauses, duration, MIN=10, MAX=20):\n",
    "\n",
    "    pauses = [0, *pauses, duration]\n",
    "\n",
    "    for start, end in zip(pauses[:-1], pauses[1:]):\n",
    "        if not MIN <= end - start <= MAX:\n",
    "            return False\n",
    "    return True\n",
    "\n",
    "\n",
    "def splitter(pauses, duration, MIN=10, MAX=20):\n",
    "    from itertools import combinations, chain\n",
    "\n",
    "    def powerset(iterable):\n",
    "        \"powerset([1,2,3]) --> () (1,) (2,) (3,) (1,2) (1,3) (2,3) (1,2,3)\"\n",
    "        s = list(iterable)\n",
    "        return chain.from_iterable(combinations(s, r) for r in range(len(s)+1))\n",
    "    all_combinations = list(powerset(pauses))\n",
    "    logging.info(f\"Testing {len(all_combinations)} combinations....\")\n",
    "    for combination in all_combinations:\n",
    "        if is_ok(combination, duration, MIN=MIN, MAX=MAX):\n",
    "            return list(combination)\n",
    "    logging.warning(f\"No solution found so that {MIN=}s <= duration <= {MAX=}s.\")\n",
    "    return None\n",
    "\n",
    "\n",
    "pauses = [7, 15, 16, 20]\n",
    "splitter(pauses, 28, MIN=5, MAX=10)\n"
   ]
  },
  {
   "cell_type": "code",
   "execution_count": 2,
   "metadata": {},
   "outputs": [
    {
     "data": {
      "text/plain": [
       "[7, 15, 20]"
      ]
     },
     "execution_count": 2,
     "metadata": {},
     "output_type": "execute_result"
    }
   ],
   "source": [
    "def splitter2(pauses, duration, MIN=10, MAX=20):\n",
    "    pauses = [0, *pauses, duration]\n",
    "    subsequent_pauses = [[s,e] for s, e in zip(pauses, pauses[1:]) if MIN <= e-s <= MAX]\n",
    "    res = set()\n",
    "    for s, e in subsequent_pauses:\n",
    "        if s != 0:\n",
    "            res.add(s)\n",
    "        if e != duration:\n",
    "            res.add(e)\n",
    "    return sorted(list(res))\n",
    "    \n",
    "\n",
    "\n",
    "pauses = [7, 15, 16, 20]\n",
    "splitter2(pauses, 28, MIN=5, MAX=10)"
   ]
  },
  {
   "cell_type": "code",
   "execution_count": 3,
   "metadata": {},
   "outputs": [
    {
     "name": "stdout",
     "output_type": "stream",
     "text": [
      "[4.306, 1.813, 2.121, 2.242, 1.549, 2.547, 1.912, 2.422, 2.178, 3.492, 2.824, 3.945, 5.646, 3.345, 12.492, 6.429, 6.731, 7.331, 7.547, 11.441]\n"
     ]
    }
   ],
   "source": [
    "from pydub import AudioSegment\n",
    "from pydub.silence import split_on_silence, detect_silence\n",
    "file = \"/home/peterr/macocu/task6_speech/data/00009875.flac.wav\"\n",
    "sound_file = AudioSegment.from_wav(file)\n",
    "audio_chunks = split_on_silence(sound_file, min_silence_len=1000, silence_thresh=-40 )\n",
    "print([i.duration_seconds for i in audio_chunks])"
   ]
  },
  {
   "cell_type": "code",
   "execution_count": 4,
   "metadata": {},
   "outputs": [
    {
     "data": {
      "text/plain": [
       "(75, 6, 8, 'To drugi.')"
      ]
     },
     "execution_count": 4,
     "metadata": {},
     "output_type": "execute_result"
    }
   ],
   "source": [
    "gold = \"Recimo da je to prvi chunk. To drugi. In končno tretji.\"\n",
    "model_output = \"To je ta drugi.\"\n",
    "\n",
    "from fuzzywuzzy import fuzz\n",
    "def get_subset(gold, model_output):\n",
    "    results = list()\n",
    "    gold = gold.split(\" \")\n",
    "    model_output = model_output.split(\" \")\n",
    "    M = len(gold)\n",
    "    for start in range(M):\n",
    "        for end in range(M):\n",
    "            try:\n",
    "                subset = gold[start:end]\n",
    "            except IndexError:\n",
    "                continue\n",
    "            ratio = fuzz.ratio(\" \".join(model_output), \" \".join(subset))\n",
    "            results.append((ratio, start, end, \" \".join(subset)))\n",
    "    maximum_ratio = max(results, key=lambda tup: tup[0])\n",
    "    for result in results:\n",
    "        if result[0] == maximum_ratio[0]:\n",
    "            return result\n",
    "    return results\n",
    "\n",
    "\n",
    "get_subset(gold, model_output)\n"
   ]
  },
  {
   "cell_type": "code",
   "execution_count": 5,
   "metadata": {},
   "outputs": [
    {
     "data": {
      "text/plain": [
       "(87, 0, 6, 'a o tome govori i tematika')"
      ]
     },
     "execution_count": 5,
     "metadata": {},
     "output_type": "execute_result"
    }
   ],
   "source": [
    "get_subset(\n",
    "    \"a o tome govori i tematika zbog kojeg su se sve žalili\",\n",
    "    \"aotomegovoritematika\"\n",
    ")"
   ]
  },
  {
   "cell_type": "code",
   "execution_count": 6,
   "metadata": {},
   "outputs": [
    {
     "data": {
      "text/plain": [
       "(99, 0, 5, 'poštovane kolegice i kolege zastupnici')"
      ]
     },
     "execution_count": 6,
     "metadata": {},
     "output_type": "execute_result"
    }
   ],
   "source": [
    "get_subset(\n",
    "    \"poštovane kolegice i kolege zastupnici molio bi da nastavimo sa radom sjednice\",\n",
    "    \"poštovane kolegice ikolege zastupnici\"\n",
    ")"
   ]
  },
  {
   "cell_type": "code",
   "execution_count": 7,
   "metadata": {},
   "outputs": [
    {
     "name": "stdout",
     "output_type": "stream",
     "text": [
      "============ Longest Matching Sequence ==================\n",
      "\n",
      "Match Object : Match(a=0, b=0, size=20)\n",
      "Matching Sequence from l1 : poštovane kolegice i\n",
      "Matching Sequence from l2 : poštovane kolegice i\n",
      "\n",
      "============ All Matching Sequences ==================\n",
      "\n",
      "Match Object : Match(a=0, b=0, size=20)\n",
      "Matching Sequence from l1 : poštovane kolegice i\n",
      "Matching Sequence from l2 : poštovane kolegice i\n",
      "\n",
      "Match Object : Match(a=21, b=20, size=17)\n",
      "Matching Sequence from l1 : kolege zastupnici\n",
      "Matching Sequence from l2 : kolege zastupnici\n",
      "\n",
      "Match Object : Match(a=78, b=37, size=0)\n",
      "Matching Sequence from l1 : \n",
      "Matching Sequence from l2 : \n"
     ]
    }
   ],
   "source": [
    "import difflib\n",
    "\n",
    "l1 = \"poštovane kolegice i kolege zastupnici molio bi da nastavimo sa radom sjednice\"\n",
    "l2 = \"poštovane kolegice ikolege zastupnici\"\n",
    "\n",
    "seq_mat = difflib.SequenceMatcher(a=l1, b=l2)\n",
    "\n",
    "match = seq_mat.find_longest_match(alo=0, ahi=len(l1), blo=0, bhi=len(l2))\n",
    "\n",
    "print(\"============ Longest Matching Sequence ==================\")\n",
    "print(\"\\nMatch Object : {}\".format(match))\n",
    "print(\"Matching Sequence from l1 : {}\".format(l1[match.a:match.a+match.size]))\n",
    "print(\"Matching Sequence from l2 : {}\\n\".format(l2[match.b:match.b+match.size]))\n",
    "\n",
    "print(\"============ All Matching Sequences ==================\")\n",
    "for match in seq_mat.get_matching_blocks():\n",
    "    print(\"\\nMatch Object : {}\".format(match))\n",
    "    print(\"Matching Sequence from l1 : {}\".format(l1[match.a:match.a+match.size]))\n",
    "    print(\"Matching Sequence from l2 : {}\".format(l2[match.b:match.b+match.size]))"
   ]
  },
  {
   "cell_type": "code",
   "execution_count": 8,
   "metadata": {},
   "outputs": [
    {
     "name": "stdout",
     "output_type": "stream",
     "text": [
      "Requirement already satisfied: nwalign3 in /home/peterr/anaconda3/lib/python3.8/site-packages (0.1.2)\n",
      "Requirement already satisfied: numpy in /home/peterr/anaconda3/lib/python3.8/site-packages (from nwalign3) (1.18.5)\n",
      "Requirement already satisfied: cython in /home/peterr/anaconda3/lib/python3.8/site-packages (from nwalign3) (0.29.21)\n"
     ]
    }
   ],
   "source": [
    "!pip install nwalign3"
   ]
  },
  {
   "cell_type": "code",
   "execution_count": 9,
   "metadata": {},
   "outputs": [],
   "source": [
    "import nwalign3 as nw"
   ]
  },
  {
   "cell_type": "code",
   "execution_count": 10,
   "metadata": {},
   "outputs": [
    {
     "ename": "TypeError",
     "evalue": "global_align_no_matrix() takes exactly 5 positional arguments (2 given)",
     "output_type": "error",
     "traceback": [
      "\u001b[0;31m---------------------------------------------------------------------------\u001b[0m",
      "\u001b[0;31mTypeError\u001b[0m                                 Traceback (most recent call last)",
      "\u001b[0;32m<ipython-input-10-f1746fb00998>\u001b[0m in \u001b[0;36m<module>\u001b[0;34m\u001b[0m\n\u001b[0;32m----> 1\u001b[0;31m \u001b[0mnw\u001b[0m\u001b[0;34m.\u001b[0m\u001b[0mglobal_align_no_matrix\u001b[0m\u001b[0;34m(\u001b[0m\u001b[0;34m\"EEAEE-\"\u001b[0m\u001b[0;34m,\u001b[0m \u001b[0;34m\"EF-EEG\"\u001b[0m\u001b[0;34m)\u001b[0m\u001b[0;34m\u001b[0m\u001b[0;34m\u001b[0m\u001b[0m\n\u001b[0m",
      "\u001b[0;32m~/anaconda3/lib/python3.8/site-packages/nwalign3/wrappers.py\u001b[0m in \u001b[0;36mglobal_align_no_matrix_wrapper\u001b[0;34m(s1, s2, **kwargs)\u001b[0m\n\u001b[1;32m     29\u001b[0m         \u001b[0ms1\u001b[0m \u001b[0;34m=\u001b[0m \u001b[0ms1\u001b[0m\u001b[0;34m.\u001b[0m\u001b[0mencode\u001b[0m\u001b[0;34m(\u001b[0m\u001b[0;34m)\u001b[0m\u001b[0;34m\u001b[0m\u001b[0;34m\u001b[0m\u001b[0m\n\u001b[1;32m     30\u001b[0m         \u001b[0ms2\u001b[0m \u001b[0;34m=\u001b[0m \u001b[0ms2\u001b[0m\u001b[0;34m.\u001b[0m\u001b[0mencode\u001b[0m\u001b[0;34m(\u001b[0m\u001b[0;34m)\u001b[0m\u001b[0;34m\u001b[0m\u001b[0;34m\u001b[0m\u001b[0m\n\u001b[0;32m---> 31\u001b[0;31m     \u001b[0ma1\u001b[0m\u001b[0;34m,\u001b[0m \u001b[0ma2\u001b[0m \u001b[0;34m=\u001b[0m \u001b[0mglobal_align_no_matrix\u001b[0m\u001b[0;34m(\u001b[0m\u001b[0ms1\u001b[0m\u001b[0;34m,\u001b[0m \u001b[0ms2\u001b[0m\u001b[0;34m,\u001b[0m \u001b[0;34m**\u001b[0m\u001b[0mkwargs\u001b[0m\u001b[0;34m)\u001b[0m\u001b[0;34m\u001b[0m\u001b[0;34m\u001b[0m\u001b[0m\n\u001b[0m\u001b[1;32m     32\u001b[0m     \u001b[0;32mreturn\u001b[0m \u001b[0;34m(\u001b[0m\u001b[0ma1\u001b[0m\u001b[0;34m.\u001b[0m\u001b[0mdecode\u001b[0m\u001b[0;34m(\u001b[0m\u001b[0;34m)\u001b[0m\u001b[0;34m,\u001b[0m \u001b[0ma2\u001b[0m\u001b[0;34m.\u001b[0m\u001b[0mdecode\u001b[0m\u001b[0;34m(\u001b[0m\u001b[0;34m)\u001b[0m\u001b[0;34m)\u001b[0m\u001b[0;34m\u001b[0m\u001b[0;34m\u001b[0m\u001b[0m\n\u001b[1;32m     33\u001b[0m \u001b[0;34m\u001b[0m\u001b[0m\n",
      "\u001b[0;32mcnwalign.pyx\u001b[0m in \u001b[0;36mnwalign.cnwalign.global_align_no_matrix (nwalign3/cnwalign.c:4844)\u001b[0;34m()\u001b[0m\n",
      "\u001b[0;31mTypeError\u001b[0m: global_align_no_matrix() takes exactly 5 positional arguments (2 given)"
     ]
    }
   ],
   "source": [
    "nw.global_align_no_matrix(\"EEAEE-\", \"EF-EEG\")"
   ]
  },
  {
   "cell_type": "code",
   "execution_count": null,
   "metadata": {},
   "outputs": [
    {
     "data": {
      "text/plain": [
       "[Alignment(seqA='ACCGGT', seqB='A-C-GT', score=4.0, start=0, end=6),\n",
       " Alignment(seqA='ACCGGT', seqB='AC--GT', score=4.0, start=0, end=6),\n",
       " Alignment(seqA='ACCGGT', seqB='A-CG-T', score=4.0, start=0, end=6),\n",
       " Alignment(seqA='ACCGGT', seqB='AC-G-T', score=4.0, start=0, end=6)]"
      ]
     },
     "execution_count": 1,
     "metadata": {},
     "output_type": "execute_result"
    }
   ],
   "source": [
    "from Bio import pairwise2\n",
    "from Bio.Seq import Seq\n",
    "seq1 = Seq(\"ACCGGT\") \n",
    "seq2 = Seq(\"ACGT\")\n",
    "\n",
    "pairwise2.align.globalxx(seq1, seq2)"
   ]
  },
  {
   "cell_type": "code",
   "execution_count": null,
   "metadata": {},
   "outputs": [
    {
     "data": {
      "text/plain": [
       "[Alignment(seqA='a o tome govori i tematika zbog kojeg su se sve zalili', seqB='a o tome govori i-temati--------k----------------a----', score=25.0, start=0, end=54),\n",
       " Alignment(seqA='a o tome govori i tematika zbog kojeg su se sve zalili', seqB='a o tome govori i-tematik------------------------a----', score=25.0, start=0, end=54)]"
      ]
     },
     "execution_count": 10,
     "metadata": {},
     "output_type": "execute_result"
    }
   ],
   "source": [
    "alignments = pairwise2.align.globalxx(\n",
    "        Seq(\"a o tome govori i tematika zbog kojeg su se sve zalili\".encode(\"ascii\")),\n",
    "        Seq(\"a o tome govori itematika\")\n",
    ")\n",
    "alignments"
   ]
  },
  {
   "cell_type": "code",
   "execution_count": null,
   "metadata": {},
   "outputs": [
    {
     "data": {
      "text/plain": [
       "'a o tome govori i-tematik------------------------a----'"
      ]
     },
     "execution_count": 11,
     "metadata": {},
     "output_type": "execute_result"
    }
   ],
   "source": [
    "alignments[1].seqB"
   ]
  },
  {
   "cell_type": "code",
   "execution_count": null,
   "metadata": {},
   "outputs": [
    {
     "data": {
      "text/plain": [
       "[Alignment(seqA='postovane kolegice i-kolege zastupnici ja----- bi ----------moli-------o----------', seqB='postovane kolegice i kolege zastupnici --molio bi da nastavimo-- sa radom sjednice', score=45.0, start=0, end=82),\n",
       " Alignment(seqA='postovane kolegice i-kolege zastupnici ja---- bi ----------moli-------o----------', seqB='postovane kolegice i kolege zastupnici -molio bi da nastavimo-- sa radom sjednice', score=45.0, start=0, end=81),\n",
       " Alignment(seqA='postovane kolegice i-kolege zastupnici ja---- bi ----------moli-------o----------', seqB='postovane kolegice i kolege zastupnici m-olio bi da nastavimo-- sa radom sjednice', score=45.0, start=0, end=81),\n",
       " Alignment(seqA='postovane kolegice i-kolege zastupnici j-a--- bi ----------moli-------o----------', seqB='postovane kolegice i kolege zastupnici -molio bi da nastavimo-- sa radom sjednice', score=45.0, start=0, end=81),\n",
       " Alignment(seqA='postovane kolegice i-kolege zastupnici ja--- bi ----------moli-------o----------', seqB='postovane kolegice i kolege zastupnici molio bi da nastavimo-- sa radom sjednice', score=45.0, start=0, end=80),\n",
       " Alignment(seqA='postovane kolegice i-kolege zastupnici -ja--- bi ----------moli-------o----------', seqB='postovane kolegice i kolege zastupnici mo-lio bi da nastavimo-- sa radom sjednice', score=45.0, start=0, end=81),\n",
       " Alignment(seqA='postovane kolegice i-kolege zastupnici j--a-- bi ----------moli-------o----------', seqB='postovane kolegice i kolege zastupnici -molio bi da nastavimo-- sa radom sjednice', score=45.0, start=0, end=81),\n",
       " Alignment(seqA='postovane kolegice i-kolege zastupnici j-a-- bi ----------moli-------o----------', seqB='postovane kolegice i kolege zastupnici molio bi da nastavimo-- sa radom sjednice', score=45.0, start=0, end=80),\n",
       " Alignment(seqA='postovane kolegice i-kolege zastupnici -ja-- bi ----------moli-------o----------', seqB='postovane kolegice i kolege zastupnici molio bi da nastavimo-- sa radom sjednice', score=45.0, start=0, end=80),\n",
       " Alignment(seqA='postovane kolegice i-kolege zastupnici --ja-- bi ----------moli-------o----------', seqB='postovane kolegice i kolege zastupnici mol-io bi da nastavimo-- sa radom sjednice', score=45.0, start=0, end=81),\n",
       " Alignment(seqA='postovane kolegice i-kolege zastupnici j---a- bi ----------moli-------o----------', seqB='postovane kolegice i kolege zastupnici -molio bi da nastavimo-- sa radom sjednice', score=45.0, start=0, end=81),\n",
       " Alignment(seqA='postovane kolegice i-kolege zastupnici j--a- bi ----------moli-------o----------', seqB='postovane kolegice i kolege zastupnici molio bi da nastavimo-- sa radom sjednice', score=45.0, start=0, end=80),\n",
       " Alignment(seqA='postovane kolegice i-kolege zastupnici -j-a- bi ----------moli-------o----------', seqB='postovane kolegice i kolege zastupnici molio bi da nastavimo-- sa radom sjednice', score=45.0, start=0, end=80),\n",
       " Alignment(seqA='postovane kolegice i-kolege zastupnici --ja- bi ----------moli-------o----------', seqB='postovane kolegice i kolege zastupnici molio bi da nastavimo-- sa radom sjednice', score=45.0, start=0, end=80),\n",
       " Alignment(seqA='postovane kolegice i-kolege zastupnici ---ja- bi ----------moli-------o----------', seqB='postovane kolegice i kolege zastupnici moli-o bi da nastavimo-- sa radom sjednice', score=45.0, start=0, end=81),\n",
       " Alignment(seqA='postovane kolegice i-kolege zastupnici j----a bi ----------moli-------o----------', seqB='postovane kolegice i kolege zastupnici -molio bi da nastavimo-- sa radom sjednice', score=45.0, start=0, end=81),\n",
       " Alignment(seqA='postovane kolegice i-kolege zastupnici j---a bi ----------moli-------o----------', seqB='postovane kolegice i kolege zastupnici molio bi da nastavimo-- sa radom sjednice', score=45.0, start=0, end=80),\n",
       " Alignment(seqA='postovane kolegice i-kolege zastupnici -j--a bi ----------moli-------o----------', seqB='postovane kolegice i kolege zastupnici molio bi da nastavimo-- sa radom sjednice', score=45.0, start=0, end=80),\n",
       " Alignment(seqA='postovane kolegice i-kolege zastupnici --j-a bi ----------moli-------o----------', seqB='postovane kolegice i kolege zastupnici molio bi da nastavimo-- sa radom sjednice', score=45.0, start=0, end=80),\n",
       " Alignment(seqA='postovane kolegice i-kolege zastupnici ---ja bi ----------moli-------o----------', seqB='postovane kolegice i kolege zastupnici molio bi da nastavimo-- sa radom sjednice', score=45.0, start=0, end=80),\n",
       " Alignment(seqA='postovane kolegice i-kolege zastupnici ----ja bi ----------moli-------o----------', seqB='postovane kolegice i kolege zastupnici molio- bi da nastavimo-- sa radom sjednice', score=45.0, start=0, end=81),\n",
       " Alignment(seqA='postovane kolegice i-kolege zastupnici ja----- bi--- -------moli-------o----------', seqB='postovane kolegice i kolege zastupnici --molio bi da nastavimo-- sa radom sjednice', score=45.0, start=0, end=82),\n",
       " Alignment(seqA='postovane kolegice i-kolege zastupnici ja---- bi--- -------moli-------o----------', seqB='postovane kolegice i kolege zastupnici -molio bi da nastavimo-- sa radom sjednice', score=45.0, start=0, end=81),\n",
       " Alignment(seqA='postovane kolegice i-kolege zastupnici ja---- bi--- -------moli-------o----------', seqB='postovane kolegice i kolege zastupnici m-olio bi da nastavimo-- sa radom sjednice', score=45.0, start=0, end=81),\n",
       " Alignment(seqA='postovane kolegice i-kolege zastupnici j-a--- bi--- -------moli-------o----------', seqB='postovane kolegice i kolege zastupnici -molio bi da nastavimo-- sa radom sjednice', score=45.0, start=0, end=81),\n",
       " Alignment(seqA='postovane kolegice i-kolege zastupnici ja--- bi--- -------moli-------o----------', seqB='postovane kolegice i kolege zastupnici molio bi da nastavimo-- sa radom sjednice', score=45.0, start=0, end=80),\n",
       " Alignment(seqA='postovane kolegice i-kolege zastupnici -ja--- bi--- -------moli-------o----------', seqB='postovane kolegice i kolege zastupnici mo-lio bi da nastavimo-- sa radom sjednice', score=45.0, start=0, end=81),\n",
       " Alignment(seqA='postovane kolegice i-kolege zastupnici j--a-- bi--- -------moli-------o----------', seqB='postovane kolegice i kolege zastupnici -molio bi da nastavimo-- sa radom sjednice', score=45.0, start=0, end=81),\n",
       " Alignment(seqA='postovane kolegice i-kolege zastupnici j-a-- bi--- -------moli-------o----------', seqB='postovane kolegice i kolege zastupnici molio bi da nastavimo-- sa radom sjednice', score=45.0, start=0, end=80),\n",
       " Alignment(seqA='postovane kolegice i-kolege zastupnici -ja-- bi--- -------moli-------o----------', seqB='postovane kolegice i kolege zastupnici molio bi da nastavimo-- sa radom sjednice', score=45.0, start=0, end=80),\n",
       " Alignment(seqA='postovane kolegice i-kolege zastupnici --ja-- bi--- -------moli-------o----------', seqB='postovane kolegice i kolege zastupnici mol-io bi da nastavimo-- sa radom sjednice', score=45.0, start=0, end=81),\n",
       " Alignment(seqA='postovane kolegice i-kolege zastupnici j---a- bi--- -------moli-------o----------', seqB='postovane kolegice i kolege zastupnici -molio bi da nastavimo-- sa radom sjednice', score=45.0, start=0, end=81),\n",
       " Alignment(seqA='postovane kolegice i-kolege zastupnici j--a- bi--- -------moli-------o----------', seqB='postovane kolegice i kolege zastupnici molio bi da nastavimo-- sa radom sjednice', score=45.0, start=0, end=80),\n",
       " Alignment(seqA='postovane kolegice i-kolege zastupnici -j-a- bi--- -------moli-------o----------', seqB='postovane kolegice i kolege zastupnici molio bi da nastavimo-- sa radom sjednice', score=45.0, start=0, end=80),\n",
       " Alignment(seqA='postovane kolegice i-kolege zastupnici --ja- bi--- -------moli-------o----------', seqB='postovane kolegice i kolege zastupnici molio bi da nastavimo-- sa radom sjednice', score=45.0, start=0, end=80),\n",
       " Alignment(seqA='postovane kolegice i-kolege zastupnici ---ja- bi--- -------moli-------o----------', seqB='postovane kolegice i kolege zastupnici moli-o bi da nastavimo-- sa radom sjednice', score=45.0, start=0, end=81),\n",
       " Alignment(seqA='postovane kolegice i-kolege zastupnici j----a bi--- -------moli-------o----------', seqB='postovane kolegice i kolege zastupnici -molio bi da nastavimo-- sa radom sjednice', score=45.0, start=0, end=81),\n",
       " Alignment(seqA='postovane kolegice i-kolege zastupnici j---a bi--- -------moli-------o----------', seqB='postovane kolegice i kolege zastupnici molio bi da nastavimo-- sa radom sjednice', score=45.0, start=0, end=80),\n",
       " Alignment(seqA='postovane kolegice i-kolege zastupnici -j--a bi--- -------moli-------o----------', seqB='postovane kolegice i kolege zastupnici molio bi da nastavimo-- sa radom sjednice', score=45.0, start=0, end=80),\n",
       " Alignment(seqA='postovane kolegice i-kolege zastupnici --j-a bi--- -------moli-------o----------', seqB='postovane kolegice i kolege zastupnici molio bi da nastavimo-- sa radom sjednice', score=45.0, start=0, end=80),\n",
       " Alignment(seqA='postovane kolegice i-kolege zastupnici ---ja bi--- -------moli-------o----------', seqB='postovane kolegice i kolege zastupnici molio bi da nastavimo-- sa radom sjednice', score=45.0, start=0, end=80),\n",
       " Alignment(seqA='postovane kolegice i-kolege zastupnici ----ja bi--- -------moli-------o----------', seqB='postovane kolegice i kolege zastupnici molio- bi da nastavimo-- sa radom sjednice', score=45.0, start=0, end=81)]"
      ]
     },
     "execution_count": 12,
     "metadata": {},
     "output_type": "execute_result"
    }
   ],
   "source": [
    "l1 = \"postovane kolegice i kolege zastupnici molio bi da nastavimo sa radom sjednice\"\n",
    "l2 = \"postovane kolegice ikolege zastupnici ja bi molio\"\n",
    "\n",
    "alignments = pairwise2.align.globalxx(\n",
    "        Seq(l2),\n",
    "        Seq(l1))\n",
    "alignments"
   ]
  },
  {
   "cell_type": "code",
   "execution_count": null,
   "metadata": {},
   "outputs": [
    {
     "data": {
      "text/plain": [
       "'postovane kolegice i kolege zastupnici -molio bi da nastavimo-- sa radom sjednice'"
      ]
     },
     "execution_count": 13,
     "metadata": {},
     "output_type": "execute_result"
    }
   ],
   "source": [
    "alignments[1].seqB"
   ]
  },
  {
   "cell_type": "code",
   "execution_count": null,
   "metadata": {},
   "outputs": [
    {
     "data": {
      "text/plain": [
       "(92, 0, 6, 'postovane kolegice i kolege zastupnici molio')"
      ]
     },
     "execution_count": 15,
     "metadata": {},
     "output_type": "execute_result"
    }
   ],
   "source": [
    "get_subset(l1, l2)"
   ]
  },
  {
   "cell_type": "code",
   "execution_count": null,
   "metadata": {},
   "outputs": [
    {
     "data": {
      "text/plain": [
       "(100, 0, 0, '')"
      ]
     },
     "execution_count": 16,
     "metadata": {},
     "output_type": "execute_result"
    }
   ],
   "source": [
    "get_subset(l1, \"\")"
   ]
  },
  {
   "cell_type": "code",
   "execution_count": 6,
   "metadata": {},
   "outputs": [
    {
     "data": {
      "text/plain": [
       "'z'"
      ]
     },
     "execution_count": 6,
     "metadata": {},
     "output_type": "execute_result"
    }
   ],
   "source": [
    "def Getletterfromindex(num):\n",
    "    import string\n",
    "    #produces a string from numbers so\n",
    "\n",
    "    #1->a\n",
    "    #2->b\n",
    "    #26->z\n",
    "    #27->aa\n",
    "    #28->ab\n",
    "    #52->az\n",
    "    #53->ba\n",
    "    #54->bb\n",
    "\n",
    "    num2alphadict = dict(zip(range(1, 27), string.ascii_lowercase))\n",
    "    outval = \"\"\n",
    "    numloops = (num-1) //26\n",
    "\n",
    "    if numloops > 0:\n",
    "        outval = outval + self.Getletterfromindex(numloops)\n",
    "\n",
    "    remainder = num % 26\n",
    "    if remainder > 0:\n",
    "        outval = outval + num2alphadict[remainder]\n",
    "    else:\n",
    "        outval = outval + \"z\"\n",
    "    return outval\n",
    "\n",
    "Getletterfromindex(26)"
   ]
  },
  {
   "cell_type": "code",
   "execution_count": null,
   "metadata": {},
   "outputs": [],
   "source": []
  },
  {
   "cell_type": "code",
   "execution_count": null,
   "metadata": {},
   "outputs": [],
   "source": []
  }
 ],
 "metadata": {
  "interpreter": {
   "hash": "7f6f5766036ee03d059e365a942add07f79c17033585e9357ee8157d52fe6bb9"
  },
  "kernelspec": {
   "display_name": "Python 3.8.3 64-bit ('base': conda)",
   "language": "python",
   "name": "python3"
  },
  "language_info": {
   "codemirror_mode": {
    "name": "ipython",
    "version": 3
   },
   "file_extension": ".py",
   "mimetype": "text/x-python",
   "name": "python",
   "nbconvert_exporter": "python",
   "pygments_lexer": "ipython3",
   "version": "3.8.3"
  },
  "orig_nbformat": 4
 },
 "nbformat": 4,
 "nbformat_minor": 2
}
