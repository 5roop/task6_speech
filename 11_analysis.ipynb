{
 "cells": [
  {
   "cell_type": "code",
   "execution_count": 1,
   "metadata": {},
   "outputs": [],
   "source": [
    "import pandas as pd\n",
    "import numpy as np\n",
    "from pydub import AudioSegment\n",
    "from pydub.silence import split_on_silence, detect_silence\n",
    "import gc\n",
    "\n",
    "import logging\n",
    "logging.basicConfig(format='%(asctime)s - %(levelname)s - %(message)s', level=logging.INFO)\n",
    "pd.set_option(\"display.max_colwidth\", 100)\n",
    "df = pd.read_csv(\"/home/peterr/macocu/task6_speech/8_results.csv\")"
   ]
  },
  {
   "cell_type": "code",
   "execution_count": 15,
   "metadata": {},
   "outputs": [
    {
     "name": "stderr",
     "output_type": "stream",
     "text": [
      "2021-12-16 10:21:49,845 - WARNING - No handles with labels found to put in legend.\n"
     ]
    },
    {
     "data": {
      "image/png": "[encoded data removed]",
      "text/plain": [
       "<Figure size 432x288 with 1 Axes>"
      ]
     },
     "metadata": {
      "needs_background": "light"
     },
     "output_type": "display_data"
    }
   ],
   "source": [
    "import matplotlib.pyplot as plt\n",
    "\n",
    "plt.hist(df.loc[df.cuts.isin((0, \"0\"))].duration)\n",
    "plt.xlabel(\"Duration (s)\")\n",
    "plt.legend()\n",
    "plt.semilogy()\n",
    "plt.savefig(\"images/success_after_repeated_splitting.png\")\n",
    "plt.show()"
   ]
  },
  {
   "cell_type": "code",
   "execution_count": 14,
   "metadata": {},
   "outputs": [
    {
     "data": {
      "text/html": [
       "<div>\n",
       "<style scoped>\n",
       "    .dataframe tbody tr th:only-of-type {\n",
       "        vertical-align: middle;\n",
       "    }\n",
       "\n",
       "    .dataframe tbody tr th {\n",
       "        vertical-align: top;\n",
       "    }\n",
       "\n",
       "    .dataframe thead th {\n",
       "        text-align: right;\n",
       "    }\n",
       "</style>\n",
       "<table border=\"1\" class=\"dataframe\">\n",
       "  <thead>\n",
       "    <tr style=\"text-align: right;\">\n",
       "      <th></th>\n",
       "      <th>path</th>\n",
       "      <th>sentence</th>\n",
       "      <th>duration</th>\n",
       "      <th>filesize</th>\n",
       "      <th>to_edit</th>\n",
       "      <th>cuts</th>\n",
       "    </tr>\n",
       "  </thead>\n",
       "  <tbody>\n",
       "    <tr>\n",
       "      <th>19847</th>\n",
       "      <td>/home/peterr/macocu/task6_speech/data/00018027.flac.wav</td>\n",
       "      <td>zakona o komunalnom gospodarstvu za neizgrađeno građevinsko zemljište ima propisani koeficijent ...</td>\n",
       "      <td>19.8</td>\n",
       "      <td>633678</td>\n",
       "      <td>True</td>\n",
       "      <td>0</td>\n",
       "    </tr>\n",
       "    <tr>\n",
       "      <th>19855</th>\n",
       "      <td>/home/peterr/macocu/task6_speech/data/00000964.flac.wav</td>\n",
       "      <td>kolega pernar je u svojoj raspravi u više navrata a to je kasnije kolega bulj rekao na primjeru ...</td>\n",
       "      <td>19.8</td>\n",
       "      <td>633678</td>\n",
       "      <td>True</td>\n",
       "      <td>0</td>\n",
       "    </tr>\n",
       "    <tr>\n",
       "      <th>19856</th>\n",
       "      <td>/home/peterr/macocu/task6_speech/data/00022019.flac.wav</td>\n",
       "      <td>pravo na zaštitu osobnih podataka je jedno od temeljnih prava zaštite interesa svakog pojedinca ...</td>\n",
       "      <td>19.8</td>\n",
       "      <td>633678</td>\n",
       "      <td>True</td>\n",
       "      <td>0</td>\n",
       "    </tr>\n",
       "    <tr>\n",
       "      <th>19881</th>\n",
       "      <td>/home/peterr/macocu/task6_speech/data/00008862.flac.wav</td>\n",
       "      <td>mogućnost zaduživanja hbora na tržištu ograničene su rejtingom te hbor kod donošenja odluka o za...</td>\n",
       "      <td>19.9</td>\n",
       "      <td>636878</td>\n",
       "      <td>True</td>\n",
       "      <td>0</td>\n",
       "    </tr>\n",
       "    <tr>\n",
       "      <th>19886</th>\n",
       "      <td>/home/peterr/macocu/task6_speech/data/00008559.flac.wav</td>\n",
       "      <td>ali isto tako i hrvatska u svom izvoznom cilju može profitirati na način što su neka tržišta dos...</td>\n",
       "      <td>19.9</td>\n",
       "      <td>636878</td>\n",
       "      <td>True</td>\n",
       "      <td>0</td>\n",
       "    </tr>\n",
       "  </tbody>\n",
       "</table>\n",
       "</div>"
      ],
      "text/plain": [
       "                                                          path  \\\n",
       "19847  /home/peterr/macocu/task6_speech/data/00018027.flac.wav   \n",
       "19855  /home/peterr/macocu/task6_speech/data/00000964.flac.wav   \n",
       "19856  /home/peterr/macocu/task6_speech/data/00022019.flac.wav   \n",
       "19881  /home/peterr/macocu/task6_speech/data/00008862.flac.wav   \n",
       "19886  /home/peterr/macocu/task6_speech/data/00008559.flac.wav   \n",
       "\n",
       "                                                                                                  sentence  \\\n",
       "19847  zakona o komunalnom gospodarstvu za neizgrađeno građevinsko zemljište ima propisani koeficijent ...   \n",
       "19855  kolega pernar je u svojoj raspravi u više navrata a to je kasnije kolega bulj rekao na primjeru ...   \n",
       "19856  pravo na zaštitu osobnih podataka je jedno od temeljnih prava zaštite interesa svakog pojedinca ...   \n",
       "19881  mogućnost zaduživanja hbora na tržištu ograničene su rejtingom te hbor kod donošenja odluka o za...   \n",
       "19886  ali isto tako i hrvatska u svom izvoznom cilju može profitirati na način što su neka tržišta dos...   \n",
       "\n",
       "       duration  filesize  to_edit cuts  \n",
       "19847      19.8    633678     True    0  \n",
       "19855      19.8    633678     True    0  \n",
       "19856      19.8    633678     True    0  \n",
       "19881      19.9    636878     True    0  \n",
       "19886      19.9    636878     True    0  "
      ]
     },
     "execution_count": 14,
     "metadata": {},
     "output_type": "execute_result"
    }
   ],
   "source": [
    "c1 = df.duration.between(15, 20)\n",
    "c2 = df.cuts.isin([0, \"0\"])\n",
    "\n",
    "df.loc[c1&c2, :].tail()"
   ]
  },
  {
   "cell_type": "code",
   "execution_count": 13,
   "metadata": {},
   "outputs": [
    {
     "data": {
      "text/plain": [
       "[[951, 1295],\n",
       " [1698, 2444],\n",
       " [2940, 3457],\n",
       " [4648, 5728],\n",
       " [5919, 6556],\n",
       " [6753, 7109],\n",
       " [7642, 8612],\n",
       " [10283, 10895],\n",
       " [11209, 11858],\n",
       " [13466, 13915],\n",
       " [14314, 14757],\n",
       " [14884, 15272],\n",
       " [16947, 17364],\n",
       " [19237, 19900]]"
      ]
     },
     "execution_count": 13,
     "metadata": {},
     "output_type": "execute_result"
    }
   ],
   "source": [
    "file = \"/home/peterr/macocu/task6_speech/data/00008559.flac.wav\"\n",
    "\n",
    "audio = AudioSegment.from_file(file)\n",
    "silences = detect_silence(audio, min_silence_len=300, silence_thresh=-40)\n",
    "silences"
   ]
  },
  {
   "cell_type": "code",
   "execution_count": null,
   "metadata": {},
   "outputs": [],
   "source": []
  }
 ],
 "metadata": {
  "interpreter": {
   "hash": "7f6f5766036ee03d059e365a942add07f79c17033585e9357ee8157d52fe6bb9"
  },
  "kernelspec": {
   "display_name": "Python 3.8.3 64-bit ('base': conda)",
   "language": "python",
   "name": "python3"
  },
  "language_info": {
   "codemirror_mode": {
    "name": "ipython",
    "version": 3
   },
   "file_extension": ".py",
   "mimetype": "text/x-python",
   "name": "python",
   "nbconvert_exporter": "python",
   "pygments_lexer": "ipython3",
   "version": "3.8.3"
  },
  "orig_nbformat": 4
 },
 "nbformat": 4,
 "nbformat_minor": 2
}
