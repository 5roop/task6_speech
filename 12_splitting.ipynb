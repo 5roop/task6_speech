{
 "cells": [
  {
   "cell_type": "code",
   "execution_count": 1,
   "metadata": {},
   "outputs": [
    {
     "data": {
      "text/html": [
       "<div>\n",
       "<style scoped>\n",
       "    .dataframe tbody tr th:only-of-type {\n",
       "        vertical-align: middle;\n",
       "    }\n",
       "\n",
       "    .dataframe tbody tr th {\n",
       "        vertical-align: top;\n",
       "    }\n",
       "\n",
       "    .dataframe thead th {\n",
       "        text-align: right;\n",
       "    }\n",
       "</style>\n",
       "<table border=\"1\" class=\"dataframe\">\n",
       "  <thead>\n",
       "    <tr style=\"text-align: right;\">\n",
       "      <th></th>\n",
       "      <th>path</th>\n",
       "      <th>sentence</th>\n",
       "      <th>duration</th>\n",
       "      <th>filesize</th>\n",
       "      <th>to_edit</th>\n",
       "      <th>cuts</th>\n",
       "    </tr>\n",
       "  </thead>\n",
       "  <tbody>\n",
       "    <tr>\n",
       "      <th>0</th>\n",
       "      <td>/home/peterr/macocu/task6_speech/data/00019728.flac.wav</td>\n",
       "      <td>imamo odgovor na repliku</td>\n",
       "      <td>0.600</td>\n",
       "      <td>19278</td>\n",
       "      <td>False</td>\n",
       "      <td>0</td>\n",
       "    </tr>\n",
       "    <tr>\n",
       "      <th>1</th>\n",
       "      <td>/home/peterr/macocu/task6_speech/data/00013519.flac.wav</td>\n",
       "      <td>pa kako je to moguće</td>\n",
       "      <td>0.600</td>\n",
       "      <td>19278</td>\n",
       "      <td>False</td>\n",
       "      <td>0</td>\n",
       "    </tr>\n",
       "    <tr>\n",
       "      <th>2</th>\n",
       "      <td>/home/peterr/macocu/task6_speech/data/00021417.flac.wav</td>\n",
       "      <td>kaznenog zakona samo ide u prilog tezi da katalog kaznenih djela unatoč tome što je dopunjen i d...</td>\n",
       "      <td>0.629</td>\n",
       "      <td>20206</td>\n",
       "      <td>False</td>\n",
       "      <td>0</td>\n",
       "    </tr>\n",
       "    <tr>\n",
       "      <th>3</th>\n",
       "      <td>/home/peterr/macocu/task6_speech/data/00017866.flac.wav</td>\n",
       "      <td>ponovit ću još jedanput</td>\n",
       "      <td>0.700</td>\n",
       "      <td>22478</td>\n",
       "      <td>False</td>\n",
       "      <td>0</td>\n",
       "    </tr>\n",
       "    <tr>\n",
       "      <th>4</th>\n",
       "      <td>/home/peterr/macocu/task6_speech/data/00004197.flac.wav</td>\n",
       "      <td>evo to je moj odgovor</td>\n",
       "      <td>0.700</td>\n",
       "      <td>22478</td>\n",
       "      <td>False</td>\n",
       "      <td>0</td>\n",
       "    </tr>\n",
       "  </tbody>\n",
       "</table>\n",
       "</div>"
      ],
      "text/plain": [
       "                                                      path  \\\n",
       "0  /home/peterr/macocu/task6_speech/data/00019728.flac.wav   \n",
       "1  /home/peterr/macocu/task6_speech/data/00013519.flac.wav   \n",
       "2  /home/peterr/macocu/task6_speech/data/00021417.flac.wav   \n",
       "3  /home/peterr/macocu/task6_speech/data/00017866.flac.wav   \n",
       "4  /home/peterr/macocu/task6_speech/data/00004197.flac.wav   \n",
       "\n",
       "                                                                                              sentence  \\\n",
       "0                                                                            imamo odgovor na repliku    \n",
       "1                                                                                pa kako je to moguće    \n",
       "2  kaznenog zakona samo ide u prilog tezi da katalog kaznenih djela unatoč tome što je dopunjen i d...   \n",
       "3                                                                             ponovit ću još jedanput    \n",
       "4                                                                               evo to je moj odgovor    \n",
       "\n",
       "   duration  filesize  to_edit cuts  \n",
       "0     0.600     19278    False    0  \n",
       "1     0.600     19278    False    0  \n",
       "2     0.629     20206    False    0  \n",
       "3     0.700     22478    False    0  \n",
       "4     0.700     22478    False    0  "
      ]
     },
     "execution_count": 1,
     "metadata": {},
     "output_type": "execute_result"
    }
   ],
   "source": [
    "import pandas as pd\n",
    "import numpy as np\n",
    "from pydub import AudioSegment\n",
    "from ast import literal_eval\n",
    "import logging\n",
    "logging.basicConfig(format='%(asctime)s - %(levelname)s - %(message)s', level=logging.INFO, )\n",
    "pd.set_option(\"display.max_colwidth\", 100)\n",
    "df = pd.read_csv(\"/home/peterr/macocu/task6_speech/8_results.csv\")\n",
    "\n",
    "\n",
    "def Getletterfromindex(num):\n",
    "    import string\n",
    "    num2alphadict = dict(zip(range(1, 27), string.ascii_lowercase))\n",
    "    outval = \"\"\n",
    "    numloops = (num-1) //26\n",
    "\n",
    "    if numloops > 0:\n",
    "        outval = outval + self.Getletterfromindex(numloops)\n",
    "\n",
    "    remainder = num % 26\n",
    "    if remainder > 0:\n",
    "        outval = outval + num2alphadict[remainder]\n",
    "    else:\n",
    "        outval = outval + \"z\"\n",
    "    return outval\n",
    "\n",
    "df.head()"
   ]
  },
  {
   "cell_type": "code",
   "execution_count": 2,
   "metadata": {},
   "outputs": [
    {
     "data": {
      "text/plain": [
       "'/home/peterr/macocu/task6_speech/data'"
      ]
     },
     "execution_count": 2,
     "metadata": {},
     "output_type": "execute_result"
    }
   ],
   "source": [
    "file = \"/home/peterr/macocu/task6_speech/data/00019728.flac.wav\"\n",
    "\n",
    "import os\n",
    "os.path.dirname(file)"
   ]
  },
  {
   "cell_type": "markdown",
   "metadata": {},
   "source": [
    "Bookkeeping when cutting:\n",
    "\n",
    "I could reconstruct the data from the file naming, but it is easier to keep the records of what is going on while doing it. I propose I keep the records of what files there are to be deleted, what new files are created and what their transcripts are."
   ]
  },
  {
   "cell_type": "code",
   "execution_count": 3,
   "metadata": {},
   "outputs": [],
   "source": [
    "c1 = ~df.cuts.isin((0, \"0\"))\n",
    "\n",
    "files_to_delete = list()\n",
    "new_files = list()\n",
    "\n",
    "for row in df.loc[c1, :].iterrows():\n",
    "    original_path = row[1][\"path\"]\n",
    "    directory = os.path.dirname(original_path)\n",
    "    filename = os.path.basename(original_path)\n",
    "\n",
    "    transcript = row[1][\"sentence\"]\n",
    "    cuts = literal_eval(row[1][\"cuts\"])\n",
    "\n",
    "    if type(cuts) != list:\n",
    "        logging.debug(\n",
    "            f\"File {filename} was not cut because the cuts look like this: {cuts=}\")\n",
    "        continue\n",
    "    if len(cuts) <= 2:\n",
    "        logging.debug(\n",
    "            f\"File {file} was not cut because the length of cuts is less or equal to 2. {cuts=}\")\n",
    "        continue\n",
    "    audio = AudioSegment.from_file(original_path)\n",
    "    for i, (start, end) in enumerate(zip(cuts, cuts[1:])):\n",
    "        letter_suffix = Getletterfromindex(i+1)\n",
    "        new_filename = filename.replace(\n",
    "            \".flac.wav\", f\"{letter_suffix}.flac.wav\")\n",
    "        new_fullpath = os.path.join(directory, new_filename)\n",
    "        chunk = audio[start:end]\n",
    "        chunk.export(new_fullpath, format=\"wav\")\n",
    "        logging.debug(f\"Exported file {new_fullpath}.\")\n",
    "        new_files.append(\n",
    "            {\n",
    "                \"path\": new_fullpath,\n",
    "                \"sentence_uncut\": transcript,\n",
    "                \"original_file\": original_path\n",
    "            }\n",
    "        )\n",
    "        logging.debug(\n",
    "            f\"Appended new path and transcripts to the new_files list\")\n",
    "\n",
    "    files_to_delete.append(original_path)\n"
   ]
  },
  {
   "cell_type": "code",
   "execution_count": 5,
   "metadata": {},
   "outputs": [],
   "source": [
    "new_df = pd.DataFrame(data=new_files)\n",
    "\n",
    "new_df.to_csv(\"12_new_files.csv\", index=False)"
   ]
  },
  {
   "cell_type": "code",
   "execution_count": null,
   "metadata": {},
   "outputs": [],
   "source": []
  }
 ],
 "metadata": {
  "interpreter": {
   "hash": "7f6f5766036ee03d059e365a942add07f79c17033585e9357ee8157d52fe6bb9"
  },
  "kernelspec": {
   "display_name": "Python 3.8.3 64-bit ('base': conda)",
   "language": "python",
   "name": "python3"
  },
  "language_info": {
   "codemirror_mode": {
    "name": "ipython",
    "version": 3
   },
   "file_extension": ".py",
   "mimetype": "text/x-python",
   "name": "python",
   "nbconvert_exporter": "python",
   "pygments_lexer": "ipython3",
   "version": "3.8.3"
  },
  "orig_nbformat": 4
 },
 "nbformat": 4,
 "nbformat_minor": 2
}
