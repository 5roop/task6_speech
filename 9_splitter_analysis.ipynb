{
 "cells": [
  {
   "cell_type": "code",
   "execution_count": 1,
   "metadata": {},
   "outputs": [],
   "source": [
    "import pandas as pd"
   ]
  },
  {
   "cell_type": "code",
   "execution_count": 2,
   "metadata": {},
   "outputs": [
    {
     "data": {
      "text/html": [
       "<div>\n",
       "<style scoped>\n",
       "    .dataframe tbody tr th:only-of-type {\n",
       "        vertical-align: middle;\n",
       "    }\n",
       "\n",
       "    .dataframe tbody tr th {\n",
       "        vertical-align: top;\n",
       "    }\n",
       "\n",
       "    .dataframe thead th {\n",
       "        text-align: right;\n",
       "    }\n",
       "</style>\n",
       "<table border=\"1\" class=\"dataframe\">\n",
       "  <thead>\n",
       "    <tr style=\"text-align: right;\">\n",
       "      <th></th>\n",
       "      <th>Unnamed: 0</th>\n",
       "      <th>path</th>\n",
       "      <th>sentence</th>\n",
       "      <th>duration</th>\n",
       "      <th>filesize</th>\n",
       "      <th>to_edit</th>\n",
       "      <th>cuts</th>\n",
       "    </tr>\n",
       "  </thead>\n",
       "  <tbody>\n",
       "    <tr>\n",
       "      <th>0</th>\n",
       "      <td>0</td>\n",
       "      <td>/home/peterr/macocu/task6_speech/data/00019728...</td>\n",
       "      <td>imamo odgovor na repliku</td>\n",
       "      <td>0.600</td>\n",
       "      <td>19278</td>\n",
       "      <td>False</td>\n",
       "      <td>NaN</td>\n",
       "    </tr>\n",
       "    <tr>\n",
       "      <th>1</th>\n",
       "      <td>1</td>\n",
       "      <td>/home/peterr/macocu/task6_speech/data/00013519...</td>\n",
       "      <td>pa kako je to moguće</td>\n",
       "      <td>0.600</td>\n",
       "      <td>19278</td>\n",
       "      <td>False</td>\n",
       "      <td>NaN</td>\n",
       "    </tr>\n",
       "    <tr>\n",
       "      <th>2</th>\n",
       "      <td>2</td>\n",
       "      <td>/home/peterr/macocu/task6_speech/data/00021417...</td>\n",
       "      <td>kaznenog zakona samo ide u prilog tezi da kata...</td>\n",
       "      <td>0.629</td>\n",
       "      <td>20206</td>\n",
       "      <td>False</td>\n",
       "      <td>NaN</td>\n",
       "    </tr>\n",
       "    <tr>\n",
       "      <th>3</th>\n",
       "      <td>3</td>\n",
       "      <td>/home/peterr/macocu/task6_speech/data/00017866...</td>\n",
       "      <td>ponovit ću još jedanput</td>\n",
       "      <td>0.700</td>\n",
       "      <td>22478</td>\n",
       "      <td>False</td>\n",
       "      <td>NaN</td>\n",
       "    </tr>\n",
       "    <tr>\n",
       "      <th>4</th>\n",
       "      <td>4</td>\n",
       "      <td>/home/peterr/macocu/task6_speech/data/00004197...</td>\n",
       "      <td>evo to je moj odgovor</td>\n",
       "      <td>0.700</td>\n",
       "      <td>22478</td>\n",
       "      <td>False</td>\n",
       "      <td>NaN</td>\n",
       "    </tr>\n",
       "  </tbody>\n",
       "</table>\n",
       "</div>"
      ],
      "text/plain": [
       "   Unnamed: 0                                               path  \\\n",
       "0           0  /home/peterr/macocu/task6_speech/data/00019728...   \n",
       "1           1  /home/peterr/macocu/task6_speech/data/00013519...   \n",
       "2           2  /home/peterr/macocu/task6_speech/data/00021417...   \n",
       "3           3  /home/peterr/macocu/task6_speech/data/00017866...   \n",
       "4           4  /home/peterr/macocu/task6_speech/data/00004197...   \n",
       "\n",
       "                                            sentence  duration  filesize  \\\n",
       "0                          imamo odgovor na repliku      0.600     19278   \n",
       "1                              pa kako je to moguće      0.600     19278   \n",
       "2  kaznenog zakona samo ide u prilog tezi da kata...     0.629     20206   \n",
       "3                           ponovit ću još jedanput      0.700     22478   \n",
       "4                             evo to je moj odgovor      0.700     22478   \n",
       "\n",
       "   to_edit cuts  \n",
       "0    False  NaN  \n",
       "1    False  NaN  \n",
       "2    False  NaN  \n",
       "3    False  NaN  \n",
       "4    False  NaN  "
      ]
     },
     "execution_count": 2,
     "metadata": {},
     "output_type": "execute_result"
    }
   ],
   "source": [
    "df = pd.read_csv(\"/home/peterr/macocu/task6_speech/8_results.csv\")\n",
    "df.loc[].head()"
   ]
  },
  {
   "cell_type": "code",
   "execution_count": 5,
   "metadata": {},
   "outputs": [
    {
     "data": {
      "text/plain": [
       "0.47737556561085975"
      ]
     },
     "execution_count": 5,
     "metadata": {},
     "output_type": "execute_result"
    }
   ],
   "source": [
    "all_to_edit = df.to_edit.sum()\n",
    "all_done = df.loc[df.to_edit&df.cuts.notna()].shape[0]\n",
    "all_done/all_to_edit"
   ]
  },
  {
   "cell_type": "code",
   "execution_count": null,
   "metadata": {},
   "outputs": [],
   "source": []
  }
 ],
 "metadata": {
  "interpreter": {
   "hash": "7f6f5766036ee03d059e365a942add07f79c17033585e9357ee8157d52fe6bb9"
  },
  "kernelspec": {
   "display_name": "Python 3.8.3 64-bit ('base': conda)",
   "language": "python",
   "name": "python3"
  },
  "language_info": {
   "codemirror_mode": {
    "name": "ipython",
    "version": 3
   },
   "file_extension": ".py",
   "mimetype": "text/x-python",
   "name": "python",
   "nbconvert_exporter": "python",
   "pygments_lexer": "ipython3",
   "version": "3.8.3"
  },
  "orig_nbformat": 4
 },
 "nbformat": 4,
 "nbformat_minor": 2
}
