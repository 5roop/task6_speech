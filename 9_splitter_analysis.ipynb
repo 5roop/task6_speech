{
 "cells": [
  {
   "cell_type": "code",
   "execution_count": 2,
   "metadata": {},
   "outputs": [],
   "source": [
    "import pandas as pd"
   ]
  },
  {
   "cell_type": "code",
   "execution_count": 3,
   "metadata": {},
   "outputs": [
    {
     "data": {
      "text/plain": [
       "True"
      ]
     },
     "execution_count": 3,
     "metadata": {},
     "output_type": "execute_result"
    }
   ],
   "source": [
    "df = pd.read_csv(\"/home/peterr/macocu/task6_speech/8_results.csv\")\n",
    "0 in df.cuts"
   ]
  },
  {
   "cell_type": "code",
   "execution_count": 4,
   "metadata": {},
   "outputs": [
    {
     "data": {
      "text/plain": [
       "1.0"
      ]
     },
     "execution_count": 4,
     "metadata": {},
     "output_type": "execute_result"
    }
   ],
   "source": [
    "df = pd.read_csv(\"/home/peterr/macocu/task6_speech/8_results.csv\")\n",
    "df[\"cuts_found\"] =  ~df.cuts.isin([\"0\", 0])\n",
    "all_to_edit = df.to_edit.sum()\n",
    "all_done = df.loc[df.to_edit&(~df.cuts.isin([\"0\", 0]))].shape[0]\n",
    "all_done/all_to_edit"
   ]
  },
  {
   "cell_type": "code",
   "execution_count": 40,
   "metadata": {},
   "outputs": [
    {
     "data": {
      "image/png": "[encoded data removed]",
      "text/plain": [
       "<Figure size 432x288 with 1 Axes>"
      ]
     },
     "metadata": {
      "needs_background": "light"
     },
     "output_type": "display_data"
    }
   ],
   "source": [
    "import matplotlib.pyplot as plt\n",
    "\n",
    "plt.hist(df.loc[df.cuts_found].duration, histtype=\"step\", label=\"Cutting successful\")\n",
    "plt.hist(df.loc[~df.cuts_found&df.to_edit].duration, histtype=\"step\", label=\"Cutting failed\")\n",
    "plt.xlabel(\"Duration (s)\")\n",
    "plt.legend()\n",
    "plt.savefig(\"images/success.png\")\n",
    "plt.show()"
   ]
  },
  {
   "cell_type": "code",
   "execution_count": 5,
   "metadata": {},
   "outputs": [
    {
     "data": {
      "text/plain": [
       "array(['0', '[0, 7155.5, 13301.0, 20100.0]',\n",
       "       '[0, 5615.5, 11732.5, 20100.0]', ...,\n",
       "       '[0, 10161.0, 27715.5, 44524.0, 63144.0, 80600.0]',\n",
       "       '[0, 6505.0, 12653.0, 17914.5, 24353.5, 31334.0, 38319.5, 52732.0, 59076.0, 67258.0, 73307.5, 85000.0]',\n",
       "       '[0, 8072.0, 15173.5, 21134.5, 27561.5, 35717.5, 45027.0, 51771.0, 69898.0, 77279.5, 85260.0, 93908.5, 102482.0, 114400.0]'],\n",
       "      dtype=object)"
      ]
     },
     "execution_count": 5,
     "metadata": {},
     "output_type": "execute_result"
    }
   ],
   "source": [
    "df.cuts.unique()"
   ]
  },
  {
   "cell_type": "code",
   "execution_count": null,
   "metadata": {},
   "outputs": [],
   "source": []
  }
 ],
 "metadata": {
  "interpreter": {
   "hash": "7f6f5766036ee03d059e365a942add07f79c17033585e9357ee8157d52fe6bb9"
  },
  "kernelspec": {
   "display_name": "Python 3.8.3 64-bit ('base': conda)",
   "language": "python",
   "name": "python3"
  },
  "language_info": {
   "codemirror_mode": {
    "name": "ipython",
    "version": 3
   },
   "file_extension": ".py",
   "mimetype": "text/x-python",
   "name": "python",
   "nbconvert_exporter": "python",
   "pygments_lexer": "ipython3",
   "version": "3.8.3"
  },
  "orig_nbformat": 4
 },
 "nbformat": 4,
 "nbformat_minor": 2
}
