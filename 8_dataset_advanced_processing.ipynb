{
 "cells": [
  {
   "cell_type": "code",
   "execution_count": 1,
   "metadata": {},
   "outputs": [
    {
     "data": {
      "text/html": [
       "<div>\n",
       "<style scoped>\n",
       "    .dataframe tbody tr th:only-of-type {\n",
       "        vertical-align: middle;\n",
       "    }\n",
       "\n",
       "    .dataframe tbody tr th {\n",
       "        vertical-align: top;\n",
       "    }\n",
       "\n",
       "    .dataframe thead th {\n",
       "        text-align: right;\n",
       "    }\n",
       "</style>\n",
       "<table border=\"1\" class=\"dataframe\">\n",
       "  <thead>\n",
       "    <tr style=\"text-align: right;\">\n",
       "      <th></th>\n",
       "      <th>path</th>\n",
       "      <th>sentence</th>\n",
       "      <th>duration</th>\n",
       "      <th>filesize</th>\n",
       "    </tr>\n",
       "  </thead>\n",
       "  <tbody>\n",
       "    <tr>\n",
       "      <th>0</th>\n",
       "      <td>/home/peterr/macocu/task6_speech/data/00009875.flac.wav</td>\n",
       "      <td>znači žalili su se zbog dugotrajnosti rješavanja postupka na sudovima na rad i ponašanje pojedin...</td>\n",
       "      <td>114.4</td>\n",
       "      <td>3660878</td>\n",
       "    </tr>\n",
       "    <tr>\n",
       "      <th>1</th>\n",
       "      <td>/home/peterr/macocu/task6_speech/data/00018811.flac.wav</td>\n",
       "      <td>formiranje nacionalne politike i kada mi danas raspravljamo o tome što je glavni uzrok nepostoja...</td>\n",
       "      <td>85.0</td>\n",
       "      <td>2720078</td>\n",
       "    </tr>\n",
       "    <tr>\n",
       "      <th>2</th>\n",
       "      <td>/home/peterr/macocu/task6_speech/data/00006520.flac.wav</td>\n",
       "      <td>ovakvo je to kretanje u dvanaest mjesecu dvije tisuće deset godine imali smo dvadeset pet tisuća...</td>\n",
       "      <td>80.6</td>\n",
       "      <td>2579278</td>\n",
       "    </tr>\n",
       "    <tr>\n",
       "      <th>3</th>\n",
       "      <td>/home/peterr/macocu/task6_speech/data/00014693.flac.wav</td>\n",
       "      <td>pa evo kolega paneniću vi ste spomenuli jedinice lokalne i regionalne samouprave da oni imaju ve...</td>\n",
       "      <td>79.6</td>\n",
       "      <td>2547278</td>\n",
       "    </tr>\n",
       "    <tr>\n",
       "      <th>4</th>\n",
       "      <td>/home/peterr/macocu/task6_speech/data/00007188.flac.wav</td>\n",
       "      <td>dakle stav kluba hadezea je dakle da je ovo vrlo kvalitetan pomak u smislu mijenjanja načina rad...</td>\n",
       "      <td>74.6</td>\n",
       "      <td>2387278</td>\n",
       "    </tr>\n",
       "  </tbody>\n",
       "</table>\n",
       "</div>"
      ],
      "text/plain": [
       "                                                      path  \\\n",
       "0  /home/peterr/macocu/task6_speech/data/00009875.flac.wav   \n",
       "1  /home/peterr/macocu/task6_speech/data/00018811.flac.wav   \n",
       "2  /home/peterr/macocu/task6_speech/data/00006520.flac.wav   \n",
       "3  /home/peterr/macocu/task6_speech/data/00014693.flac.wav   \n",
       "4  /home/peterr/macocu/task6_speech/data/00007188.flac.wav   \n",
       "\n",
       "                                                                                              sentence  \\\n",
       "0  znači žalili su se zbog dugotrajnosti rješavanja postupka na sudovima na rad i ponašanje pojedin...   \n",
       "1  formiranje nacionalne politike i kada mi danas raspravljamo o tome što je glavni uzrok nepostoja...   \n",
       "2  ovakvo je to kretanje u dvanaest mjesecu dvije tisuće deset godine imali smo dvadeset pet tisuća...   \n",
       "3  pa evo kolega paneniću vi ste spomenuli jedinice lokalne i regionalne samouprave da oni imaju ve...   \n",
       "4  dakle stav kluba hadezea je dakle da je ovo vrlo kvalitetan pomak u smislu mijenjanja načina rad...   \n",
       "\n",
       "   duration  filesize  \n",
       "0     114.4   3660878  \n",
       "1      85.0   2720078  \n",
       "2      80.6   2579278  \n",
       "3      79.6   2547278  \n",
       "4      74.6   2387278  "
      ]
     },
     "execution_count": 1,
     "metadata": {},
     "output_type": "execute_result"
    }
   ],
   "source": [
    "import pandas as pd\n",
    "import numpy as np\n",
    "\n",
    "from scipy.io import wavfile\n",
    "file = \"/home/peterr/macocu/task6_speech/data/00009874.flac.wav\"\n",
    "\n",
    "def get_duration(file:str) -> float:\n",
    "    rate, data = wavfile.read(file)\n",
    "    return len(data)/rate\n",
    "\n",
    "get_duration(file)\n",
    "\n",
    "\n",
    "pd.set_option(\"display.max_colwidth\", 100)\n",
    "f = \"/home/nikolal/projects/parlaspeech/transcripts_normalized.txt\"\n",
    "df = pd.read_table(f, names=[\"unknown1\", \"path\", \"sentence\"],\n",
    "        #nrows=2000\n",
    "        )\n",
    "\n",
    "df[\"path\"] = \"/home/peterr/macocu/task6_speech/data/\" + df.path.str.replace(\"flac/\", \"\") + \".wav\"\n",
    "df[\"duration\"] = df.path.apply(get_duration)\n",
    "df = df.drop(columns=\"unknown1\")\n",
    "import os\n",
    "df[\"filesize\"] = df[\"path\"].apply(os.path.getsize)\n",
    "for char in ['*', ':', ';']:\n",
    "    df[\"sentence\"] = df.sentence.str.replace(char, \"\")\n",
    "df.sort_values(by=\"filesize\", ascending=False, inplace=True)\n",
    "df.reset_index(drop=True, inplace=True)\n",
    "df.head(5)"
   ]
  },
  {
   "cell_type": "code",
   "execution_count": 39,
   "metadata": {},
   "outputs": [
    {
     "name": "stdout",
     "output_type": "stream",
     "text": [
      "[4.306, 1.813, 2.121, 2.242, 1.549, 2.547, 1.912, 2.422, 2.178, 3.492, 2.824, 3.945, 5.646, 3.345, 12.492, 6.429, 6.731, 7.331, 7.547, 11.441]\n"
     ]
    }
   ],
   "source": [
    "from pydub import AudioSegment\n",
    "from pydub.silence import split_on_silence, detect_silence\n",
    "file = \"/home/peterr/macocu/task6_speech/data/00009875.flac.wav\"\n",
    "sound_file = AudioSegment.from_wav(file)\n",
    "audio_chunks = split_on_silence(sound_file, min_silence_len=1000, silence_thresh=-40 )\n",
    "print([i.duration_seconds for i in audio_chunks])"
   ]
  },
  {
   "cell_type": "code",
   "execution_count": 41,
   "metadata": {},
   "outputs": [
    {
     "data": {
      "text/plain": [
       "[[4206, 5663],\n",
       " [7276, 8868],\n",
       " [10789, 12545],\n",
       " [14587, 15760],\n",
       " [17109, 18175],\n",
       " [20522, 21747],\n",
       " [23459, 24799],\n",
       " [27021, 28102],\n",
       " [30080, 31721],\n",
       " [35013, 36422],\n",
       " [39046, 40677],\n",
       " [44422, 45632],\n",
       " [51078, 52464],\n",
       " [55609, 57035],\n",
       " [69327, 70469],\n",
       " [76698, 77861],\n",
       " [84392, 86128],\n",
       " [93259, 94558],\n",
       " [101905, 103059]]"
      ]
     },
     "execution_count": 41,
     "metadata": {},
     "output_type": "execute_result"
    }
   ],
   "source": [
    "detect_silence(sound_file, min_silence_len=1000, silence_thresh=-40)"
   ]
  },
  {
   "cell_type": "code",
   "execution_count": null,
   "metadata": {},
   "outputs": [],
   "source": []
  }
 ],
 "metadata": {
  "interpreter": {
   "hash": "7f6f5766036ee03d059e365a942add07f79c17033585e9357ee8157d52fe6bb9"
  },
  "kernelspec": {
   "display_name": "Python 3.8.3 64-bit ('base': conda)",
   "language": "python",
   "name": "python3"
  },
  "language_info": {
   "codemirror_mode": {
    "name": "ipython",
    "version": 3
   },
   "file_extension": ".py",
   "mimetype": "text/x-python",
   "name": "python",
   "nbconvert_exporter": "python",
   "pygments_lexer": "ipython3",
   "version": "3.8.3"
  },
  "orig_nbformat": 4
 },
 "nbformat": 4,
 "nbformat_minor": 2
}
