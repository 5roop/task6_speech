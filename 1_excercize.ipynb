{
 "cells": [
  {
   "cell_type": "code",
   "execution_count": 1,
   "metadata": {},
   "outputs": [
    {
     "name": "stdout",
     "output_type": "stream",
     "text": [
      "Collecting datasets==1.13.3\n",
      "  Downloading datasets-1.13.3-py3-none-any.whl (287 kB)\n",
      "\u001b[K     |████████████████████████████████| 287 kB 4.4 MB/s \n",
      "\u001b[?25hRequirement already satisfied: dill in /home/peterr/anaconda3/lib/python3.8/site-packages (from datasets==1.13.3) (0.3.4)\n",
      "Requirement already satisfied: pyarrow!=4.0.0,>=1.0.0 in /home/peterr/anaconda3/lib/python3.8/site-packages (from datasets==1.13.3) (5.0.0)\n",
      "Requirement already satisfied: xxhash in /home/peterr/anaconda3/lib/python3.8/site-packages (from datasets==1.13.3) (2.0.2)\n",
      "Requirement already satisfied: aiohttp in /home/peterr/anaconda3/lib/python3.8/site-packages (from datasets==1.13.3) (3.7.3)\n",
      "Requirement already satisfied: numpy>=1.17 in /home/peterr/anaconda3/lib/python3.8/site-packages (from datasets==1.13.3) (1.18.5)\n",
      "Requirement already satisfied: fsspec[http]>=2021.05.0 in /home/peterr/anaconda3/lib/python3.8/site-packages (from datasets==1.13.3) (2021.7.0)\n",
      "Collecting tqdm>=4.62.1\n",
      "  Downloading tqdm-4.62.3-py2.py3-none-any.whl (76 kB)\n",
      "\u001b[K     |████████████████████████████████| 76 kB 10.9 MB/s \n",
      "\u001b[?25hCollecting huggingface-hub<0.1.0,>=0.0.19\n",
      "  Downloading huggingface_hub-0.0.19-py3-none-any.whl (56 kB)\n",
      "\u001b[K     |████████████████████████████████| 56 kB 11.2 MB/s \n",
      "\u001b[?25hRequirement already satisfied: multiprocess in /home/peterr/anaconda3/lib/python3.8/site-packages (from datasets==1.13.3) (0.70.12.2)\n",
      "Requirement already satisfied: packaging in /home/peterr/anaconda3/lib/python3.8/site-packages (from datasets==1.13.3) (20.9)\n",
      "Requirement already satisfied: pandas in /home/peterr/anaconda3/lib/python3.8/site-packages (from datasets==1.13.3) (1.0.5)\n",
      "Requirement already satisfied: requests>=2.19.0 in /home/peterr/anaconda3/lib/python3.8/site-packages (from datasets==1.13.3) (2.24.0)\n",
      "Requirement already satisfied: typing-extensions>=3.6.5 in /home/peterr/anaconda3/lib/python3.8/site-packages (from aiohttp->datasets==1.13.3) (3.10.0.2)\n",
      "Requirement already satisfied: async-timeout<4.0,>=3.0 in /home/peterr/anaconda3/lib/python3.8/site-packages (from aiohttp->datasets==1.13.3) (3.0.1)\n",
      "Requirement already satisfied: multidict<7.0,>=4.5 in /home/peterr/anaconda3/lib/python3.8/site-packages (from aiohttp->datasets==1.13.3) (4.7.5)\n",
      "Requirement already satisfied: yarl<2.0,>=1.0 in /home/peterr/anaconda3/lib/python3.8/site-packages (from aiohttp->datasets==1.13.3) (1.6.3)\n",
      "Requirement already satisfied: chardet<4.0,>=2.0 in /home/peterr/anaconda3/lib/python3.8/site-packages (from aiohttp->datasets==1.13.3) (3.0.4)\n",
      "Requirement already satisfied: attrs>=17.3.0 in /home/peterr/anaconda3/lib/python3.8/site-packages (from aiohttp->datasets==1.13.3) (19.3.0)\n",
      "Requirement already satisfied: pyyaml in /home/peterr/anaconda3/lib/python3.8/site-packages (from huggingface-hub<0.1.0,>=0.0.19->datasets==1.13.3) (5.3.1)\n",
      "Requirement already satisfied: filelock in /home/peterr/anaconda3/lib/python3.8/site-packages (from huggingface-hub<0.1.0,>=0.0.19->datasets==1.13.3) (3.0.12)\n",
      "Requirement already satisfied: pyparsing>=2.0.2 in /home/peterr/anaconda3/lib/python3.8/site-packages (from packaging->datasets==1.13.3) (2.4.7)\n",
      "Requirement already satisfied: python-dateutil>=2.6.1 in /home/peterr/anaconda3/lib/python3.8/site-packages (from pandas->datasets==1.13.3) (2.8.1)\n",
      "Requirement already satisfied: pytz>=2017.2 in /home/peterr/anaconda3/lib/python3.8/site-packages (from pandas->datasets==1.13.3) (2020.1)\n",
      "Requirement already satisfied: certifi>=2017.4.17 in /home/peterr/anaconda3/lib/python3.8/site-packages (from requests>=2.19.0->datasets==1.13.3) (2020.6.20)\n",
      "Requirement already satisfied: idna<3,>=2.5 in /home/peterr/anaconda3/lib/python3.8/site-packages (from requests>=2.19.0->datasets==1.13.3) (2.10)\n",
      "Requirement already satisfied: urllib3!=1.25.0,!=1.25.1,<1.26,>=1.21.1 in /home/peterr/anaconda3/lib/python3.8/site-packages (from requests>=2.19.0->datasets==1.13.3) (1.25.11)\n",
      "Requirement already satisfied: six>=1.5 in /home/peterr/anaconda3/lib/python3.8/site-packages (from python-dateutil>=2.6.1->pandas->datasets==1.13.3) (1.15.0)\n",
      "\u001b[31mERROR: transformers 4.9.1 has requirement huggingface-hub==0.0.12, but you'll have huggingface-hub 0.0.19 which is incompatible.\u001b[0m\n",
      "Installing collected packages: tqdm, huggingface-hub, datasets\n",
      "  Attempting uninstall: tqdm\n",
      "    Found existing installation: tqdm 4.47.0\n",
      "    Uninstalling tqdm-4.47.0:\n",
      "      Successfully uninstalled tqdm-4.47.0\n",
      "  Attempting uninstall: huggingface-hub\n",
      "    Found existing installation: huggingface-hub 0.0.15\n",
      "    Uninstalling huggingface-hub-0.0.15:\n",
      "      Successfully uninstalled huggingface-hub-0.0.15\n",
      "  Attempting uninstall: datasets\n",
      "    Found existing installation: datasets 1.11.0\n",
      "    Uninstalling datasets-1.11.0:\n",
      "      Successfully uninstalled datasets-1.11.0\n",
      "Successfully installed datasets-1.13.3 huggingface-hub-0.0.19 tqdm-4.62.3\n",
      "Collecting transformers==4.11.3\n",
      "  Downloading transformers-4.11.3-py3-none-any.whl (2.9 MB)\n",
      "\u001b[K     |████████████████████████████████| 2.9 MB 4.7 MB/s \n",
      "\u001b[?25hRequirement already satisfied: numpy>=1.17 in /home/peterr/anaconda3/lib/python3.8/site-packages (from transformers==4.11.3) (1.18.5)\n",
      "Requirement already satisfied: pyyaml>=5.1 in /home/peterr/anaconda3/lib/python3.8/site-packages (from transformers==4.11.3) (5.3.1)\n",
      "Requirement already satisfied: packaging>=20.0 in /home/peterr/anaconda3/lib/python3.8/site-packages (from transformers==4.11.3) (20.9)\n",
      "Requirement already satisfied: filelock in /home/peterr/anaconda3/lib/python3.8/site-packages (from transformers==4.11.3) (3.0.12)\n",
      "Requirement already satisfied: tqdm>=4.27 in /home/peterr/anaconda3/lib/python3.8/site-packages (from transformers==4.11.3) (4.62.3)\n",
      "Requirement already satisfied: regex!=2019.12.17 in /home/peterr/anaconda3/lib/python3.8/site-packages (from transformers==4.11.3) (2020.6.8)\n",
      "Requirement already satisfied: huggingface-hub>=0.0.17 in /home/peterr/anaconda3/lib/python3.8/site-packages (from transformers==4.11.3) (0.0.19)\n",
      "Requirement already satisfied: requests in /home/peterr/anaconda3/lib/python3.8/site-packages (from transformers==4.11.3) (2.24.0)\n",
      "Requirement already satisfied: tokenizers<0.11,>=0.10.1 in /home/peterr/anaconda3/lib/python3.8/site-packages (from transformers==4.11.3) (0.10.3)\n",
      "Requirement already satisfied: sacremoses in /home/peterr/anaconda3/lib/python3.8/site-packages (from transformers==4.11.3) (0.0.45)\n",
      "Requirement already satisfied: pyparsing>=2.0.2 in /home/peterr/anaconda3/lib/python3.8/site-packages (from packaging>=20.0->transformers==4.11.3) (2.4.7)\n",
      "Requirement already satisfied: typing-extensions in /home/peterr/anaconda3/lib/python3.8/site-packages (from huggingface-hub>=0.0.17->transformers==4.11.3) (3.10.0.2)\n",
      "Requirement already satisfied: chardet<4,>=3.0.2 in /home/peterr/anaconda3/lib/python3.8/site-packages (from requests->transformers==4.11.3) (3.0.4)\n",
      "Requirement already satisfied: idna<3,>=2.5 in /home/peterr/anaconda3/lib/python3.8/site-packages (from requests->transformers==4.11.3) (2.10)\n",
      "Requirement already satisfied: certifi>=2017.4.17 in /home/peterr/anaconda3/lib/python3.8/site-packages (from requests->transformers==4.11.3) (2020.6.20)\n",
      "Requirement already satisfied: urllib3!=1.25.0,!=1.25.1,<1.26,>=1.21.1 in /home/peterr/anaconda3/lib/python3.8/site-packages (from requests->transformers==4.11.3) (1.25.11)\n",
      "Requirement already satisfied: click in /home/peterr/anaconda3/lib/python3.8/site-packages (from sacremoses->transformers==4.11.3) (7.1.2)\n",
      "Requirement already satisfied: six in /home/peterr/anaconda3/lib/python3.8/site-packages (from sacremoses->transformers==4.11.3) (1.15.0)\n",
      "Requirement already satisfied: joblib in /home/peterr/anaconda3/lib/python3.8/site-packages (from sacremoses->transformers==4.11.3) (0.16.0)\n",
      "Installing collected packages: transformers\n",
      "  Attempting uninstall: transformers\n",
      "    Found existing installation: transformers 4.9.1\n",
      "    Uninstalling transformers-4.9.1:\n",
      "      Successfully uninstalled transformers-4.9.1\n",
      "Successfully installed transformers-4.11.3\n",
      "Collecting huggingface_hub==0.1\n",
      "  Downloading huggingface_hub-0.1.0-py3-none-any.whl (59 kB)\n",
      "\u001b[K     |████████████████████████████████| 59 kB 4.1 MB/s \n",
      "\u001b[?25hRequirement already satisfied: requests in /home/peterr/anaconda3/lib/python3.8/site-packages (from huggingface_hub==0.1) (2.24.0)\n",
      "Requirement already satisfied: typing-extensions in /home/peterr/anaconda3/lib/python3.8/site-packages (from huggingface_hub==0.1) (3.10.0.2)\n",
      "Requirement already satisfied: tqdm in /home/peterr/anaconda3/lib/python3.8/site-packages (from huggingface_hub==0.1) (4.62.3)\n",
      "Requirement already satisfied: pyyaml in /home/peterr/anaconda3/lib/python3.8/site-packages (from huggingface_hub==0.1) (5.3.1)\n",
      "Requirement already satisfied: packaging>=20.9 in /home/peterr/anaconda3/lib/python3.8/site-packages (from huggingface_hub==0.1) (20.9)\n",
      "Requirement already satisfied: filelock in /home/peterr/anaconda3/lib/python3.8/site-packages (from huggingface_hub==0.1) (3.0.12)\n",
      "Requirement already satisfied: idna<3,>=2.5 in /home/peterr/anaconda3/lib/python3.8/site-packages (from requests->huggingface_hub==0.1) (2.10)\n",
      "Requirement already satisfied: certifi>=2017.4.17 in /home/peterr/anaconda3/lib/python3.8/site-packages (from requests->huggingface_hub==0.1) (2020.6.20)\n",
      "Requirement already satisfied: chardet<4,>=3.0.2 in /home/peterr/anaconda3/lib/python3.8/site-packages (from requests->huggingface_hub==0.1) (3.0.4)\n",
      "Requirement already satisfied: urllib3!=1.25.0,!=1.25.1,<1.26,>=1.21.1 in /home/peterr/anaconda3/lib/python3.8/site-packages (from requests->huggingface_hub==0.1) (1.25.11)\n",
      "Requirement already satisfied: pyparsing>=2.0.2 in /home/peterr/anaconda3/lib/python3.8/site-packages (from packaging>=20.9->huggingface_hub==0.1) (2.4.7)\n",
      "\u001b[31mERROR: datasets 1.13.3 has requirement huggingface-hub<0.1.0,>=0.0.19, but you'll have huggingface-hub 0.1.0 which is incompatible.\u001b[0m\n",
      "Installing collected packages: huggingface-hub\n",
      "  Attempting uninstall: huggingface-hub\n",
      "    Found existing installation: huggingface-hub 0.0.19\n",
      "    Uninstalling huggingface-hub-0.0.19:\n",
      "      Successfully uninstalled huggingface-hub-0.0.19\n",
      "Successfully installed huggingface-hub-0.1.0\n",
      "Requirement already satisfied: torchaudio in /home/peterr/anaconda3/lib/python3.8/site-packages (0.9.0a0+33b2469)\n",
      "Requirement already satisfied: torch in /home/peterr/anaconda3/lib/python3.8/site-packages (from torchaudio) (1.9.0)\n",
      "Requirement already satisfied: typing_extensions in /home/peterr/anaconda3/lib/python3.8/site-packages (from torch->torchaudio) (3.10.0.2)\n",
      "Collecting librosa\n",
      "  Downloading librosa-0.8.1-py3-none-any.whl (203 kB)\n",
      "\u001b[K     |████████████████████████████████| 203 kB 5.3 MB/s \n",
      "\u001b[?25hRequirement already satisfied: decorator>=3.0.0 in /home/peterr/anaconda3/lib/python3.8/site-packages (from librosa) (4.4.2)\n",
      "Requirement already satisfied: scipy>=1.0.0 in /home/peterr/anaconda3/lib/python3.8/site-packages (from librosa) (1.5.0)\n",
      "Requirement already satisfied: joblib>=0.14 in /home/peterr/anaconda3/lib/python3.8/site-packages (from librosa) (0.16.0)\n",
      "Collecting pooch>=1.0\n",
      "  Downloading pooch-1.5.2-py3-none-any.whl (57 kB)\n",
      "\u001b[K     |████████████████████████████████| 57 kB 19.5 MB/s \n",
      "\u001b[?25hCollecting soundfile>=0.10.2\n",
      "  Downloading SoundFile-0.10.3.post1-py2.py3-none-any.whl (21 kB)\n",
      "Requirement already satisfied: packaging>=20.0 in /home/peterr/anaconda3/lib/python3.8/site-packages (from librosa) (20.9)\n",
      "Collecting resampy>=0.2.2\n",
      "  Downloading resampy-0.2.2.tar.gz (323 kB)\n",
      "\u001b[K     |████████████████████████████████| 323 kB 44.6 MB/s \n",
      "\u001b[?25hRequirement already satisfied: scikit-learn!=0.19.0,>=0.14.0 in /home/peterr/anaconda3/lib/python3.8/site-packages (from librosa) (0.23.1)\n",
      "Collecting audioread>=2.0.0\n",
      "  Downloading audioread-2.1.9.tar.gz (377 kB)\n",
      "\u001b[K     |████████████████████████████████| 377 kB 38.9 MB/s \n",
      "\u001b[?25hRequirement already satisfied: numpy>=1.15.0 in /home/peterr/anaconda3/lib/python3.8/site-packages (from librosa) (1.18.5)\n",
      "Requirement already satisfied: numba>=0.43.0 in /home/peterr/anaconda3/lib/python3.8/site-packages (from librosa) (0.50.1)\n",
      "Requirement already satisfied: requests in /home/peterr/anaconda3/lib/python3.8/site-packages (from pooch>=1.0->librosa) (2.24.0)\n",
      "Collecting appdirs\n",
      "  Downloading appdirs-1.4.4-py2.py3-none-any.whl (9.6 kB)\n",
      "Requirement already satisfied: cffi>=1.0 in /home/peterr/anaconda3/lib/python3.8/site-packages (from soundfile>=0.10.2->librosa) (1.14.0)\n",
      "Requirement already satisfied: pyparsing>=2.0.2 in /home/peterr/anaconda3/lib/python3.8/site-packages (from packaging>=20.0->librosa) (2.4.7)\n",
      "Requirement already satisfied: six>=1.3 in /home/peterr/anaconda3/lib/python3.8/site-packages (from resampy>=0.2.2->librosa) (1.15.0)\n",
      "Requirement already satisfied: threadpoolctl>=2.0.0 in /home/peterr/anaconda3/lib/python3.8/site-packages (from scikit-learn!=0.19.0,>=0.14.0->librosa) (2.1.0)\n",
      "Requirement already satisfied: llvmlite<0.34,>=0.33.0.dev0 in /home/peterr/anaconda3/lib/python3.8/site-packages (from numba>=0.43.0->librosa) (0.33.0+1.g022ab0f)\n",
      "Requirement already satisfied: setuptools in /home/peterr/anaconda3/lib/python3.8/site-packages (from numba>=0.43.0->librosa) (49.2.0.post20200714)\n",
      "Requirement already satisfied: idna<3,>=2.5 in /home/peterr/anaconda3/lib/python3.8/site-packages (from requests->pooch>=1.0->librosa) (2.10)\n",
      "Requirement already satisfied: chardet<4,>=3.0.2 in /home/peterr/anaconda3/lib/python3.8/site-packages (from requests->pooch>=1.0->librosa) (3.0.4)\n",
      "Requirement already satisfied: certifi>=2017.4.17 in /home/peterr/anaconda3/lib/python3.8/site-packages (from requests->pooch>=1.0->librosa) (2020.6.20)\n",
      "Requirement already satisfied: urllib3!=1.25.0,!=1.25.1,<1.26,>=1.21.1 in /home/peterr/anaconda3/lib/python3.8/site-packages (from requests->pooch>=1.0->librosa) (1.25.11)\n",
      "Requirement already satisfied: pycparser in /home/peterr/anaconda3/lib/python3.8/site-packages (from cffi>=1.0->soundfile>=0.10.2->librosa) (2.20)\n",
      "Building wheels for collected packages: resampy, audioread\n",
      "  Building wheel for resampy (setup.py) ... \u001b[?25ldone\n",
      "\u001b[?25h  Created wheel for resampy: filename=resampy-0.2.2-py3-none-any.whl size=320720 sha256=744a27a30efe72eabdb8e03fa92db11b3a9de9b5984e7c121cf0a9160ddd9f57\n",
      "  Stored in directory: /home/peterr/.cache/pip/wheels/6f/d1/5d/f13da53b1dcbc2624ff548456c9ffb526c914f53c12c318bb4\n",
      "  Building wheel for audioread (setup.py) ... \u001b[?25ldone\n",
      "\u001b[?25h  Created wheel for audioread: filename=audioread-2.1.9-py3-none-any.whl size=23142 sha256=93d8f1ffd311df830392a8369c89f29f54cdef01786a538cf6ae87b5b64f5985\n",
      "  Stored in directory: /home/peterr/.cache/pip/wheels/49/5a/e4/df590783499a992a88de6c0898991d1167453a3196d0d1eeb7\n",
      "Successfully built resampy audioread\n",
      "Installing collected packages: appdirs, pooch, soundfile, resampy, audioread, librosa\n",
      "Successfully installed appdirs-1.4.4 audioread-2.1.9 librosa-0.8.1 pooch-1.5.2 resampy-0.2.2 soundfile-0.10.3.post1\n",
      "Collecting jiwer\n",
      "  Downloading jiwer-2.3.0-py3-none-any.whl (15 kB)\n",
      "Collecting python-Levenshtein==0.12.2\n",
      "  Downloading python-Levenshtein-0.12.2.tar.gz (50 kB)\n",
      "\u001b[K     |████████████████████████████████| 50 kB 3.7 MB/s \n",
      "\u001b[?25hRequirement already satisfied: setuptools in /home/peterr/anaconda3/lib/python3.8/site-packages (from python-Levenshtein==0.12.2->jiwer) (49.2.0.post20200714)\n",
      "Building wheels for collected packages: python-Levenshtein\n",
      "  Building wheel for python-Levenshtein (setup.py) ... \u001b[?25ldone\n",
      "\u001b[?25h  Created wheel for python-Levenshtein: filename=python_Levenshtein-0.12.2-cp38-cp38-linux_x86_64.whl size=172250 sha256=fd68028149954cfbdb758b1a71249b2994a2b8ba79ffbee3793e4bcf15de5719\n",
      "  Stored in directory: /home/peterr/.cache/pip/wheels/d7/0c/76/042b46eb0df65c3ccd0338f791210c55ab79d209bcc269e2c7\n",
      "Successfully built python-Levenshtein\n",
      "Installing collected packages: python-Levenshtein, jiwer\n",
      "Successfully installed jiwer-2.3.0 python-Levenshtein-0.12.2\n"
     ]
    }
   ],
   "source": [
    "!pip install datasets==1.13.3\n",
    "!pip install transformers==4.11.3\n",
    "!pip install huggingface_hub==0.1\n",
    "!pip install torchaudio\n",
    "!pip install librosa\n",
    "!pip install jiwer"
   ]
  },
  {
   "cell_type": "code",
   "execution_count": 3,
   "metadata": {},
   "outputs": [
    {
     "data": {
      "application/vnd.jupyter.widget-view+json": {
       "model_id": "f7712f0c80d9435aa4543c75b7a7eea2",
       "version_major": 2,
       "version_minor": 0
      },
      "text/plain": [
       "VBox(children=(HTML(value=\"<center>\\n<img src=https://huggingface.co/front/assets/huggingface_logo-noborder.sv…"
      ]
     },
     "metadata": {},
     "output_type": "display_data"
    }
   ],
   "source": [
    "from huggingface_hub import notebook_login\n",
    "\n",
    "notebook_login()"
   ]
  },
  {
   "cell_type": "code",
   "execution_count": 4,
   "metadata": {},
   "outputs": [
    {
     "data": {
      "application/vnd.jupyter.widget-view+json": {
       "model_id": "e49050c947dc4d828d125b74bfa0533d",
       "version_major": 2,
       "version_minor": 0
      },
      "text/plain": [
       "Downloading:   0%|          | 0.00/4.44k [00:00<?, ?B/s]"
      ]
     },
     "metadata": {},
     "output_type": "display_data"
    },
    {
     "data": {
      "application/vnd.jupyter.widget-view+json": {
       "model_id": "0b04b506747f4691885c458f4657790c",
       "version_major": 2,
       "version_minor": 0
      },
      "text/plain": [
       "Downloading:   0%|          | 0.00/10.2k [00:00<?, ?B/s]"
      ]
     },
     "metadata": {},
     "output_type": "display_data"
    },
    {
     "name": "stdout",
     "output_type": "stream",
     "text": [
      "Downloading and preparing dataset common_voice/tr (download: 592.09 MiB, generated: 2.89 MiB, post-processed: Unknown size, total: 594.98 MiB) to /home/peterr/.cache/huggingface/datasets/common_voice/tr/6.1.0/f7a9d973839b7706e9e281c19b7e512f31badf3c0fdbd21c671f3c4bf9acf3b9...\n"
     ]
    },
    {
     "data": {
      "application/vnd.jupyter.widget-view+json": {
       "model_id": "24886c261e3c44119c85aa05e4ddbedb",
       "version_major": 2,
       "version_minor": 0
      },
      "text/plain": [
       "Downloading:   0%|          | 0.00/621M [00:00<?, ?B/s]"
      ]
     },
     "metadata": {},
     "output_type": "display_data"
    },
    {
     "data": {
      "application/vnd.jupyter.widget-view+json": {
       "model_id": "4ef4a1b4bf7f4afc86cc93dee7da1297",
       "version_major": 2,
       "version_minor": 0
      },
      "text/plain": [
       "0 examples [00:00, ? examples/s]"
      ]
     },
     "metadata": {},
     "output_type": "display_data"
    },
    {
     "data": {
      "application/vnd.jupyter.widget-view+json": {
       "model_id": "279d63580b3f4a28b2bd49d2bc5744a9",
       "version_major": 2,
       "version_minor": 0
      },
      "text/plain": [
       "0 examples [00:00, ? examples/s]"
      ]
     },
     "metadata": {},
     "output_type": "display_data"
    },
    {
     "data": {
      "application/vnd.jupyter.widget-view+json": {
       "model_id": "b4bc48a257c142e1911b668b381a5baa",
       "version_major": 2,
       "version_minor": 0
      },
      "text/plain": [
       "0 examples [00:00, ? examples/s]"
      ]
     },
     "metadata": {},
     "output_type": "display_data"
    },
    {
     "data": {
      "application/vnd.jupyter.widget-view+json": {
       "model_id": "dd0b3280c0ac41c387562970d2630c1d",
       "version_major": 2,
       "version_minor": 0
      },
      "text/plain": [
       "0 examples [00:00, ? examples/s]"
      ]
     },
     "metadata": {},
     "output_type": "display_data"
    },
    {
     "data": {
      "application/vnd.jupyter.widget-view+json": {
       "model_id": "98b19cc7c2d841b1b3239cd6db42fcbc",
       "version_major": 2,
       "version_minor": 0
      },
      "text/plain": [
       "0 examples [00:00, ? examples/s]"
      ]
     },
     "metadata": {},
     "output_type": "display_data"
    },
    {
     "name": "stdout",
     "output_type": "stream",
     "text": [
      "Dataset common_voice downloaded and prepared to /home/peterr/.cache/huggingface/datasets/common_voice/tr/6.1.0/f7a9d973839b7706e9e281c19b7e512f31badf3c0fdbd21c671f3c4bf9acf3b9. Subsequent calls will reuse this data.\n"
     ]
    },
    {
     "name": "stderr",
     "output_type": "stream",
     "text": [
      "Reusing dataset common_voice (/home/peterr/.cache/huggingface/datasets/common_voice/tr/6.1.0/f7a9d973839b7706e9e281c19b7e512f31badf3c0fdbd21c671f3c4bf9acf3b9)\n"
     ]
    }
   ],
   "source": [
    "from datasets import load_dataset, load_metric, Audio\n",
    "\n",
    "common_voice_train = load_dataset(\"common_voice\", \"tr\", split=\"train+validation\")\n",
    "common_voice_test = load_dataset(\"common_voice\", \"tr\", split=\"test\")"
   ]
  },
  {
   "cell_type": "code",
   "execution_count": null,
   "metadata": {},
   "outputs": [],
   "source": [
    "common_voice_train = common_voice_train.remove_columns([\"accent\", \"age\", \"client_id\", \"down_votes\", \"gender\", \"locale\", \"segment\", \"up_votes\"])\n",
    "common_voice_test = common_voice_test.remove_columns([\"accent\", \"age\", \"client_id\", \"down_votes\", \"gender\", \"locale\", \"segment\", \"up_votes\"])"
   ]
  },
  {
   "cell_type": "code",
   "execution_count": 9,
   "metadata": {},
   "outputs": [
    {
     "data": {
      "text/html": [
       "<table border=\"1\" class=\"dataframe\">\n",
       "  <thead>\n",
       "    <tr style=\"text-align: right;\">\n",
       "      <th></th>\n",
       "      <th>sentence</th>\n",
       "    </tr>\n",
       "  </thead>\n",
       "  <tbody>\n",
       "    <tr>\n",
       "      <th>0</th>\n",
       "      <td>\"Kalabalıktan birisi, \"\"Hiçbir açıklamada bulunmayacaklar, yorum yok!\"\" açıklamasını yaptı.\"</td>\n",
       "    </tr>\n",
       "    <tr>\n",
       "      <th>1</th>\n",
       "      <td>Katılım yaklaşık yüzde yetmiş oranında gerçekleşti.</td>\n",
       "    </tr>\n",
       "    <tr>\n",
       "      <th>2</th>\n",
       "      <td>Karar düzenli olarak uzatıldı.</td>\n",
       "    </tr>\n",
       "    <tr>\n",
       "      <th>3</th>\n",
       "      <td>Yasa geriye dönük olarak uygulanacak.</td>\n",
       "    </tr>\n",
       "    <tr>\n",
       "      <th>4</th>\n",
       "      <td>Sizce bu uygulama, onaylansaydı, seçim sonuçlarının güvenilirliğini etkiler miydi?</td>\n",
       "    </tr>\n",
       "    <tr>\n",
       "      <th>5</th>\n",
       "      <td>İhaleye sekiz başka şirket de katıldı.</td>\n",
       "    </tr>\n",
       "    <tr>\n",
       "      <th>6</th>\n",
       "      <td>Bu fazlanın bu yıl daha da artması bekleniyor.</td>\n",
       "    </tr>\n",
       "    <tr>\n",
       "      <th>7</th>\n",
       "      <td>Bunun sonucunda üç bebek hayatını kaybetti.</td>\n",
       "    </tr>\n",
       "    <tr>\n",
       "      <th>8</th>\n",
       "      <td>Müziği eski bir Bosna halk şarkısından geliyor.</td>\n",
       "    </tr>\n",
       "    <tr>\n",
       "      <th>9</th>\n",
       "      <td>O dönemle şimdi arasında bir fark var mı?</td>\n",
       "    </tr>\n",
       "  </tbody>\n",
       "</table>"
      ],
      "text/plain": [
       "<IPython.core.display.HTML object>"
      ]
     },
     "metadata": {},
     "output_type": "display_data"
    }
   ],
   "source": [
    "from datasets import ClassLabel\n",
    "import random\n",
    "import pandas as pd\n",
    "from IPython.display import display, HTML\n",
    "\n",
    "def show_random_elements(dataset, num_examples=10):\n",
    "    assert num_examples <= len(dataset), \"Can't pick more elements than there are in the dataset.\"\n",
    "    picks = []\n",
    "    for _ in range(num_examples):\n",
    "        pick = random.randint(0, len(dataset)-1)\n",
    "        while pick in picks:\n",
    "            pick = random.randint(0, len(dataset)-1)\n",
    "        picks.append(pick)\n",
    "    \n",
    "    df = pd.DataFrame(dataset[picks])\n",
    "    display(HTML(df.to_html()))\n",
    "show_random_elements(common_voice_train.remove_columns([\"path\",\"audio\"]))"
   ]
  },
  {
   "cell_type": "code",
   "execution_count": 10,
   "metadata": {},
   "outputs": [
    {
     "data": {
      "application/vnd.jupyter.widget-view+json": {
       "model_id": "9e0d780da7234088a68e0bc790530a12",
       "version_major": 2,
       "version_minor": 0
      },
      "text/plain": [
       "  0%|          | 0/3478 [00:00<?, ?ex/s]"
      ]
     },
     "metadata": {},
     "output_type": "display_data"
    },
    {
     "data": {
      "application/vnd.jupyter.widget-view+json": {
       "model_id": "19cad8810d9743a8b81048945a82c350",
       "version_major": 2,
       "version_minor": 0
      },
      "text/plain": [
       "  0%|          | 0/1647 [00:00<?, ?ex/s]"
      ]
     },
     "metadata": {},
     "output_type": "display_data"
    }
   ],
   "source": [
    "import re\n",
    "chars_to_remove_regex = '[\\,\\?\\.\\!\\-\\;\\:\\\"\\“\\%\\‘\\”\\�\\']'\n",
    "\n",
    "def remove_special_characters(batch):\n",
    "    batch[\"sentence\"] = re.sub(chars_to_remove_regex, '', batch[\"sentence\"]).lower()\n",
    "    return batch\n",
    "def replace_hatted_characters(batch):\n",
    "    batch[\"sentence\"] = re.sub('[â]', 'a', batch[\"sentence\"])\n",
    "    batch[\"sentence\"] = re.sub('[î]', 'i', batch[\"sentence\"])\n",
    "    batch[\"sentence\"] = re.sub('[ô]', 'o', batch[\"sentence\"])\n",
    "    batch[\"sentence\"] = re.sub('[û]', 'u', batch[\"sentence\"])\n",
    "    return batch\n",
    "\n",
    "common_voice_train = common_voice_train.map(replace_hatted_characters)\n",
    "common_voice_test = common_voice_test.map(replace_hatted_characters)"
   ]
  },
  {
   "cell_type": "code",
   "execution_count": 11,
   "metadata": {},
   "outputs": [
    {
     "data": {
      "application/vnd.jupyter.widget-view+json": {
       "model_id": "f56c88fdf7924c2ba4d3837f17a4c2f7",
       "version_major": 2,
       "version_minor": 0
      },
      "text/plain": [
       "  0%|          | 0/1 [00:00<?, ?ba/s]"
      ]
     },
     "metadata": {},
     "output_type": "display_data"
    },
    {
     "data": {
      "application/vnd.jupyter.widget-view+json": {
       "model_id": "8c4d183dd4ef47438ebaca2901f2a4f6",
       "version_major": 2,
       "version_minor": 0
      },
      "text/plain": [
       "  0%|          | 0/1 [00:00<?, ?ba/s]"
      ]
     },
     "metadata": {},
     "output_type": "display_data"
    }
   ],
   "source": [
    "def extract_all_chars(batch):\n",
    "    all_text = \" \".join(batch[\"sentence\"])\n",
    "    vocab = list(set(all_text))\n",
    "    return {\"vocab\": [vocab], \"all_text\": [all_text]}\n",
    "\n",
    "vocab_train = common_voice_train.map(extract_all_chars, batched=True, batch_size=-1, keep_in_memory=True, remove_columns=common_voice_train.column_names)\n",
    "vocab_test = common_voice_test.map(extract_all_chars, batched=True, batch_size=-1, keep_in_memory=True, remove_columns=common_voice_test.column_names)\n"
   ]
  },
  {
   "cell_type": "code",
   "execution_count": 12,
   "metadata": {},
   "outputs": [
    {
     "data": {
      "text/plain": [
       "{' ': 0,\n",
       " '!': 1,\n",
       " '\"': 2,\n",
       " '%': 3,\n",
       " \"'\": 4,\n",
       " ',': 5,\n",
       " '-': 6,\n",
       " '.': 7,\n",
       " '?': 8,\n",
       " 'A': 9,\n",
       " 'B': 10,\n",
       " 'C': 11,\n",
       " 'D': 12,\n",
       " 'E': 13,\n",
       " 'F': 14,\n",
       " 'G': 15,\n",
       " 'H': 16,\n",
       " 'I': 17,\n",
       " 'J': 18,\n",
       " 'K': 19,\n",
       " 'L': 20,\n",
       " 'M': 21,\n",
       " 'N': 22,\n",
       " 'O': 23,\n",
       " 'P': 24,\n",
       " 'Q': 25,\n",
       " 'R': 26,\n",
       " 'S': 27,\n",
       " 'T': 28,\n",
       " 'U': 29,\n",
       " 'V': 30,\n",
       " 'W': 31,\n",
       " 'X': 32,\n",
       " 'Y': 33,\n",
       " 'Z': 34,\n",
       " 'a': 35,\n",
       " 'b': 36,\n",
       " 'c': 37,\n",
       " 'd': 38,\n",
       " 'e': 39,\n",
       " 'f': 40,\n",
       " 'g': 41,\n",
       " 'h': 42,\n",
       " 'i': 43,\n",
       " 'j': 44,\n",
       " 'k': 45,\n",
       " 'l': 46,\n",
       " 'm': 47,\n",
       " 'n': 48,\n",
       " 'o': 49,\n",
       " 'p': 50,\n",
       " 'r': 51,\n",
       " 's': 52,\n",
       " 't': 53,\n",
       " 'u': 54,\n",
       " 'v': 55,\n",
       " 'w': 56,\n",
       " 'x': 57,\n",
       " 'y': 58,\n",
       " 'z': 59,\n",
       " 'Ç': 60,\n",
       " 'Ö': 61,\n",
       " 'Ü': 62,\n",
       " 'ç': 63,\n",
       " 'ë': 64,\n",
       " 'ö': 65,\n",
       " 'ü': 66,\n",
       " 'ğ': 67,\n",
       " 'İ': 68,\n",
       " 'ı': 69,\n",
       " 'Ş': 70,\n",
       " 'ş': 71,\n",
       " '‘': 72,\n",
       " '“': 73,\n",
       " '”': 74,\n",
       " '�': 75}"
      ]
     },
     "execution_count": 12,
     "metadata": {},
     "output_type": "execute_result"
    }
   ],
   "source": [
    "vocab_list = list(set(vocab_train[\"vocab\"][0]) | set(vocab_test[\"vocab\"][0]))\n",
    "\n",
    "vocab_dict = {v: k for k, v in enumerate(sorted(vocab_list))}\n",
    "vocab_dict"
   ]
  },
  {
   "cell_type": "code",
   "execution_count": 13,
   "metadata": {},
   "outputs": [
    {
     "name": "stdout",
     "output_type": "stream",
     "text": [
      "78\n"
     ]
    }
   ],
   "source": [
    "vocab_dict[\"|\"] = vocab_dict[\" \"]\n",
    "del vocab_dict[\" \"]\n",
    "\n",
    "vocab_dict[\"[UNK]\"] = len(vocab_dict)\n",
    "vocab_dict[\"[PAD]\"] = len(vocab_dict)\n",
    "print(len(vocab_dict))\n",
    "\n",
    "import json\n",
    "with open('vocab.json', 'w') as vocab_file:\n",
    "    json.dump(vocab_dict, vocab_file)"
   ]
  },
  {
   "cell_type": "code",
   "execution_count": 14,
   "metadata": {},
   "outputs": [
    {
     "name": "stderr",
     "output_type": "stream",
     "text": [
      "file ./config.json not found\n",
      "Special tokens have been added in the vocabulary, make sure the associated word embeddings are fine-tuned or trained.\n"
     ]
    }
   ],
   "source": [
    "from transformers import Wav2Vec2CTCTokenizer\n",
    "\n",
    "tokenizer = Wav2Vec2CTCTokenizer.from_pretrained(\"./\", unk_token=\"[UNK]\", pad_token=\"[PAD]\", word_delimiter_token=\"|\")\n"
   ]
  },
  {
   "cell_type": "code",
   "execution_count": 15,
   "metadata": {},
   "outputs": [],
   "source": [
    "from transformers import Wav2Vec2FeatureExtractor\n",
    "\n",
    "feature_extractor = Wav2Vec2FeatureExtractor(feature_size=1, sampling_rate=16000, padding_value=0.0, do_normalize=True, return_attention_mask=True)\n"
   ]
  },
  {
   "cell_type": "code",
   "execution_count": 16,
   "metadata": {},
   "outputs": [],
   "source": [
    "from transformers import Wav2Vec2Processor\n",
    "\n",
    "processor = Wav2Vec2Processor(feature_extractor=feature_extractor, tokenizer=tokenizer)\n"
   ]
  },
  {
   "cell_type": "code",
   "execution_count": 17,
   "metadata": {},
   "outputs": [
    {
     "data": {
      "text/plain": [
       "'/home/peterr/.cache/huggingface/datasets/downloads/extracted/48f67e70b78429f05812a95d676acbf3d01358bc31ebb8b3e08174cf88c21b4e/cv-corpus-6.1-2020-12-11/tr/clips/common_voice_tr_21921195.mp3'"
      ]
     },
     "execution_count": 17,
     "metadata": {},
     "output_type": "execute_result"
    }
   ],
   "source": [
    "common_voice_train[0][\"path\"]"
   ]
  },
  {
   "cell_type": "code",
   "execution_count": 18,
   "metadata": {},
   "outputs": [
    {
     "data": {
      "text/plain": [
       "{'path': '/home/peterr/.cache/huggingface/datasets/downloads/extracted/48f67e70b78429f05812a95d676acbf3d01358bc31ebb8b3e08174cf88c21b4e/cv-corpus-6.1-2020-12-11/tr/clips/common_voice_tr_21921195.mp3',\n",
       " 'array': array([ 0.0000000e+00,  0.0000000e+00,  0.0000000e+00, ...,\n",
       "        -8.8930130e-05, -3.8027763e-05, -2.9146671e-05], dtype=float32),\n",
       " 'sampling_rate': 48000}"
      ]
     },
     "execution_count": 18,
     "metadata": {},
     "output_type": "execute_result"
    }
   ],
   "source": [
    "common_voice_train[0][\"audio\"]"
   ]
  },
  {
   "cell_type": "code",
   "execution_count": 19,
   "metadata": {},
   "outputs": [],
   "source": [
    "common_voice_train = common_voice_train.cast_column(\"audio\", Audio(sampling_rate=16_000))\n",
    "common_voice_test = common_voice_test.cast_column(\"audio\", Audio(sampling_rate=16_000))"
   ]
  },
  {
   "cell_type": "code",
   "execution_count": 20,
   "metadata": {},
   "outputs": [
    {
     "data": {
      "text/plain": [
       "{'path': '/home/peterr/.cache/huggingface/datasets/downloads/extracted/48f67e70b78429f05812a95d676acbf3d01358bc31ebb8b3e08174cf88c21b4e/cv-corpus-6.1-2020-12-11/tr/clips/common_voice_tr_21921195.mp3',\n",
       " 'array': array([ 0.0000000e+00,  0.0000000e+00,  0.0000000e+00, ...,\n",
       "        -7.4556941e-05, -1.4621433e-05, -5.7861507e-05], dtype=float32),\n",
       " 'sampling_rate': 16000}"
      ]
     },
     "execution_count": 20,
     "metadata": {},
     "output_type": "execute_result"
    }
   ],
   "source": [
    "common_voice_train[0][\"audio\"]"
   ]
  },
  {
   "cell_type": "code",
   "execution_count": 21,
   "metadata": {},
   "outputs": [
    {
     "name": "stdout",
     "output_type": "stream",
     "text": [
      "\"Ancak habere Belgrad'daki herkes sevinmedi.\"\n"
     ]
    },
    {
     "data": {
      "text/html": [
       "\n",
       "                <audio  controls=\"controls\" autoplay=\"autoplay\">\n",
       "                    <source src=\"data:audio/wav;base64,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\" type=\"audio/wav\" />\n",
       "                    Your browser does not support the audio element.\n",
       "                </audio>\n",
       "              "
      ],
      "text/plain": [
       "<IPython.lib.display.Audio object>"
      ]
     },
     "execution_count": 21,
     "metadata": {},
     "output_type": "execute_result"
    }
   ],
   "source": [
    "import IPython.display as ipd\n",
    "import numpy as np\n",
    "import random\n",
    "\n",
    "rand_int = random.randint(0, len(common_voice_train)-1)\n",
    "\n",
    "print(common_voice_train[rand_int][\"sentence\"])\n",
    "ipd.Audio(data=common_voice_train[rand_int][\"audio\"][\"array\"], autoplay=True, rate=16000)\n",
    "\n"
   ]
  },
  {
   "cell_type": "code",
   "execution_count": 22,
   "metadata": {},
   "outputs": [],
   "source": [
    "def prepare_dataset(batch):\n",
    "    audio = batch[\"audio\"]\n",
    "\n",
    "    # batched output is \"un-batched\"\n",
    "    batch[\"input_values\"] = processor(audio[\"array\"], sampling_rate=audio[\"sampling_rate\"]).input_values[0]\n",
    "    batch[\"input_length\"] = len(batch[\"input_values\"])\n",
    "    \n",
    "    with processor.as_target_processor():\n",
    "        batch[\"labels\"] = processor(batch[\"sentence\"]).input_ids\n",
    "    return batch"
   ]
  },
  {
   "cell_type": "code",
   "execution_count": 23,
   "metadata": {},
   "outputs": [
    {
     "data": {
      "application/vnd.jupyter.widget-view+json": {
       "model_id": "5926c64ca1974afa9640a766540abf94",
       "version_major": 2,
       "version_minor": 0
      },
      "text/plain": [
       "  0%|          | 0/3478 [00:00<?, ?ex/s]"
      ]
     },
     "metadata": {},
     "output_type": "display_data"
    },
    {
     "data": {
      "application/vnd.jupyter.widget-view+json": {
       "model_id": "93b0b905eada4167a515c87649fa0a7f",
       "version_major": 2,
       "version_minor": 0
      },
      "text/plain": [
       "  0%|          | 0/1647 [00:00<?, ?ex/s]"
      ]
     },
     "metadata": {},
     "output_type": "display_data"
    }
   ],
   "source": [
    "common_voice_train = common_voice_train.map(prepare_dataset, remove_columns=common_voice_train.column_names)\n",
    "common_voice_test = common_voice_test.map(prepare_dataset, remove_columns=common_voice_test.column_names)"
   ]
  },
  {
   "cell_type": "code",
   "execution_count": 24,
   "metadata": {},
   "outputs": [
    {
     "data": {
      "application/vnd.jupyter.widget-view+json": {
       "model_id": "88ac3625afd24757891ca54b3d6ba122",
       "version_major": 2,
       "version_minor": 0
      },
      "text/plain": [
       "Downloading:   0%|          | 0.00/1.95k [00:00<?, ?B/s]"
      ]
     },
     "metadata": {},
     "output_type": "display_data"
    },
    {
     "data": {
      "application/vnd.jupyter.widget-view+json": {
       "model_id": "dae1b1dc094d42dd99be59c62fa117a2",
       "version_major": 2,
       "version_minor": 0
      },
      "text/plain": [
       "Downloading:   0%|          | 0.00/1.53k [00:00<?, ?B/s]"
      ]
     },
     "metadata": {},
     "output_type": "display_data"
    },
    {
     "data": {
      "application/vnd.jupyter.widget-view+json": {
       "model_id": "8803786e74324a71a4cab56f7f3d648d",
       "version_major": 2,
       "version_minor": 0
      },
      "text/plain": [
       "Downloading:   0%|          | 0.00/1.18G [00:00<?, ?B/s]"
      ]
     },
     "metadata": {},
     "output_type": "display_data"
    },
    {
     "name": "stderr",
     "output_type": "stream",
     "text": [
      "Some weights of the model checkpoint at facebook/wav2vec2-xls-r-300m were not used when initializing Wav2Vec2ForCTC: ['quantizer.codevectors', 'project_hid.weight', 'quantizer.weight_proj.bias', 'project_q.bias', 'project_q.weight', 'quantizer.weight_proj.weight', 'project_hid.bias']\n",
      "- This IS expected if you are initializing Wav2Vec2ForCTC from the checkpoint of a model trained on another task or with another architecture (e.g. initializing a BertForSequenceClassification model from a BertForPreTraining model).\n",
      "- This IS NOT expected if you are initializing Wav2Vec2ForCTC from the checkpoint of a model that you expect to be exactly identical (initializing a BertForSequenceClassification model from a BertForSequenceClassification model).\n",
      "Some weights of Wav2Vec2ForCTC were not initialized from the model checkpoint at facebook/wav2vec2-xls-r-300m and are newly initialized: ['lm_head.weight', 'lm_head.bias']\n",
      "You should probably TRAIN this model on a down-stream task to be able to use it for predictions and inference.\n"
     ]
    }
   ],
   "source": [
    "from transformers import Wav2Vec2ForCTC\n",
    "import torch\n",
    "\n",
    "from dataclasses import dataclass, field\n",
    "from typing import Any, Dict, List, Optional, Union\n",
    "\n",
    "\n",
    "@dataclass\n",
    "class DataCollatorCTCWithPadding:\n",
    "    \"\"\"\n",
    "    Data collator that will dynamically pad the inputs received.\n",
    "    Args:\n",
    "        processor (:class:`~transformers.Wav2Vec2Processor`)\n",
    "            The processor used for proccessing the data.\n",
    "        padding (:obj:`bool`, :obj:`str` or :class:`~transformers.tokenization_utils_base.PaddingStrategy`, `optional`, defaults to :obj:`True`):\n",
    "            Select a strategy to pad the returned sequences (according to the model's padding side and padding index)\n",
    "            among:\n",
    "            * :obj:`True` or :obj:`'longest'`: Pad to the longest sequence in the batch (or no padding if only a single\n",
    "              sequence if provided).\n",
    "            * :obj:`'max_length'`: Pad to a maximum length specified with the argument :obj:`max_length` or to the\n",
    "              maximum acceptable input length for the model if that argument is not provided.\n",
    "            * :obj:`False` or :obj:`'do_not_pad'` (default): No padding (i.e., can output a batch with sequences of\n",
    "              different lengths).\n",
    "    \"\"\"\n",
    "\n",
    "    processor: Wav2Vec2Processor\n",
    "    padding: Union[bool, str] = True\n",
    "\n",
    "    def __call__(self, features: List[Dict[str, Union[List[int], torch.Tensor]]]) -> Dict[str, torch.Tensor]:\n",
    "        # split inputs and labels since they have to be of different lenghts and need\n",
    "        # different padding methods\n",
    "        input_features = [{\"input_values\": feature[\"input_values\"]}\n",
    "                          for feature in features]\n",
    "        label_features = [{\"input_ids\": feature[\"labels\"]}\n",
    "                          for feature in features]\n",
    "\n",
    "        batch = self.processor.pad(\n",
    "            input_features,\n",
    "            padding=self.padding,\n",
    "            return_tensors=\"pt\",\n",
    "        )\n",
    "        with self.processor.as_target_processor():\n",
    "            labels_batch = self.processor.pad(\n",
    "                label_features,\n",
    "                padding=self.padding,\n",
    "                return_tensors=\"pt\",\n",
    "            )\n",
    "\n",
    "        # replace padding with -100 to ignore loss correctly\n",
    "        labels = labels_batch[\"input_ids\"].masked_fill(\n",
    "            labels_batch.attention_mask.ne(1), -100)\n",
    "\n",
    "        batch[\"labels\"] = labels\n",
    "\n",
    "        return batch\n",
    "\n",
    "\n",
    "data_collator = DataCollatorCTCWithPadding(processor=processor, padding=True)\n",
    "wer_metric = load_metric(\"wer\")\n",
    "\n",
    "\n",
    "def compute_metrics(pred):\n",
    "    pred_logits = pred.predictions\n",
    "    pred_ids = np.argmax(pred_logits, axis=-1)\n",
    "\n",
    "    pred.label_ids[pred.label_ids == -100] = processor.tokenizer.pad_token_id\n",
    "\n",
    "    pred_str = processor.batch_decode(pred_ids)\n",
    "    # we do not want to group tokens when computing the metrics\n",
    "    label_str = processor.batch_decode(pred.label_ids, group_tokens=False)\n",
    "\n",
    "    wer = wer_metric.compute(predictions=pred_str, references=label_str)\n",
    "\n",
    "    return {\"wer\": wer}\n",
    "\n",
    "\n",
    "model = Wav2Vec2ForCTC.from_pretrained(\n",
    "    \"facebook/wav2vec2-xls-r-300m\",\n",
    "    attention_dropout=0.0,\n",
    "    hidden_dropout=0.0,\n",
    "    feat_proj_dropout=0.0,\n",
    "    mask_time_prob=0.05,\n",
    "    layerdrop=0.0,\n",
    "    ctc_loss_reduction=\"mean\",\n",
    "    pad_token_id=processor.tokenizer.pad_token_id,\n",
    "    vocab_size=len(processor.tokenizer),\n",
    ")\n"
   ]
  },
  {
   "cell_type": "code",
   "execution_count": 26,
   "metadata": {},
   "outputs": [
    {
     "name": "stderr",
     "output_type": "stream",
     "text": [
      "/home/peterr/anaconda3/lib/python3.8/site-packages/setuptools/distutils_patch.py:25: UserWarning: Distutils was imported before Setuptools. This usage is discouraged and may exhibit undesirable behaviors or errors. Please use Setuptools' objects directly or at least import Setuptools first.\n",
      "  warnings.warn(\n",
      "Using amp fp16 backend\n"
     ]
    }
   ],
   "source": [
    "model.freeze_feature_extractor()\n",
    "\n",
    "from transformers import TrainingArguments\n",
    "\n",
    "training_args = TrainingArguments(\n",
    "  output_dir=\"1_exercize\",\n",
    "  group_by_length=True,\n",
    "  per_device_train_batch_size=16,\n",
    "  gradient_accumulation_steps=2,\n",
    "  evaluation_strategy=\"steps\",\n",
    "  num_train_epochs=30,\n",
    "  gradient_checkpointing=True,\n",
    "  fp16=True,\n",
    "  save_steps=400,\n",
    "  eval_steps=400,\n",
    "  logging_steps=400,\n",
    "  learning_rate=3e-4,\n",
    "  warmup_steps=500,\n",
    "  save_total_limit=2,\n",
    "  push_to_hub=False,\n",
    ")\n",
    "\n",
    "from transformers import Trainer\n",
    "\n",
    "trainer = Trainer(\n",
    "    model=model,\n",
    "    data_collator=data_collator,\n",
    "    args=training_args,\n",
    "    compute_metrics=compute_metrics,\n",
    "    train_dataset=common_voice_train,\n",
    "    eval_dataset=common_voice_test,\n",
    "    tokenizer=processor.feature_extractor,\n",
    ")"
   ]
  },
  {
   "cell_type": "code",
   "execution_count": 27,
   "metadata": {},
   "outputs": [
    {
     "name": "stderr",
     "output_type": "stream",
     "text": [
      "The following columns in the training set  don't have a corresponding argument in `Wav2Vec2ForCTC.forward` and have been ignored: input_length.\n",
      "***** Running training *****\n",
      "  Num examples = 3478\n",
      "  Num Epochs = 30\n",
      "  Instantaneous batch size per device = 16\n",
      "  Total train batch size (w. parallel, distributed & accumulation) = 32\n",
      "  Gradient Accumulation steps = 2\n",
      "  Total optimization steps = 3270\n",
      "Automatic Weights & Biases logging enabled, to disable set os.environ[\"WANDB_DISABLED\"] = \"true\"\n",
      "Failed to detect the name of this notebook, you can set it manually with the WANDB_NOTEBOOK_NAME environment variable to enable code saving.\n",
      "\u001b[34m\u001b[1mwandb\u001b[0m: Currently logged in as: \u001b[33m5roop\u001b[0m (use `wandb login --relogin` to force relogin)\n",
      "\u001b[34m\u001b[1mwandb\u001b[0m: wandb version 0.12.7 is available!  To upgrade, please run:\n",
      "\u001b[34m\u001b[1mwandb\u001b[0m:  $ pip install wandb --upgrade\n"
     ]
    },
    {
     "data": {
      "text/html": [
       "\n",
       "                    Syncing run <strong><a href=\"https://wandb.ai/5roop/huggingface/runs/5t9g9opm\" target=\"_blank\">1_exercize</a></strong> to <a href=\"https://wandb.ai/5roop/huggingface\" target=\"_blank\">Weights & Biases</a> (<a href=\"https://docs.wandb.com/integrations/jupyter.html\" target=\"_blank\">docs</a>).<br/>\n",
       "\n",
       "                "
      ],
      "text/plain": [
       "<IPython.core.display.HTML object>"
      ]
     },
     "metadata": {},
     "output_type": "display_data"
    },
    {
     "name": "stderr",
     "output_type": "stream",
     "text": [
      "/home/peterr/anaconda3/lib/python3.8/site-packages/torch/_tensor.py:575: UserWarning: floor_divide is deprecated, and will be removed in a future version of pytorch. It currently rounds toward 0 (like the 'trunc' function NOT 'floor'). This results in incorrect rounding for negative values.\n",
      "To keep the current behavior, use torch.div(a, b, rounding_mode='trunc'), or for actual floor division, use torch.div(a, b, rounding_mode='floor'). (Triggered internally at  /opt/conda/conda-bld/pytorch_1623448234945/work/aten/src/ATen/native/BinaryOps.cpp:467.)\n",
      "  return torch.floor_divide(self, other)\n"
     ]
    },
    {
     "data": {
      "text/html": [
       "\n",
       "    <div>\n",
       "      \n",
       "      <progress value='3270' max='3270' style='width:300px; height:20px; vertical-align: middle;'></progress>\n",
       "      [3270/3270 1:50:31, Epoch 30/30]\n",
       "    </div>\n",
       "    <table border=\"1\" class=\"dataframe\">\n",
       "  <thead>\n",
       "    <tr style=\"text-align: left;\">\n",
       "      <th>Step</th>\n",
       "      <th>Training Loss</th>\n",
       "      <th>Validation Loss</th>\n",
       "      <th>Wer</th>\n",
       "    </tr>\n",
       "  </thead>\n",
       "  <tbody>\n",
       "    <tr>\n",
       "      <td>400</td>\n",
       "      <td>4.956300</td>\n",
       "      <td>0.946405</td>\n",
       "      <td>0.831682</td>\n",
       "    </tr>\n",
       "    <tr>\n",
       "      <td>800</td>\n",
       "      <td>0.519700</td>\n",
       "      <td>0.504693</td>\n",
       "      <td>0.538964</td>\n",
       "    </tr>\n",
       "    <tr>\n",
       "      <td>1200</td>\n",
       "      <td>0.201000</td>\n",
       "      <td>0.474351</td>\n",
       "      <td>0.490961</td>\n",
       "    </tr>\n",
       "    <tr>\n",
       "      <td>1600</td>\n",
       "      <td>0.127500</td>\n",
       "      <td>0.515309</td>\n",
       "      <td>0.473496</td>\n",
       "    </tr>\n",
       "    <tr>\n",
       "      <td>2000</td>\n",
       "      <td>0.097200</td>\n",
       "      <td>0.488651</td>\n",
       "      <td>0.450005</td>\n",
       "    </tr>\n",
       "    <tr>\n",
       "      <td>2400</td>\n",
       "      <td>0.072200</td>\n",
       "      <td>0.482069</td>\n",
       "      <td>0.435502</td>\n",
       "    </tr>\n",
       "    <tr>\n",
       "      <td>2800</td>\n",
       "      <td>0.057500</td>\n",
       "      <td>0.472490</td>\n",
       "      <td>0.425595</td>\n",
       "    </tr>\n",
       "    <tr>\n",
       "      <td>3200</td>\n",
       "      <td>0.045000</td>\n",
       "      <td>0.463366</td>\n",
       "      <td>0.418037</td>\n",
       "    </tr>\n",
       "  </tbody>\n",
       "</table><p>"
      ],
      "text/plain": [
       "<IPython.core.display.HTML object>"
      ]
     },
     "metadata": {},
     "output_type": "display_data"
    },
    {
     "name": "stderr",
     "output_type": "stream",
     "text": [
      "/home/peterr/anaconda3/lib/python3.8/site-packages/transformers/trainer.py:1355: FutureWarning: Non-finite norm encountered in torch.nn.utils.clip_grad_norm_; continuing anyway. Note that the default behavior will change in a future release to error out if a non-finite total norm is encountered. At that point, setting error_if_nonfinite=false will be required to retain the old behavior.\n",
      "  nn.utils.clip_grad_norm_(\n",
      "The following columns in the evaluation set  don't have a corresponding argument in `Wav2Vec2ForCTC.forward` and have been ignored: input_length.\n",
      "***** Running Evaluation *****\n",
      "  Num examples = 1647\n",
      "  Batch size = 8\n",
      "Saving model checkpoint to 1_exercize/checkpoint-400\n",
      "Configuration saved in 1_exercize/checkpoint-400/config.json\n",
      "Model weights saved in 1_exercize/checkpoint-400/pytorch_model.bin\n",
      "Configuration saved in 1_exercize/checkpoint-400/preprocessor_config.json\n",
      "The following columns in the evaluation set  don't have a corresponding argument in `Wav2Vec2ForCTC.forward` and have been ignored: input_length.\n",
      "***** Running Evaluation *****\n",
      "  Num examples = 1647\n",
      "  Batch size = 8\n",
      "Saving model checkpoint to 1_exercize/checkpoint-800\n",
      "Configuration saved in 1_exercize/checkpoint-800/config.json\n",
      "Model weights saved in 1_exercize/checkpoint-800/pytorch_model.bin\n",
      "Configuration saved in 1_exercize/checkpoint-800/preprocessor_config.json\n",
      "The following columns in the evaluation set  don't have a corresponding argument in `Wav2Vec2ForCTC.forward` and have been ignored: input_length.\n",
      "***** Running Evaluation *****\n",
      "  Num examples = 1647\n",
      "  Batch size = 8\n",
      "Saving model checkpoint to 1_exercize/checkpoint-1200\n",
      "Configuration saved in 1_exercize/checkpoint-1200/config.json\n",
      "Model weights saved in 1_exercize/checkpoint-1200/pytorch_model.bin\n",
      "Configuration saved in 1_exercize/checkpoint-1200/preprocessor_config.json\n",
      "Deleting older checkpoint [1_exercize/checkpoint-400] due to args.save_total_limit\n",
      "The following columns in the evaluation set  don't have a corresponding argument in `Wav2Vec2ForCTC.forward` and have been ignored: input_length.\n",
      "***** Running Evaluation *****\n",
      "  Num examples = 1647\n",
      "  Batch size = 8\n",
      "Saving model checkpoint to 1_exercize/checkpoint-1600\n",
      "Configuration saved in 1_exercize/checkpoint-1600/config.json\n",
      "Model weights saved in 1_exercize/checkpoint-1600/pytorch_model.bin\n",
      "Configuration saved in 1_exercize/checkpoint-1600/preprocessor_config.json\n",
      "Deleting older checkpoint [1_exercize/checkpoint-800] due to args.save_total_limit\n",
      "The following columns in the evaluation set  don't have a corresponding argument in `Wav2Vec2ForCTC.forward` and have been ignored: input_length.\n",
      "***** Running Evaluation *****\n",
      "  Num examples = 1647\n",
      "  Batch size = 8\n",
      "Saving model checkpoint to 1_exercize/checkpoint-2000\n",
      "Configuration saved in 1_exercize/checkpoint-2000/config.json\n",
      "Model weights saved in 1_exercize/checkpoint-2000/pytorch_model.bin\n",
      "Configuration saved in 1_exercize/checkpoint-2000/preprocessor_config.json\n",
      "Deleting older checkpoint [1_exercize/checkpoint-1200] due to args.save_total_limit\n",
      "The following columns in the evaluation set  don't have a corresponding argument in `Wav2Vec2ForCTC.forward` and have been ignored: input_length.\n",
      "***** Running Evaluation *****\n",
      "  Num examples = 1647\n",
      "  Batch size = 8\n",
      "Saving model checkpoint to 1_exercize/checkpoint-2400\n",
      "Configuration saved in 1_exercize/checkpoint-2400/config.json\n",
      "Model weights saved in 1_exercize/checkpoint-2400/pytorch_model.bin\n",
      "Configuration saved in 1_exercize/checkpoint-2400/preprocessor_config.json\n",
      "Deleting older checkpoint [1_exercize/checkpoint-1600] due to args.save_total_limit\n",
      "The following columns in the evaluation set  don't have a corresponding argument in `Wav2Vec2ForCTC.forward` and have been ignored: input_length.\n",
      "***** Running Evaluation *****\n",
      "  Num examples = 1647\n",
      "  Batch size = 8\n",
      "Saving model checkpoint to 1_exercize/checkpoint-2800\n",
      "Configuration saved in 1_exercize/checkpoint-2800/config.json\n",
      "Model weights saved in 1_exercize/checkpoint-2800/pytorch_model.bin\n",
      "Configuration saved in 1_exercize/checkpoint-2800/preprocessor_config.json\n",
      "Deleting older checkpoint [1_exercize/checkpoint-2000] due to args.save_total_limit\n",
      "The following columns in the evaluation set  don't have a corresponding argument in `Wav2Vec2ForCTC.forward` and have been ignored: input_length.\n",
      "***** Running Evaluation *****\n",
      "  Num examples = 1647\n",
      "  Batch size = 8\n",
      "Saving model checkpoint to 1_exercize/checkpoint-3200\n",
      "Configuration saved in 1_exercize/checkpoint-3200/config.json\n",
      "Model weights saved in 1_exercize/checkpoint-3200/pytorch_model.bin\n",
      "Configuration saved in 1_exercize/checkpoint-3200/preprocessor_config.json\n",
      "Deleting older checkpoint [1_exercize/checkpoint-2400] due to args.save_total_limit\n",
      "\n",
      "\n",
      "Training completed. Do not forget to share your model on huggingface.co/models =)\n",
      "\n",
      "\n"
     ]
    },
    {
     "data": {
      "text/plain": [
       "TrainOutput(global_step=3270, training_loss=0.7442225480298383, metrics={'train_runtime': 6641.9253, 'train_samples_per_second': 15.709, 'train_steps_per_second': 0.492, 'total_flos': 1.2874808824078418e+19, 'train_loss': 0.7442225480298383, 'epoch': 30.0})"
      ]
     },
     "execution_count": 27,
     "metadata": {},
     "output_type": "execute_result"
    }
   ],
   "source": [
    "trainer.train()"
   ]
  },
  {
   "cell_type": "code",
   "execution_count": 37,
   "metadata": {},
   "outputs": [
    {
     "name": "stderr",
     "output_type": "stream",
     "text": [
      "It is strongly recommended to pass the ``sampling_rate`` argument to this function.Failing to do so can result in silent errors that might be hard to debug.\n"
     ]
    }
   ],
   "source": [
    "input_dict = processor(common_voice_test[0][\"input_values\"], return_tensors=\"pt\", padding=True)\n",
    "\n",
    "logits = model(input_dict.input_values.to(\"cuda\")).logits\n",
    "\n",
    "pred_ids = torch.argmax(logits, dim=-1)[0]"
   ]
  },
  {
   "cell_type": "code",
   "execution_count": 38,
   "metadata": {},
   "outputs": [
    {
     "name": "stderr",
     "output_type": "stream",
     "text": [
      "Using custom data configuration tr-ac779bf2c9f7c09b\n"
     ]
    },
    {
     "name": "stdout",
     "output_type": "stream",
     "text": [
      "Downloading and preparing dataset common_voice/tr (download: 592.09 MiB, generated: 2.89 MiB, post-processed: Unknown size, total: 594.98 MiB) to /home/peterr/.cache/huggingface/datasets/common_voice/tr-ac779bf2c9f7c09b/6.1.0/f7a9d973839b7706e9e281c19b7e512f31badf3c0fdbd21c671f3c4bf9acf3b9...\n"
     ]
    },
    {
     "data": {
      "application/vnd.jupyter.widget-view+json": {
       "model_id": "0f36417a28ae409a84415f4ae755ff96",
       "version_major": 2,
       "version_minor": 0
      },
      "text/plain": [
       "0 examples [00:00, ? examples/s]"
      ]
     },
     "metadata": {},
     "output_type": "display_data"
    },
    {
     "data": {
      "application/vnd.jupyter.widget-view+json": {
       "model_id": "4ef8b65b02a24d1c8aef8e8c5a6f7537",
       "version_major": 2,
       "version_minor": 0
      },
      "text/plain": [
       "0 examples [00:00, ? examples/s]"
      ]
     },
     "metadata": {},
     "output_type": "display_data"
    },
    {
     "data": {
      "application/vnd.jupyter.widget-view+json": {
       "model_id": "27641d7da5204062b0c32725b644c850",
       "version_major": 2,
       "version_minor": 0
      },
      "text/plain": [
       "0 examples [00:00, ? examples/s]"
      ]
     },
     "metadata": {},
     "output_type": "display_data"
    },
    {
     "data": {
      "application/vnd.jupyter.widget-view+json": {
       "model_id": "28113cd951764b0db9c0a7e081ddde36",
       "version_major": 2,
       "version_minor": 0
      },
      "text/plain": [
       "0 examples [00:00, ? examples/s]"
      ]
     },
     "metadata": {},
     "output_type": "display_data"
    },
    {
     "data": {
      "application/vnd.jupyter.widget-view+json": {
       "model_id": "b984b06dd8b9494bb7d01efc95b226ff",
       "version_major": 2,
       "version_minor": 0
      },
      "text/plain": [
       "0 examples [00:00, ? examples/s]"
      ]
     },
     "metadata": {},
     "output_type": "display_data"
    },
    {
     "name": "stdout",
     "output_type": "stream",
     "text": [
      "Dataset common_voice downloaded and prepared to /home/peterr/.cache/huggingface/datasets/common_voice/tr-ac779bf2c9f7c09b/6.1.0/f7a9d973839b7706e9e281c19b7e512f31badf3c0fdbd21c671f3c4bf9acf3b9. Subsequent calls will reuse this data.\n"
     ]
    }
   ],
   "source": [
    "common_voice_test_transcription = load_dataset(\"common_voice\", \"tr\", data_dir=\"./cv-corpus-6.1-2020-12-11\", split=\"test\")"
   ]
  },
  {
   "cell_type": "code",
   "execution_count": 39,
   "metadata": {},
   "outputs": [
    {
     "name": "stdout",
     "output_type": "stream",
     "text": [
      "Prediction:\n",
      "Hata küçük şeyleriçinm birbiü ebir şeyleri koğoluyoveyin iküçük şeyler için bir birmizi inciltiyoruz.\n",
      "\n",
      "Reference:\n",
      "hayatta küçük şeyleri kovalıyor ve yine küçük şeyler için birbirimizi incitiyoruz.\n"
     ]
    }
   ],
   "source": [
    "print(\"Prediction:\")\n",
    "print(processor.decode(pred_ids))\n",
    "\n",
    "print(\"\\nReference:\")\n",
    "print(common_voice_test_transcription[0][\"sentence\"].lower())"
   ]
  },
  {
   "cell_type": "code",
   "execution_count": null,
   "metadata": {},
   "outputs": [],
   "source": []
  }
 ],
 "metadata": {
  "interpreter": {
   "hash": "7f6f5766036ee03d059e365a942add07f79c17033585e9357ee8157d52fe6bb9"
  },
  "kernelspec": {
   "display_name": "Python 3.8.3 64-bit ('base': conda)",
   "language": "python",
   "name": "python3"
  },
  "language_info": {
   "codemirror_mode": {
    "name": "ipython",
    "version": 3
   },
   "file_extension": ".py",
   "mimetype": "text/x-python",
   "name": "python",
   "nbconvert_exporter": "python",
   "pygments_lexer": "ipython3",
   "version": "3.8.3"
  },
  "orig_nbformat": 4
 },
 "nbformat": 4,
 "nbformat_minor": 2
}
