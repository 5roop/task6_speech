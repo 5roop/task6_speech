{
 "cells": [
  {
   "cell_type": "code",
   "execution_count": 1,
   "metadata": {},
   "outputs": [
    {
     "name": "stderr",
     "output_type": "stream",
     "text": [
      "Special tokens have been added in the vocabulary, make sure the associated word embeddings are fine-tuned or trained.\n"
     ]
    }
   ],
   "source": [
    "from transformers import Wav2Vec2Processor, Wav2Vec2ForCTC\n",
    "from datasets import Audio\n",
    "import soundfile as sf\n",
    "import torch\n",
    "import os\n",
    "\n",
    "# load model and tokenizer\n",
    "processor = Wav2Vec2Processor.from_pretrained(\n",
    "    \"classla/wav2vec2-xls-r-sabor-hr\")\n",
    "model = Wav2Vec2ForCTC.from_pretrained(\"classla/wav2vec2-xls-r-sabor-hr\")\n",
    "\n",
    "\n",
    "# download the example wav files:\n",
    "os.system(\"curl https://huggingface.co/classla/wav2vec2-xls-r-sabor-hr/raw/main/00020570a.flac.wav\")\n",
    "\n",
    "# read the wav file as datasets.Audio object\n",
    "audio = Audio(sampling_rate=16000).decode_example(\"00020570a.flac.wav\")\n",
    "\n",
    "# remove the raw wav file\n",
    "os.system(\"rm 00020570a.flac.wav\")\n",
    "\n",
    "# tokenize\n",
    "input_values = processor(\n",
    "        audio[\"array\"],  return_tensors=\"pt\", padding=True,\n",
    "        sampling_rate=16000).input_values\n",
    "        \n",
    "# retrieve logits\n",
    "logits = model(input_values).logits\n",
    "\n",
    "# take argmax and decode\n",
    "predicted_ids = torch.argmax(logits, dim=-1)\n",
    "transcription = processor.batch_decode(predicted_ids)\n"
   ]
  },
  {
   "cell_type": "code",
   "execution_count": 2,
   "metadata": {},
   "outputs": [
    {
     "data": {
      "text/plain": [
       "['veliki broj poslovnih subjekata posluje sa minusom velik dio']"
      ]
     },
     "execution_count": 2,
     "metadata": {},
     "output_type": "execute_result"
    }
   ],
   "source": [
    "transcription"
   ]
  }
 ],
 "metadata": {
  "interpreter": {
   "hash": "7f6f5766036ee03d059e365a942add07f79c17033585e9357ee8157d52fe6bb9"
  },
  "kernelspec": {
   "display_name": "Python 3.8.3 64-bit ('base': conda)",
   "language": "python",
   "name": "python3"
  },
  "language_info": {
   "codemirror_mode": {
    "name": "ipython",
    "version": 3
   },
   "file_extension": ".py",
   "mimetype": "text/x-python",
   "name": "python",
   "nbconvert_exporter": "python",
   "pygments_lexer": "ipython3",
   "version": "3.8.3"
  },
  "orig_nbformat": 4
 },
 "nbformat": 4,
 "nbformat_minor": 2
}
