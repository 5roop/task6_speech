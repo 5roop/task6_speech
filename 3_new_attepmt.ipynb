{
    "cells": [
        {
            "cell_type": "code",
            "execution_count": 1,
            "metadata": {},
            "outputs": [
                {
                    "data": {
                        "text/plain": [
                            "<weakproxy at 0x7fc60da086d0 to Device at 0x7fc60da0b4f0>"
                        ]
                    },
                    "execution_count": 1,
                    "metadata": {},
                    "output_type": "execute_result"
                }
            ],
            "source": [
                "import torch\n",
                "from numba import cuda\n",
                "cuda.select_device(0)\n",
                "cuda.close()\n",
                "cuda.select_device(0)\n",
                "\n",
                "#torch.cuda.empty_cache()"
            ]
        },
        {
            "cell_type": "markdown",
            "metadata": {},
            "source": [
                "## Reading the transcripts"
            ]
        },
        {
            "cell_type": "code",
            "execution_count": 4,
            "metadata": {},
            "outputs": [
                {
                    "data": {
                        "text/html": [
                            "<div>\n",
                            "<style scoped>\n",
                            "    .dataframe tbody tr th:only-of-type {\n",
                            "        vertical-align: middle;\n",
                            "    }\n",
                            "\n",
                            "    .dataframe tbody tr th {\n",
                            "        vertical-align: top;\n",
                            "    }\n",
                            "\n",
                            "    .dataframe thead th {\n",
                            "        text-align: right;\n",
                            "    }\n",
                            "</style>\n",
                            "<table border=\"1\" class=\"dataframe\">\n",
                            "  <thead>\n",
                            "    <tr style=\"text-align: right;\">\n",
                            "      <th></th>\n",
                            "      <th>path</th>\n",
                            "      <th>sentence</th>\n",
                            "      <th>filesize</th>\n",
                            "    </tr>\n",
                            "  </thead>\n",
                            "  <tbody>\n",
                            "    <tr>\n",
                            "      <th>0</th>\n",
                            "      <td>/home/peterr/macocu/task6_speech/data/00000001...</td>\n",
                            "      <td>poštovane kolegice i kolege zastupnici molio b...</td>\n",
                            "      <td>249678</td>\n",
                            "    </tr>\n",
                            "    <tr>\n",
                            "      <th>1</th>\n",
                            "      <td>/home/peterr/macocu/task6_speech/data/00000002...</td>\n",
                            "      <td>prvi klub koji se javio za stanku je klub esde...</td>\n",
                            "      <td>118478</td>\n",
                            "    </tr>\n",
                            "    <tr>\n",
                            "      <th>2</th>\n",
                            "      <td>/home/peterr/macocu/task6_speech/data/00000003...</td>\n",
                            "      <td>u njihovo ime predstavnik bojan glavašević</td>\n",
                            "      <td>96078</td>\n",
                            "    </tr>\n",
                            "    <tr>\n",
                            "      <th>3</th>\n",
                            "      <td>/home/peterr/macocu/task6_speech/data/00000004...</td>\n",
                            "      <td>hvala gospodine predsjedniče</td>\n",
                            "      <td>38478</td>\n",
                            "    </tr>\n",
                            "    <tr>\n",
                            "      <th>4</th>\n",
                            "      <td>/home/peterr/macocu/task6_speech/data/00000005...</td>\n",
                            "      <td>poštovani gospodine predsjedniče hrvatskog sab...</td>\n",
                            "      <td>368078</td>\n",
                            "    </tr>\n",
                            "  </tbody>\n",
                            "</table>\n",
                            "</div>"
                        ],
                        "text/plain": [
                            "                                                path  \\\n",
                            "0  /home/peterr/macocu/task6_speech/data/00000001...   \n",
                            "1  /home/peterr/macocu/task6_speech/data/00000002...   \n",
                            "2  /home/peterr/macocu/task6_speech/data/00000003...   \n",
                            "3  /home/peterr/macocu/task6_speech/data/00000004...   \n",
                            "4  /home/peterr/macocu/task6_speech/data/00000005...   \n",
                            "\n",
                            "                                            sentence  filesize  \n",
                            "0  poštovane kolegice i kolege zastupnici molio b...    249678  \n",
                            "1  prvi klub koji se javio za stanku je klub esde...    118478  \n",
                            "2        u njihovo ime predstavnik bojan glavašević      96078  \n",
                            "3                      hvala gospodine predsjedniče      38478  \n",
                            "4  poštovani gospodine predsjedniče hrvatskog sab...    368078  "
                        ]
                    },
                    "execution_count": 4,
                    "metadata": {},
                    "output_type": "execute_result"
                }
            ],
            "source": [
                "import pandas as pd\n",
                "import numpy as np\n",
                "\n",
                "f = \"/home/nikolal/projects/parlaspeech/transcripts_normalized.txt\"\n",
                "df = pd.read_table(f, names=[\"unknown1\", \"path\", \"sentence\"],\n",
                "        #nrows=2000\n",
                "        )\n",
                "\n",
                "df[\"path\"] = \"/home/peterr/macocu/task6_speech/data/\" + \\\n",
                "    df.path.str.replace(\"flac/\", \"\") + \".wav\"\n",
                "df = df.drop(columns=\"unknown1\")\n",
                "import os\n",
                "df[\"filesize\"] = df[\"path\"].apply(os.path.getsize)\n",
                "for char in ['*', ':', ';']:\n",
                "    df[\"sentence\"] = df.sentence.str.replace(char, \"\")\n",
                "    \n",
                "df.head()\n"
            ]
        },
        {
            "cell_type": "markdown",
            "metadata": {},
            "source": [
                "## performing the train_test split"
            ]
        },
        {
            "cell_type": "code",
            "execution_count": 6,
            "metadata": {},
            "outputs": [],
            "source": [
                "from sklearn.model_selection import train_test_split\n",
                "\n",
                "common_voice_train_df, common_voice_test_df = train_test_split(df, train_size=0.8, )\n",
                "# train.loc[:,\"split\"] = \"train\"\n",
                "# test.loc[:,\"split\"] = \"test\"\n",
                "\n",
                "common_voice_train_df.reset_index(drop=True, inplace=True)\n",
                "common_voice_test_df.reset_index(drop=True, inplace=True)"
            ]
        },
        {
            "cell_type": "markdown",
            "metadata": {},
            "source": [
                "## Reading the audio file with `datasets.Audio`"
            ]
        },
        {
            "cell_type": "code",
            "execution_count": 7,
            "metadata": {},
            "outputs": [
                {
                    "name": "stderr",
                    "output_type": "stream",
                    "text": [
                        "/home/peterr/anaconda3/lib/python3.8/site-packages/pandas/core/indexing.py:845: SettingWithCopyWarning: \n",
                        "A value is trying to be set on a copy of a slice from a DataFrame.\n",
                        "Try using .loc[row_indexer,col_indexer] = value instead\n",
                        "\n",
                        "See the caveats in the documentation: https://pandas.pydata.org/pandas-docs/stable/user_guide/indexing.html#returning-a-view-versus-a-copy\n",
                        "  self.obj[key] = _infer_fill_value(value)\n",
                        "/home/peterr/anaconda3/lib/python3.8/site-packages/pandas/core/indexing.py:966: SettingWithCopyWarning: \n",
                        "A value is trying to be set on a copy of a slice from a DataFrame.\n",
                        "Try using .loc[row_indexer,col_indexer] = value instead\n",
                        "\n",
                        "See the caveats in the documentation: https://pandas.pydata.org/pandas-docs/stable/user_guide/indexing.html#returning-a-view-versus-a-copy\n",
                        "  self.obj[item] = s\n"
                    ]
                }
            ],
            "source": [
                "import datasets\n",
                "from datasets import load_dataset, load_metric, Audio\n",
                "def load_audio(path):\n",
                "    return datasets.Audio(sampling_rate=16000).decode_example(path)\n",
                "\n",
                "common_voice_train.loc[:, \"audio\"] = common_voice_train.path.apply(load_audio)\n",
                "common_voice_test.loc[:, \"audio\"] = common_voice_test.path.apply(load_audio)\n",
                "\n",
                "common_voice_train_dataset = datasets.Dataset.from_pandas(common_voice_train)\n",
                "common_voice_test_dataset = datasets.Dataset.from_pandas(common_voice_test)"
            ]
        },
        {
            "cell_type": "markdown",
            "metadata": {},
            "source": [
                "## Preparing the training pipeline"
            ]
        },
        {
            "cell_type": "code",
            "execution_count": 9,
            "metadata": {},
            "outputs": [
                {
                    "name": "stderr",
                    "output_type": "stream",
                    "text": [
                        "file ./config.json not found\n",
                        "Special tokens have been added in the vocabulary, make sure the associated word embeddings are fine-tuned or trained.\n"
                    ]
                }
            ],
            "source": [
                "from transformers import Wav2Vec2CTCTokenizer\n",
                "from transformers import Wav2Vec2FeatureExtractor\n",
                "from transformers import Wav2Vec2Processor\n",
                "\n",
                "tokenizer = Wav2Vec2CTCTokenizer.from_pretrained(\n",
                "    \"./\", unk_token=\"[UNK]\", pad_token=\"[PAD]\", word_delimiter_token=\"|\")\n",
                "\n",
                "feature_extractor = Wav2Vec2FeatureExtractor(\n",
                "    feature_size=1, sampling_rate=16000, padding_value=0.0, do_normalize=True, return_attention_mask=True)\n",
                "\n",
                "processor = Wav2Vec2Processor(\n",
                "    feature_extractor=feature_extractor, tokenizer=tokenizer)\n"
            ]
        },
          {
   "cell_type": "code",
   "execution_count": null,
   "metadata": {},
   "outputs": [],
   "source": []
  }
 ],
 "metadata": {
  "interpreter": {
   "hash": "7f6f5766036ee03d059e365a942add07f79c17033585e9357ee8157d52fe6bb9"
  },
  "kernelspec": {
   "display_name": "Python 3.8.3 64-bit ('base': conda)",
   "language": "python",
   "name": "python3"
  },
  "language_info": {
   "codemirror_mode": {
    "name": "ipython",
    "version": 3
   },
   "file_extension": ".py",
   "mimetype": "text/x-python",
   "name": "python",
   "nbconvert_exporter": "python",
   "pygments_lexer": "ipython3",
   "version": "3.8.3"
  },
  "orig_nbformat": 4
 },
 "nbformat": 4,
 "nbformat_minor": 2
}